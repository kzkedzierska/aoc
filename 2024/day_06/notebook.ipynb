{
 "cells": [
  {
   "cell_type": "raw",
   "metadata": {
    "vscode": {
     "languageId": "raw"
    }
   },
   "source": [
    "---\n",
    "title: \"Day 6: Guard Gallivant\"\n",
    "author: \"Kasia Kedzierska\"\n",
    "date: December 06, 2024\n",
    "date-modified: last-modified\n",
    "format:\n",
    "  html:\n",
    "    theme: sketchy\n",
    "    css: misc/custom.css\n",
    "    code-fold: false\n",
    "    embed-resources: true\n",
    "    toc: true\n",
    "jupyter: python3\n",
    "---"
   ]
  },
  {
   "cell_type": "markdown",
   "metadata": {},
   "source": [
    "In today's puzzle we time travel (sic!) to the year 1518 where we need to avoid the guard. She, the guard, has a very organized way of moving and using those rules, we need to find the best way to avoid her. To read the full puzzle, check out the [AoC 2024 Day 6 puzzle](https://adventofcode.com/2024/day/6).\n",
    "\n",
    "And here's how Chatty, with my instructions, envisions the 1518 elf world:\n",
    "\n"
   ]
  },
  {
   "cell_type": "markdown",
   "metadata": {},
   "source": [
    "## Part 1: Mapping guards "
   ]
  },
  {
   "cell_type": "code",
   "execution_count": 1,
   "metadata": {},
   "outputs": [
    {
     "data": {
      "text/plain": [
       "(array([[1, 1, 0, 1],\n",
       "        [0, 1, 1, 0],\n",
       "        [1, 1, 1, 1]]),\n",
       " array([1, 2]),\n",
       " array([-1,  0]))"
      ]
     },
     "execution_count": 1,
     "metadata": {},
     "output_type": "execute_result"
    }
   ],
   "source": [
    "from pathlib import Path\n",
    "import numpy as np\n",
    "\n",
    "from typing import List, Tuple\n",
    "\n",
    "tiny_example = \"\"\"\n",
    "..#.\n",
    "#.^#\n",
    "....\n",
    "\"\"\"\n",
    "\n",
    "\n",
    "def parse_input(input) -> Tuple[np.ndarray, Tuple[int, int], np.ndarray]:\n",
    "    if Path(input).exists():\n",
    "        with open(input, \"r\") as f:\n",
    "            input = f.read()\n",
    "\n",
    "    output_grid = []\n",
    "    guard = ()\n",
    "\n",
    "    guard_dir = {\"^\": [-1, 0], \">\": [0, 1], \"v\": [1, 0], \"<\": [0, -1]}\n",
    "    guard_dir = {k: np.array(v) for k, v in guard_dir.items()}\n",
    "\n",
    "    for i, line in enumerate(input.strip().split(\"\\n\")):\n",
    "        # check for guard\n",
    "        output_grid.append([1 for _ in range(len(line))])\n",
    "        for j, char in enumerate(line):\n",
    "            if char not in [\".\", \"#\"]:\n",
    "                if guard:\n",
    "                    raise ValueError(\n",
    "                        f\"Multiple guards found at {guard} and {i, j}\"\n",
    "                    )\n",
    "                guard = (i, j)\n",
    "                guard_direction = guard_dir[char]\n",
    "            elif char == \"#\":\n",
    "                output_grid[i][j] = 0\n",
    "    return np.array(output_grid), np.array(guard), guard_direction\n",
    "\n",
    "\n",
    "parse_input(tiny_example)"
   ]
  },
  {
   "cell_type": "code",
   "execution_count": 2,
   "metadata": {},
   "outputs": [
    {
     "data": {
      "text/plain": [
       "2"
      ]
     },
     "execution_count": 2,
     "metadata": {},
     "output_type": "execute_result"
    }
   ],
   "source": [
    "def guard_walk(\n",
    "    grid: np.ndarray,\n",
    "    guard_position: np.ndarray | list,\n",
    "    guard_direction: np.ndarray | list,\n",
    "):\n",
    "    max_x, max_y = grid.shape\n",
    "    visited = set()\n",
    "    rot = np.array([[0, -1], [1, 0]])\n",
    "    while True:\n",
    "        visited.add(tuple(guard_position))\n",
    "        # given the guard direction, check the next step\n",
    "        next_step = guard_position + guard_direction\n",
    "        # print(f\"guards position: {guard_position}, next step: {next_step}\")\n",
    "        # check if next step is out of bounds\n",
    "        if (\n",
    "            next_step[0] < 0\n",
    "            or next_step[0] >= max_x\n",
    "            or next_step[1] < 0\n",
    "            or next_step[1] >= max_y\n",
    "        ):\n",
    "            # finished walking\n",
    "            return visited\n",
    "        # print(f\"next vaalue: {grid[next_step[0], next_step[1]]}\")\n",
    "        # check if next step is a wall\n",
    "        if grid[next_step[0], next_step[1]] == 0:\n",
    "            # rotate direction by 90 degrees right\n",
    "            guard_direction = guard_direction @ rot\n",
    "\n",
    "        else:\n",
    "            # move to next step\n",
    "            guard_position = next_step\n",
    "\n",
    "\n",
    "len(guard_walk(*parse_input(tiny_example)))"
   ]
  },
  {
   "cell_type": "code",
   "execution_count": 3,
   "metadata": {},
   "outputs": [
    {
     "data": {
      "text/plain": [
       "41"
      ]
     },
     "execution_count": 3,
     "metadata": {},
     "output_type": "execute_result"
    }
   ],
   "source": [
    "len(guard_walk(*parse_input(\"../inputs/example_day_06.txt\")))"
   ]
  },
  {
   "cell_type": "code",
   "execution_count": 4,
   "metadata": {},
   "outputs": [
    {
     "name": "stdout",
     "output_type": "stream",
     "text": [
      "CPU times: user 7.96 ms, sys: 825 μs, total: 8.79 ms\n",
      "Wall time: 15.5 ms\n"
     ]
    },
    {
     "data": {
      "text/plain": [
       "4454"
      ]
     },
     "execution_count": 4,
     "metadata": {},
     "output_type": "execute_result"
    }
   ],
   "source": [
    "%time len(guard_walk(*parse_input(\"../inputs/day_06.txt\")))"
   ]
  },
  {
   "cell_type": "markdown",
   "metadata": {},
   "source": [
    "## Part 2: Trap the guard\n",
    "\n",
    "In this task we need to trap the guard in a infinite loop. \n",
    "\n"
   ]
  },
  {
   "cell_type": "code",
   "execution_count": 5,
   "metadata": {},
   "outputs": [],
   "source": [
    "# if the guard visits start again with the same direction, that means it's a loop\n",
    "# i need to keep track of the original direction and starting position"
   ]
  },
  {
   "cell_type": "code",
   "execution_count": 6,
   "metadata": {},
   "outputs": [],
   "source": [
    "g, p, d = parse_input(\"../inputs/example_day_06.txt\")"
   ]
  },
  {
   "cell_type": "code",
   "execution_count": 7,
   "metadata": {},
   "outputs": [
    {
     "name": "stdout",
     "output_type": "stream",
     "text": [
      "....X.....\n",
      ".........X\n",
      "..........\n",
      "..X.......\n",
      ".......X..\n",
      "..........\n",
      ".X..^.....\n",
      "........X.\n",
      "X.........\n",
      "......X...\n"
     ]
    }
   ],
   "source": [
    "def print_grid(grid, guard=np.array([]), dr=np.array([])):\n",
    "    d_ = {1: \".\", 0: \"X\"}\n",
    "    guard_dir = {\"^\": [-1, 0], \">\": [0, 1], \"v\": [1, 0], \"<\": [0, -1]}\n",
    "    rev_guard_dir = {tuple(v): k for k, v in guard_dir.items()}\n",
    "    if len(guard) > 0:\n",
    "        symb = rev_guard_dir[tuple(dr)]\n",
    "    for i, row in enumerate(grid):\n",
    "        row_ = [d_[i] for i in row]\n",
    "        if symb and i == guard[0]:\n",
    "            row_[guard[1]] = symb\n",
    "        print(\"\".join(row_))\n",
    "\n",
    "\n",
    "print_grid(g, guard=p, dr=d)"
   ]
  },
  {
   "cell_type": "code",
   "execution_count": 27,
   "metadata": {},
   "outputs": [],
   "source": [
    "def move(position, direction, visited, grid, obstacle_inserted=False):\n",
    "    rot = np.array([[0, -1], [1, 0]])\n",
    "    new_position = position + direction\n",
    "    z = [\n",
    "        np.array_equal(direction, d)\n",
    "        for d in visited.get(tuple(new_position), [])\n",
    "    ]\n",
    "    if any(new_position >= grid.shape) or any(new_position < 0):\n",
    "        return 0\n",
    "    \n",
    "    elif any(z):\n",
    "        return 1\n",
    "\n",
    "    elif grid[new_position[0], new_position[1]] == 0:\n",
    "        return move(position, direction @ rot, visited, grid, obstacle_inserted)\n",
    "\n",
    "    elif grid[new_position[0], new_position[1]] == 1 and obstacle_inserted:\n",
    "        # already inserted an obstacle, so no inserting, just drifting\n",
    "        return move(new_position, direction, visited, grid, obstacle_inserted)\n",
    "\n",
    "    else:  # not inserted, so we will split between inserting and not inserting\n",
    "        # if not inserted\n",
    "        not_inserted_visited = visited.copy()\n",
    "\n",
    "        if not any([np.array_equal(direction, d) for d in z]):\n",
    "            z.append(direction)\n",
    "\n",
    "        not_inserted_visited[(int(new_position[0]), int(new_position[1]))] = z\n",
    "\n",
    "        new_grid = grid.copy()\n",
    "        new_grid[new_position[0], new_position[1]] = 0\n",
    "        # if inserted, then return the same, but insert obstacle at the grid next_position\n",
    "        return move(\n",
    "            new_position,\n",
    "            direction,\n",
    "            not_inserted_visited,\n",
    "            grid,\n",
    "            obstacle_inserted,\n",
    "        ) + move(position, direction, visited, new_grid, obstacle_inserted=True)"
   ]
  },
  {
   "cell_type": "code",
   "execution_count": 28,
   "metadata": {},
   "outputs": [
    {
     "data": {
      "text/plain": [
       "6"
      ]
     },
     "execution_count": 28,
     "metadata": {},
     "output_type": "execute_result"
    }
   ],
   "source": [
    "move(p, d, {}, g)"
   ]
  },
  {
   "cell_type": "code",
   "execution_count": 13,
   "metadata": {},
   "outputs": [
    {
     "data": {
      "text/plain": [
       "6"
      ]
     },
     "execution_count": 13,
     "metadata": {},
     "output_type": "execute_result"
    }
   ],
   "source": [
    "def part_two(input):\n",
    "    g, p, d = parse_input(input)\n",
    "    return move(p, d, {}, g)\n",
    "\n",
    "part_two(\"../inputs/example_day_06.txt\")"
   ]
  }
 ],
 "metadata": {
  "kernelspec": {
   "display_name": "aoc2024",
   "language": "python",
   "name": "python3"
  },
  "language_info": {
   "codemirror_mode": {
    "name": "ipython",
    "version": 3
   },
   "file_extension": ".py",
   "mimetype": "text/x-python",
   "name": "python",
   "nbconvert_exporter": "python",
   "pygments_lexer": "ipython3",
   "version": "3.13.0"
  }
 },
 "nbformat": 4,
 "nbformat_minor": 2
}
