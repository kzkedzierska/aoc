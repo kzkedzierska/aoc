{
 "cells": [
  {
   "cell_type": "raw",
   "metadata": {
    "vscode": {
     "languageId": "raw"
    }
   },
   "source": [
    "---\n",
    "title: \"Day 5: Print Queue\"\n",
    "author: \"Kasia Kedzierska\"\n",
    "date: December 05, 2024\n",
    "format:\n",
    "  html:\n",
    "    theme: sketchy\n",
    "    css: misc/custom.css\n",
    "    code-fold: false\n",
    "    embed-resources: true\n",
    "    toc: true\n",
    "jupyter: python3\n",
    "---"
   ]
  },
  {
   "cell_type": "markdown",
   "metadata": {},
   "source": [
    "In today's task we need to help Elves working in the printer room. They, as per usual, use a very convoluted way to do things and we need to help them figure out which updates are correct. Check out the full back story and problem setup on the official [Day 5 of Advent of Code 2024](https://adventofcode.com/2024/day/5) website.\n",
    "\n",
    "And here's the ChatGPT generated graphic to get us started:\n",
    "\n",
    "![](chatgpt_image.webp){width=75% fig-align=\"center\"}"
   ]
  },
  {
   "cell_type": "markdown",
   "metadata": {},
   "source": [
    "## Part 1: Determining correct sequences\n",
    "\n",
    "The first part of the task involves identifying the correct sequence of pages based on a set of given rules. The input consists of two sections:\n",
    "\n",
    "1. **Page Order Instructions**: We are provided with a series of strings in the format `X|Y`, where `X` represents a page number, and `Y` is the page number that must follow `X` (not necessarily directly). These rules define the proper sequence of pages.  \n",
    "\n",
    "2. **Page Updates**: In this section, a list of page updates is given, each represented as a sequence of page numbers (e.g., `X, Z, Y, B`). Our objective is to verify whether each update adheres to the rules specified in the first section.  \n",
    "\n",
    "Finally, for all updates that satisfy the rules, we identify the middle page number in each valid sequence and compute the sum of these middle values."
   ]
  },
  {
   "cell_type": "markdown",
   "metadata": {},
   "source": [
    "::: {.callout-note collapse=\"true\" title=\"Setting up\"}"
   ]
  },
  {
   "cell_type": "code",
   "execution_count": 1,
   "metadata": {},
   "outputs": [],
   "source": [
    "from misc.helper import verify_answer\n",
    "\n",
    "example_input_file = \"../inputs/example_day_05.txt\"\n",
    "input_file = \"../inputs/day_05.txt\""
   ]
  },
  {
   "cell_type": "markdown",
   "metadata": {},
   "source": [
    ":::"
   ]
  },
  {
   "cell_type": "code",
   "execution_count": 2,
   "metadata": {},
   "outputs": [
    {
     "data": {
      "text/plain": [
       "({0: [1, 6], 3: [4]}, [[1, 2, 3], [6, 1, 0]])"
      ]
     },
     "execution_count": 2,
     "metadata": {},
     "output_type": "execute_result"
    }
   ],
   "source": [
    "from pathlib import Path\n",
    "from typing import Tuple\n",
    "\n",
    "\n",
    "def parse_input(input) -> Tuple[dict[int: int], list[int]]:\n",
    "    if Path(input).exists():\n",
    "        with open(input, \"r\") as file:\n",
    "            input = file.read()\n",
    "\n",
    "    rules = {}\n",
    "    updates = []\n",
    "\n",
    "    for line in input.splitlines():\n",
    "        line = line.strip()\n",
    "        if line == \"\":\n",
    "            continue\n",
    "        if \"|\" in line:\n",
    "            b, a = map(int, line.split(\"|\"))\n",
    "            rules[b] = rules.get(b, []) + [a]\n",
    "        else:\n",
    "            updates.append(list(map(int, line.split(\",\"))))\n",
    "\n",
    "    return rules, updates\n",
    "\n",
    "small_example = \"\"\"\n",
    "0|1\n",
    "3|4\n",
    "0|6\n",
    "\n",
    "1,2,3\n",
    "6,1,0\n",
    "\"\"\"\n",
    "parse_input(small_example)"
   ]
  },
  {
   "cell_type": "code",
   "execution_count": 3,
   "metadata": {},
   "outputs": [
    {
     "data": {
      "text/plain": [
       "[[1, 2, 3]]"
      ]
     },
     "execution_count": 3,
     "metadata": {},
     "output_type": "execute_result"
    }
   ],
   "source": [
    "def check_correctness(rules, updates):\n",
    "    def is_correct(update):\n",
    "        for i in range(len(update)):\n",
    "            test_value = rules.get(update[i], [])\n",
    "            for value in test_value:\n",
    "                if value in update[:i]:\n",
    "                    return False\n",
    "        return True\n",
    "\n",
    "    return [update for update in updates if is_correct(update)]\n",
    "\n",
    "\n",
    "check_correctness(*parse_input(small_example))"
   ]
  },
  {
   "cell_type": "code",
   "execution_count": 4,
   "metadata": {},
   "outputs": [],
   "source": [
    "def get_middle_value(seq) -> int:\n",
    "    return seq[len(seq) // 2]\n",
    "\n",
    "\n",
    "def part_one(input):\n",
    "    rules, updates = parse_input(input)\n",
    "    correct_updates = check_correctness(rules, updates)\n",
    "    middle_values = [get_middle_value(update) for update in correct_updates]\n",
    "    return sum(middle_values)"
   ]
  },
  {
   "cell_type": "code",
   "execution_count": 5,
   "metadata": {},
   "outputs": [
    {
     "name": "stdout",
     "output_type": "stream",
     "text": [
      "✔️ That's right! The answer is 143.\n"
     ]
    }
   ],
   "source": [
    "verify_answer(part_one, example_input_file, 143)"
   ]
  },
  {
   "cell_type": "code",
   "execution_count": 6,
   "metadata": {},
   "outputs": [
    {
     "name": "stdout",
     "output_type": "stream",
     "text": [
      "CPU times: user 5.27 ms, sys: 307 μs, total: 5.58 ms\n",
      "Wall time: 7.58 ms\n"
     ]
    },
    {
     "data": {
      "text/plain": [
       "4281"
      ]
     },
     "execution_count": 6,
     "metadata": {},
     "output_type": "execute_result"
    }
   ],
   "source": [
    "%time part_one(input_file)"
   ]
  },
  {
   "cell_type": "markdown",
   "metadata": {},
   "source": [
    "> That's the right answer! You are one gold star ⭐ closer to finding the Chief Historian."
   ]
  },
  {
   "cell_type": "markdown",
   "metadata": {},
   "source": [
    "## Part 2: Fixing the weird printer\n",
    "\n",
    "In this part, we need to fix the sequences according to the rules. I first tried a solution with a graph, but this wasn't working since the rules are not a DAG (as was also noticed by [u/timrprobocom](https://www.reddit.com/r/adventofcode/comments/1h73c98/2024_day_5_rules_are_not_a_dag/)). Instead, I decided to implement a solution that would iteratively fix the sequence by popping the offending value to the right of the tested one. "
   ]
  },
  {
   "cell_type": "markdown",
   "metadata": {},
   "source": [
    "First, I need to identify the incorrect sequences."
   ]
  },
  {
   "cell_type": "code",
   "execution_count": 7,
   "metadata": {},
   "outputs": [
    {
     "data": {
      "text/plain": [
       "[[75, 97, 47, 61, 53], [61, 13, 29], [97, 13, 75, 29, 47]]"
      ]
     },
     "execution_count": 7,
     "metadata": {},
     "output_type": "execute_result"
    }
   ],
   "source": [
    "def check_incorrectness(rules, updates):\n",
    "    def is_incorrect(update):\n",
    "        for i in range(len(update)):\n",
    "            test_values = rules.get(update[i], [])\n",
    "            for value in test_values:\n",
    "                if value in update[:i]:\n",
    "                    return True\n",
    "        return False\n",
    "\n",
    "    return [update for update in updates if is_incorrect(update)]\n",
    "\n",
    "\n",
    "check_incorrectness(*parse_input(example_input_file))"
   ]
  },
  {
   "cell_type": "markdown",
   "metadata": {},
   "source": [
    "And then implement fixing the sequences by moving the offending value to the right of the tested one."
   ]
  },
  {
   "cell_type": "code",
   "execution_count": 8,
   "metadata": {},
   "outputs": [
    {
     "data": {
      "text/plain": [
       "[2, 1, 0]"
      ]
     },
     "execution_count": 8,
     "metadata": {},
     "output_type": "execute_result"
    }
   ],
   "source": [
    "def fix_sequence(rules: dict, sequence):\n",
    "    while True:\n",
    "        made_changes = False\n",
    "\n",
    "        for i in range(len(sequence)):\n",
    "            checks = rules.get(sequence[i], [])\n",
    "            for check in checks:\n",
    "                if check in sequence[:i]:\n",
    "                    check_index = sequence.index(check)\n",
    "                    offending_value = sequence.pop(check_index)\n",
    "                    sequence.insert(i, offending_value)\n",
    "                    made_changes = True\n",
    "                    break\n",
    "\n",
    "            if made_changes:\n",
    "                break\n",
    "\n",
    "        if not made_changes:\n",
    "            break\n",
    "\n",
    "    return sequence\n",
    "\n",
    "\n",
    "fix_sequence({1: [0], 2: [1, 0]}, [2, 0, 1])"
   ]
  },
  {
   "cell_type": "code",
   "execution_count": 9,
   "metadata": {},
   "outputs": [],
   "source": [
    "def part_two(input):\n",
    "    rules, updates = parse_input(input)\n",
    "    incorrect_updates = check_incorrectness(rules, updates)\n",
    "    fixed_updates = [\n",
    "        fix_sequence(rules, update) for update in incorrect_updates\n",
    "    ]\n",
    "\n",
    "    return sum(get_middle_value(update) for update in fixed_updates)"
   ]
  },
  {
   "cell_type": "code",
   "execution_count": 10,
   "metadata": {},
   "outputs": [
    {
     "name": "stdout",
     "output_type": "stream",
     "text": [
      "✔️ That's right! The answer is 123.\n"
     ]
    }
   ],
   "source": [
    "verify_answer(part_two, example_input_file, 123)"
   ]
  },
  {
   "cell_type": "code",
   "execution_count": 11,
   "metadata": {},
   "outputs": [
    {
     "name": "stdout",
     "output_type": "stream",
     "text": [
      "CPU times: user 730 ms, sys: 7.03 ms, total: 737 ms\n",
      "Wall time: 790 ms\n"
     ]
    },
    {
     "data": {
      "text/plain": [
       "5466"
      ]
     },
     "execution_count": 11,
     "metadata": {},
     "output_type": "execute_result"
    }
   ],
   "source": [
    "%time part_two(input_file)"
   ]
  },
  {
   "cell_type": "markdown",
   "metadata": {},
   "source": [
    "> That's the right answer! You are one gold star ⭐ closer to finding the Chief Historian."
   ]
  }
 ],
 "metadata": {
  "kernelspec": {
   "display_name": "aoc2024",
   "language": "python",
   "name": "python3"
  },
  "language_info": {
   "codemirror_mode": {
    "name": "ipython",
    "version": 3
   },
   "file_extension": ".py",
   "mimetype": "text/x-python",
   "name": "python",
   "nbconvert_exporter": "python",
   "pygments_lexer": "ipython3",
   "version": "3.13.0"
  }
 },
 "nbformat": 4,
 "nbformat_minor": 2
}
