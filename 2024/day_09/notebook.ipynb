{
 "cells": [
  {
   "cell_type": "raw",
   "metadata": {
    "vscode": {
     "languageId": "raw"
    }
   },
   "source": [
    "---\n",
    "title: 'Day 9'\n",
    "author: \"Kasia Kedzierska\"\n",
    "date: December 13, 2024\n",
    "date-modified: last-modified\n",
    "format:\n",
    "  html:\n",
    "    theme: sketchy\n",
    "    css: misc/custom.css\n",
    "    code-fold: false\n",
    "    embed-resources: true\n",
    "    toc: true\n",
    "jupyter: python3\n",
    "---"
   ]
  },
  {
   "cell_type": "markdown",
   "metadata": {},
   "source": []
  },
  {
   "cell_type": "code",
   "execution_count": null,
   "metadata": {},
   "outputs": [],
   "source": []
  },
  {
   "cell_type": "markdown",
   "metadata": {},
   "source": [
    "`12345`\n",
    "\n",
    "```\n",
    "0..111....22222\n",
    "02.111....2222.\n",
    "022111....222..\n",
    "0221112...22...\n",
    "02211122..2....\n",
    "022111222......\n",
    "```\n",
    "\n",
    "The output here \n",
    "\n",
    "`0*0 + 1*2 + 2*2 + 3*1 + 4*1 + 5*1 + 6*2 + 7*2 + 8*2 = 60`"
   ]
  },
  {
   "cell_type": "code",
   "execution_count": 1,
   "metadata": {},
   "outputs": [
    {
     "data": {
      "text/plain": [
       "[0, -1, -1, 1, 1, 1, -1, -1, -1, -1, 2, 2, 2, 2, 2]"
      ]
     },
     "execution_count": 1,
     "metadata": {},
     "output_type": "execute_result"
    }
   ],
   "source": [
    "def read_input(input):\n",
    "    \"\"\"Reads input and returns expanded list\"\"\"\n",
    "    file_id = 0\n",
    "    files = []\n",
    "    for i, el in enumerate(input):\n",
    "        if i % 2 == 0:\n",
    "            files.extend([file_id] * int(el))\n",
    "            file_id += 1\n",
    "        else:\n",
    "            files.extend([-1] * int(el))\n",
    "    \n",
    "    return files\n",
    "\n",
    "read_input(\"12345\")\n"
   ]
  },
  {
   "cell_type": "code",
   "execution_count": 2,
   "metadata": {},
   "outputs": [
    {
     "data": {
      "text/plain": [
       "[0, 1, 2]"
      ]
     },
     "execution_count": 2,
     "metadata": {},
     "output_type": "execute_result"
    }
   ],
   "source": [
    "[0, 1, 2, 3, 4][:3]"
   ]
  },
  {
   "cell_type": "code",
   "execution_count": 26,
   "metadata": {},
   "outputs": [
    {
     "data": {
      "text/plain": [
       "[0, 2, 2, 1, 1, 1, 2, 2, 2]"
      ]
     },
     "execution_count": 26,
     "metadata": {},
     "output_type": "execute_result"
    }
   ],
   "source": [
    "def sort_files(files):\n",
    "    \"\"\"Populates the free space with most right files, returns the dense list\"\"\"\n",
    "    new_end = len(files) - 1\n",
    "    for i, el in enumerate(files):\n",
    "        if i == new_end:\n",
    "            if files[new_end] == -1:\n",
    "                while True:\n",
    "                    new_end -= 1\n",
    "                    if files[new_end] != -1:\n",
    "                        break\n",
    "            break\n",
    "        if el == -1:\n",
    "            if files[new_end] == -1:\n",
    "                while True:\n",
    "                    new_end -= 1\n",
    "                    if files[new_end] != -1:\n",
    "                        break\n",
    "            if new_end < i:\n",
    "                break\n",
    "            files[i] = files[new_end]\n",
    "            new_end -= 1\n",
    "    return files[: (new_end + 1)]\n",
    "\n",
    "\n",
    "sort_files(read_input(\"12345\"))"
   ]
  },
  {
   "cell_type": "code",
   "execution_count": 27,
   "metadata": {},
   "outputs": [
    {
     "data": {
      "text/plain": [
       "60"
      ]
     },
     "execution_count": 27,
     "metadata": {},
     "output_type": "execute_result"
    }
   ],
   "source": [
    "def calc_checksum(files):\n",
    "    checksum = 0\n",
    "    for i, el in enumerate(files):\n",
    "        if el > 0:\n",
    "            checksum += i * el\n",
    "\n",
    "    return checksum\n",
    "\n",
    "calc_checksum(sort_files(read_input(\"12345\")))\n"
   ]
  },
  {
   "cell_type": "code",
   "execution_count": 31,
   "metadata": {},
   "outputs": [
    {
     "data": {
      "text/plain": [
       "60"
      ]
     },
     "execution_count": 31,
     "metadata": {},
     "output_type": "execute_result"
    }
   ],
   "source": [
    "from pathlib import Path\n",
    "def part_one(input):\n",
    "    if Path(input).exists():\n",
    "        with open(input) as f:\n",
    "            input = f.read().strip()\n",
    "\n",
    "    files = read_input(input)\n",
    "\n",
    "    files = sort_files(files)\n",
    "    return calc_checksum(files)\n",
    "\n",
    "part_one(\"12345\")"
   ]
  },
  {
   "cell_type": "code",
   "execution_count": 32,
   "metadata": {},
   "outputs": [
    {
     "data": {
      "text/plain": [
       "[0, 0, 0]"
      ]
     },
     "execution_count": 32,
     "metadata": {},
     "output_type": "execute_result"
    }
   ],
   "source": [
    "sort_files(read_input(\"32\"))"
   ]
  },
  {
   "cell_type": "code",
   "execution_count": 33,
   "metadata": {},
   "outputs": [
    {
     "data": {
      "text/plain": [
       "1928"
      ]
     },
     "execution_count": 33,
     "metadata": {},
     "output_type": "execute_result"
    }
   ],
   "source": [
    "part_one(\"2333133121414131402\")"
   ]
  },
  {
   "cell_type": "code",
   "execution_count": 34,
   "metadata": {},
   "outputs": [
    {
     "data": {
      "text/plain": [
       "6390180901651"
      ]
     },
     "execution_count": 34,
     "metadata": {},
     "output_type": "execute_result"
    }
   ],
   "source": [
    "part_one(\"../inputs/day_09.txt\")"
   ]
  }
 ],
 "metadata": {
  "kernelspec": {
   "display_name": "aoc2024",
   "language": "python",
   "name": "python3"
  },
  "language_info": {
   "codemirror_mode": {
    "name": "ipython",
    "version": 3
   },
   "file_extension": ".py",
   "mimetype": "text/x-python",
   "name": "python",
   "nbconvert_exporter": "python",
   "pygments_lexer": "ipython3",
   "version": "3.13.0"
  }
 },
 "nbformat": 4,
 "nbformat_minor": 2
}
