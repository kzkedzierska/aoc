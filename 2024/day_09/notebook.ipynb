{
 "cells": [
  {
   "cell_type": "raw",
   "metadata": {
    "vscode": {
     "languageId": "raw"
    }
   },
   "source": [
    "---\n",
    "title: 'Day 9'\n",
    "author: \"Kasia Kedzierska\"\n",
    "date: December 13, 2024\n",
    "date-modified: last-modified\n",
    "format:\n",
    "  html:\n",
    "    theme: sketchy\n",
    "    css: misc/custom.css\n",
    "    code-fold: false\n",
    "    embed-resources: true\n",
    "    toc: true\n",
    "jupyter: python3\n",
    "---"
   ]
  },
  {
   "cell_type": "markdown",
   "metadata": {},
   "source": [
    "In today's task we are helping an amphipod with their computer! And we're tasked with disk fragmentation nonetheless. Check out the full back story and problem setup on the official [Day 9 of Advent of Code 2024](https://adventofcode.com/2024/day/9) website.\n",
    "\n",
    "And here's the ChatGPT generated graphic of how the elves are traveling in their submarine to get us started:\n",
    "\n",
    "![](chatgpt_image.webp){width=75% fig-align=\"center\"}"
   ]
  },
  {
   "cell_type": "markdown",
   "metadata": {},
   "source": [
    "::: {.callout-note collapse=\"true\" title=\"Setting up\"}"
   ]
  },
  {
   "cell_type": "code",
   "execution_count": 1,
   "metadata": {},
   "outputs": [],
   "source": [
    "from misc.helper import verify_answer\n",
    "\n",
    "example_input_file = \"../inputs/example_day_09.txt\"\n",
    "input_file = \"../inputs/day_09.txt\""
   ]
  },
  {
   "cell_type": "markdown",
   "metadata": {},
   "source": [
    ":::"
   ]
  },
  {
   "cell_type": "markdown",
   "metadata": {},
   "source": [
    "## Part 1: Fragmentation 101"
   ]
  },
  {
   "cell_type": "markdown",
   "metadata": {},
   "source": [
    "For the compact string of `1343212`, we will get the following notation -- `0...1111...22.33`. The dots represent the empty spaces. The numbers represent the file IDs. Our task here is move all files into the empty positions (the files can be fragmented, they should fill all the blanks). We should start filling the space by moving the files from the rightmost position to the first leftmost position available (i.e. move the files from the end to the closest to star empty space). \n",
    "\n",
    "```\n",
    "start:   0...1111...22.33\n",
    "step 1:  03..1111...22.3.\n",
    "step 2:  033.1111...22...\n",
    "step 3:  03321111...2....\n",
    "finally: 033211112.......\n",
    "```\n",
    "\n",
    "The output of the function is the sum of the products of the file ID and its current position. In this case, the output is `0*0 + 1*3 + 2*3 + 3*2 + 4*1 + 5*1 + 6*1 + 7*1 + 8*2 = 53`."
   ]
  },
  {
   "cell_type": "markdown",
   "metadata": {},
   "source": [
    "I will start by reading the input and creating a list of the positions on the drive, the files will be represented by their ID and empthy space will be represented by `-1`."
   ]
  },
  {
   "cell_type": "code",
   "execution_count": 2,
   "metadata": {},
   "outputs": [
    {
     "data": {
      "text/plain": [
       "[0, -1, -1, -1, 1, 1, 1, 1, -1, -1, -1, 2, 2, -1, 3, 3]"
      ]
     },
     "execution_count": 2,
     "metadata": {},
     "output_type": "execute_result"
    }
   ],
   "source": [
    "def read_input(input):\n",
    "    \"\"\"Reads input and returns expanded list\"\"\"\n",
    "    file_id = 0\n",
    "    files = []\n",
    "    for i, el in enumerate(input):\n",
    "        if i % 2 == 0:\n",
    "            files.extend([file_id] * int(el))\n",
    "            file_id += 1\n",
    "        else:\n",
    "            files.extend([-1] * int(el))\n",
    "\n",
    "    return files\n",
    "\n",
    "\n",
    "read_input(\"1343212\")"
   ]
  },
  {
   "cell_type": "markdown",
   "metadata": {},
   "source": [
    "Then, I will sort the files by populating all empty spaces. Here, I am iterating over the files from the beginning. If I encounter an empty space, I go to the end of the list and find the rightmost file (if I encounter an empty space, I move my \"end\" pointer to the space before until I encounter new file). I then move that file into the empty space. I repeat this process until I reach the end of the list."
   ]
  },
  {
   "cell_type": "code",
   "execution_count": 3,
   "metadata": {},
   "outputs": [
    {
     "data": {
      "text/plain": [
       "[0, 3, 3, 2, 1, 1, 1, 1, 2]"
      ]
     },
     "execution_count": 3,
     "metadata": {},
     "output_type": "execute_result"
    }
   ],
   "source": [
    "def sort_files(files):\n",
    "    \"\"\"Populates the free space with most right files, returns the dense list\"\"\"\n",
    "    new_end = len(files) - 1\n",
    "    for i, el in enumerate(files):\n",
    "        if i == new_end:\n",
    "            break\n",
    "        if el == -1:\n",
    "            while new_end > i and files[new_end] == -1:\n",
    "                new_end -= 1\n",
    "            if new_end >= i:\n",
    "                files[i], files[new_end] = files[new_end], files[i]\n",
    "                new_end -= 1\n",
    "    return files[: (new_end + 1)]\n",
    "\n",
    "sort_files([0, -1, -1, -1, 1, 1, 1, 1, -1, -1, -1, 2, 2, -1, 3, 3])"
   ]
  },
  {
   "cell_type": "markdown",
   "metadata": {},
   "source": [
    "Then, I calculate the checksum by multiplying the file ID by its position and summing all the products."
   ]
  },
  {
   "cell_type": "code",
   "execution_count": 4,
   "metadata": {},
   "outputs": [
    {
     "data": {
      "text/plain": [
       "53"
      ]
     },
     "execution_count": 4,
     "metadata": {},
     "output_type": "execute_result"
    }
   ],
   "source": [
    "def calc_checksum(files):\n",
    "    \"\"\"Calculate checksum\"\"\"\n",
    "    return sum([i * el for i, el in enumerate(files) if el > -1])\n",
    "\n",
    "\n",
    "calc_checksum([0, 3, 3, 2, 1, 1, 1, 1, 2])"
   ]
  },
  {
   "cell_type": "markdown",
   "metadata": {},
   "source": [
    "Finaly, I put everything together in a function and test it on the example from the problem statement."
   ]
  },
  {
   "cell_type": "code",
   "execution_count": 5,
   "metadata": {},
   "outputs": [
    {
     "name": "stdout",
     "output_type": "stream",
     "text": [
      "✔️ That's right! The answer is 24.\n"
     ]
    }
   ],
   "source": [
    "from pathlib import Path\n",
    "\n",
    "\n",
    "def part_one(input):\n",
    "    \"\"\"Reads input, sorts files and calculates checksum.\"\"\"\n",
    "    if Path(input).exists():\n",
    "        with open(input) as f:\n",
    "            input = f.read().strip()\n",
    "\n",
    "    files = read_input(input)\n",
    "\n",
    "    files = sort_files(files)\n",
    "    return calc_checksum(files)\n",
    "\n",
    "\n",
    "verify_answer(part_one, \"154321\", 24)"
   ]
  },
  {
   "cell_type": "code",
   "execution_count": 6,
   "metadata": {},
   "outputs": [
    {
     "name": "stdout",
     "output_type": "stream",
     "text": [
      "✔️ That's right! The answer is 53.\n"
     ]
    }
   ],
   "source": [
    "verify_answer(part_one, \"1343212\", 53)"
   ]
  },
  {
   "cell_type": "code",
   "execution_count": 7,
   "metadata": {},
   "outputs": [
    {
     "name": "stdout",
     "output_type": "stream",
     "text": [
      "✔️ That's right! The answer is 1928.\n"
     ]
    }
   ],
   "source": [
    "verify_answer(part_one, example_input_file, 1928)"
   ]
  },
  {
   "cell_type": "code",
   "execution_count": 8,
   "metadata": {},
   "outputs": [
    {
     "name": "stdout",
     "output_type": "stream",
     "text": [
      "CPU times: user 13.6 ms, sys: 2.76 ms, total: 16.3 ms\n",
      "Wall time: 56.2 ms\n"
     ]
    },
    {
     "data": {
      "text/plain": [
       "6390180901651"
      ]
     },
     "execution_count": 8,
     "metadata": {},
     "output_type": "execute_result"
    }
   ],
   "source": [
    "%time part_one(input_file)"
   ]
  },
  {
   "cell_type": "markdown",
   "metadata": {},
   "source": [
    "> That's the right answer! You are one gold star ⭐ closer to finding the Chief Historian."
   ]
  },
  {
   "cell_type": "markdown",
   "metadata": {},
   "source": [
    "## Part 2: Don't split the files!\n",
    "\n",
    "In the second part we want to move the files again, but we don't want to split them!\n",
    "\n",
    "For the compact string of `1343212` we will get the following notation -- `0...1111...22.33`. The dots represent the empty spaces. The numbers represent the file IDs. \n",
    "```\n",
    "start:   0...1111...22.33\n",
    "step 2:  033.1111...22...\n",
    "step 3:  033.111122......\n",
    "```\n",
    "\n",
    "The checksum is calculated like in the first part. In this case, the output is `0*0 + 1*3 + 2*3 + 3*0 + 4*1 + 5*1 + 6*1 + 7*1 + 8*2 + 9*2 = 65`."
   ]
  },
  {
   "cell_type": "markdown",
   "metadata": {},
   "source": [
    "I will start by reading the input. This time, I will track the files and the empty spaces separately. I will keep their position and their size in two different lists of tuples."
   ]
  },
  {
   "cell_type": "code",
   "execution_count": 9,
   "metadata": {},
   "outputs": [
    {
     "data": {
      "text/plain": [
       "([(0, 1), (4, 4), (11, 2), (14, 2)], [(1, 3), (8, 3), (13, 1)])"
      ]
     },
     "execution_count": 9,
     "metadata": {},
     "output_type": "execute_result"
    }
   ],
   "source": [
    "def read_input_bis(input):\n",
    "    \"\"\"Reads input and returns expanded list\"\"\"\n",
    "    files = []\n",
    "    space = []\n",
    "    pos = 0\n",
    "    for i, el in enumerate(input):\n",
    "        if i % 2 == 0:\n",
    "            files.append((pos, int(el)))\n",
    "        else:\n",
    "            space.append((pos, int(el)))\n",
    "        pos += int(el)\n",
    "\n",
    "    return files, space\n",
    "\n",
    "\n",
    "read_input_bis(\"1343212\")"
   ]
  },
  {
   "cell_type": "markdown",
   "metadata": {},
   "source": [
    "When sorting the files, I will iterate from the end of files list and move the files to the closest to the start space."
   ]
  },
  {
   "cell_type": "code",
   "execution_count": 10,
   "metadata": {},
   "outputs": [
    {
     "data": {
      "text/plain": [
       "[(0, 1), (4, 4), (8, 2), (1, 2)]"
      ]
     },
     "execution_count": 10,
     "metadata": {},
     "output_type": "execute_result"
    }
   ],
   "source": [
    "def sort_files_bis(files, space):\n",
    "    \"\"\"Move the files to the rightmost available space that can fit it\"\"\"\n",
    "    for x, (pos, size) in enumerate(files[::-1]):\n",
    "        i = len(files) - x - 1\n",
    "        for j, (pos_s, size_s) in enumerate(space):\n",
    "            if pos_s >= pos:\n",
    "                break\n",
    "            # if the space can fit the file, I will move it there\n",
    "            if size_s >= size:\n",
    "                if size_s - size > 0:\n",
    "                    space[j] = (pos_s + size, size_s - size)\n",
    "\n",
    "                else:\n",
    "                    space.pop(j)\n",
    "\n",
    "                files[i] = (pos_s, size)\n",
    "                break\n",
    "    return files\n",
    "\n",
    "\n",
    "sort_files_bis([(0, 1), (4, 4), (11, 2), (14, 2)], [(1, 3), (8, 3), (13, 1)])"
   ]
  },
  {
   "cell_type": "markdown",
   "metadata": {},
   "source": [
    "I need to modify the checksum claculation now that I keep the files in a sparser list. "
   ]
  },
  {
   "cell_type": "code",
   "execution_count": 11,
   "metadata": {},
   "outputs": [
    {
     "data": {
      "text/plain": [
       "65"
      ]
     },
     "execution_count": 11,
     "metadata": {},
     "output_type": "execute_result"
    }
   ],
   "source": [
    "def calc_checksum_bis(files):\n",
    "    temp = [\n",
    "        sum(id * list(range(pos, pos + size)))\n",
    "        for id, (pos, size) in enumerate(files)\n",
    "    ]\n",
    "\n",
    "    return sum(temp)\n",
    "\n",
    "\n",
    "calc_checksum_bis([(0, 1), (4, 4), (8, 2), (1, 2)])"
   ]
  },
  {
   "cell_type": "markdown",
   "metadata": {},
   "source": [
    "Now, putting it all together I will read the input, sort the files and calculate the checksum."
   ]
  },
  {
   "cell_type": "code",
   "execution_count": 12,
   "metadata": {},
   "outputs": [
    {
     "name": "stdout",
     "output_type": "stream",
     "text": [
      "✔️ That's right! The answer is 65.\n"
     ]
    }
   ],
   "source": [
    "def part_two(input):\n",
    "    if Path(input).exists():\n",
    "        with open(input) as f:\n",
    "            input = f.read().strip()\n",
    "\n",
    "    files, space = read_input_bis(input)\n",
    "\n",
    "    files = sort_files_bis(files, space)\n",
    "    return calc_checksum_bis(files)\n",
    "\n",
    "\n",
    "verify_answer(part_two, \"1343212\", 65)"
   ]
  },
  {
   "cell_type": "code",
   "execution_count": 13,
   "metadata": {},
   "outputs": [
    {
     "name": "stdout",
     "output_type": "stream",
     "text": [
      "✔️ That's right! The answer is 2858.\n"
     ]
    }
   ],
   "source": [
    "verify_answer(part_two, example_input_file, 2858)"
   ]
  },
  {
   "cell_type": "code",
   "execution_count": 14,
   "metadata": {},
   "outputs": [
    {
     "name": "stdout",
     "output_type": "stream",
     "text": [
      "CPU times: user 1.06 s, sys: 18.6 ms, total: 1.08 s\n",
      "Wall time: 1.18 s\n"
     ]
    },
    {
     "data": {
      "text/plain": [
       "6412390114238"
      ]
     },
     "execution_count": 14,
     "metadata": {},
     "output_type": "execute_result"
    }
   ],
   "source": [
    "%time part_two(\"../inputs/day_09.txt\")"
   ]
  },
  {
   "cell_type": "markdown",
   "metadata": {},
   "source": [
    "> That's the right answer! You are one gold star ⭐ closer to finding the Chief Historian."
   ]
  }
 ],
 "metadata": {
  "kernelspec": {
   "display_name": "aoc2024",
   "language": "python",
   "name": "python3"
  },
  "language_info": {
   "codemirror_mode": {
    "name": "ipython",
    "version": 3
   },
   "file_extension": ".py",
   "mimetype": "text/x-python",
   "name": "python",
   "nbconvert_exporter": "python",
   "pygments_lexer": "ipython3",
   "version": "3.13.0"
  }
 },
 "nbformat": 4,
 "nbformat_minor": 2
}
