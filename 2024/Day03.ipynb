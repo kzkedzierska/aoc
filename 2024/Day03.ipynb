{
 "cells": [
  {
   "cell_type": "raw",
   "metadata": {
    "vscode": {
     "languageId": "raw"
    }
   },
   "source": [
    "---\n",
    "title: \"Day 3: Mull It Over\"\n",
    "author: \"Kasia Kedzierska\"\n",
    "date: December 3, 2024\n",
    "date-modified: last-modified\n",
    "format:\n",
    "  html:\n",
    "    theme: sketchy\n",
    "    css: misc/custom.css\n",
    "    code-fold: false\n",
    "    embed-resources: true\n",
    "    toc: true\n",
    "jupyter: python3\n",
    "---"
   ]
  },
  {
   "cell_type": "markdown",
   "metadata": {},
   "source": [
    "The next place we search for the Chief Historian is the **North Pole Toboggan Rental Shop**. While here, we are tasked with fixing the computers -- we need to clean the input for the multiplication.\n",
    "\n",
    "For the full details of the task, you can visit the official [Advent of Code 2024](https://adventofcode.com/2024/day/3) website.\n",
    "\n",
    "To set the scene, I again asked ChatGPT to generate an image of the shop. Here's the result:\n",
    "\n",
    "<img src=\"./ai_illustrations/Day03.webp\" width=\"50%\" class=\"center\" />"
   ]
  },
  {
   "cell_type": "markdown",
   "metadata": {},
   "source": [
    "## Part 1: Extracting multiplication instructions\n",
    "\n",
    "The program the shopkeeper is using is supposed to perform multiplication, but it's not working as expected. The input is a string that contains a series of multiplication instructions, but since it is corrupted there are also many invalid characters. The goal is to extract these instructions and calculate the product of the two numbers in each instruction.\n",
    "\n",
    "A correct multiplication instruction is formatted as follows: `mul(X,Y)`, where `X` and `Y` are `1` to `3` digit integers. The goal is to extract these instructions and calculate the sum of the products of the two numbers in each instruction.\n",
    "\n",
    "For the example:\n",
    "\n",
    "```\n",
    "xmul(2,4)%&mul[3,7]!@^do_not_mul(5,5)+mul(32,64]then(mul(11,8)mul(8,5))\n",
    "```\n",
    "\n",
    "The correct instructions are `mul(2,4)`, `mul(5,5)`, `mul(11,8)`, and `mul(8,5)`. The sum of the products of the two numbers in each instruction is `8 + 25 +  88 + 40 = 161`."
   ]
  },
  {
   "cell_type": "markdown",
   "metadata": {},
   "source": [
    "::: {.callout-note collapse=\"true\" title=\"Setting up\"}"
   ]
  },
  {
   "cell_type": "code",
   "execution_count": 1,
   "metadata": {},
   "outputs": [],
   "source": [
    "from misc.helper import verify_answer\n",
    "\n",
    "example_input = \"\"\"xmul(2,4)%&mul[3,7]!@^do_not_mul(5,5)+mul(32,64]then(mul(11,8)mul(8,5))\"\"\"\n",
    "\n",
    "example_answer_one = 161"
   ]
  },
  {
   "cell_type": "markdown",
   "metadata": {},
   "source": [
    ":::"
   ]
  },
  {
   "cell_type": "markdown",
   "metadata": {},
   "source": [
    "Today, I will use a consise Python code to solve this problem using the `re` module for regular expressions."
   ]
  },
  {
   "cell_type": "code",
   "execution_count": 2,
   "metadata": {},
   "outputs": [
    {
     "name": "stdout",
     "output_type": "stream",
     "text": [
      "✔️ That's right! The answer is 161.\n"
     ]
    }
   ],
   "source": [
    "import re\n",
    "from pathlib import Path\n",
    "\n",
    "\n",
    "def part_one(input: str | Path):\n",
    "    if Path(input).exists():\n",
    "        with open(input, \"r\") as file:\n",
    "            input = file.read()\n",
    "\n",
    "    def extract_matches(input):\n",
    "        return map(multiply, re.findall(r\"mul\\((\\d{1,3}),(\\d{1,3})\\)\", input))\n",
    "\n",
    "    def multiply(tup: tuple[str, str]) -> int:\n",
    "        return int(tup[0]) * int(tup[1])\n",
    "\n",
    "    return sum(extract_matches(input))\n",
    "\n",
    "\n",
    "verify_answer(part_one, example_input, example_answer_one)"
   ]
  },
  {
   "cell_type": "code",
   "execution_count": 3,
   "metadata": {},
   "outputs": [
    {
     "name": "stdout",
     "output_type": "stream",
     "text": [
      "CPU times: user 2 μs, sys: 0 ns, total: 2 μs\n",
      "Wall time: 5.96 μs\n"
     ]
    },
    {
     "data": {
      "text/plain": [
       "196826776"
      ]
     },
     "execution_count": 3,
     "metadata": {},
     "output_type": "execute_result"
    }
   ],
   "source": [
    "%time\n",
    "part_one(\"./inputs/Day03.txt\")"
   ]
  },
  {
   "cell_type": "markdown",
   "metadata": {},
   "source": [
    "> That's the right answer! You are one gold star ⭐ closer to finding the Chief Historian."
   ]
  },
  {
   "cell_type": "markdown",
   "metadata": {},
   "source": [
    "## Part 2: Extracting multiplication instructions with a twist\n",
    "\n",
    "This time, we are also looking out for `do()` and `don't()` instructions that modify the next valid multiplication instruction. If we encounter a `do()` instruction, we should multiply the two numbers in the next valid multiplication instruction. If we encounter a `don't()` instruction, we should skip the next valid multiplication instruction. At the start of the seuence, the multiplications are enabled.\n",
    "\n",
    "For example:\n",
    "\n",
    "```\n",
    "xmul(2,4)&mul[3,7]!^don't()_mul(5,5)+mul(32,64](mul(11,8)undo()?mul(8,5))\n",
    "\n",
    "```\n",
    "\n",
    "We have the following sequence:\n",
    "\n",
    "```\n",
    ".mul(2,4)...........don't().mul(5,5)............mul(11,8).do().mul(8,5).\n",
    "\n",
    "```\n",
    "\n",
    "Which means, that:  \n",
    "\n",
    "* we multiply `2*4 = 8`,  \n",
    "* we encounter `don't()`, so we skip the next multiplications `mul(5,5)` and `mul(11,8)`,  \n",
    "* until we again encounter `do()`, so we multiply `8*5 = 40`.\n",
    "\n",
    "The sum of the products of the two numbers in each instruction is `8 + 40 = 48`."
   ]
  },
  {
   "cell_type": "markdown",
   "metadata": {},
   "source": [
    "::: {.callout-note collapse=\"true\" title=\"Saving inputs and answers\"}"
   ]
  },
  {
   "cell_type": "code",
   "execution_count": 4,
   "metadata": {},
   "outputs": [],
   "source": [
    "example_input_two = \"\"\"xmul(2,4)&mul[3,7]!^don't()_mul(5,5)+mul(32,64](mul(11,8)undo()?mul(8,5))\"\"\"\n",
    "\n",
    "example_answer_two = 48"
   ]
  },
  {
   "cell_type": "markdown",
   "metadata": {},
   "source": [
    ":::"
   ]
  },
  {
   "cell_type": "code",
   "execution_count": 5,
   "metadata": {},
   "outputs": [],
   "source": [
    "def part_two(input: str | Path):\n",
    "    if Path(input).exists():\n",
    "        with open(input, \"r\") as file:\n",
    "            input = file.read()\n",
    "\n",
    "    def extract_matches(input):\n",
    "        return re.findall(\n",
    "            r\"(do\\(\\))|mul\\((\\d{1,3}),(\\d{1,3})\\)|(don't\\(\\))\", input\n",
    "        )\n",
    "\n",
    "    def multiply(tup: tuple[str, str]) -> int:\n",
    "        return int(tup[0]) * int(tup[1])\n",
    "\n",
    "    go = True\n",
    "    sum = 0\n",
    "    for match in extract_matches(input):\n",
    "        if match[0]:\n",
    "            go = True\n",
    "        elif match[3]:\n",
    "            go = False\n",
    "        else:\n",
    "            if go:\n",
    "                sum += multiply(match[1:3])\n",
    "\n",
    "    return sum"
   ]
  },
  {
   "cell_type": "markdown",
   "metadata": {},
   "source": [
    "Now, let's test the code on the examples."
   ]
  },
  {
   "cell_type": "code",
   "execution_count": 6,
   "metadata": {},
   "outputs": [
    {
     "name": "stdout",
     "output_type": "stream",
     "text": [
      "✔️ That's right! The answer is 48.\n"
     ]
    }
   ],
   "source": [
    "verify_answer(part_two, example_input_two, example_answer_two)"
   ]
  },
  {
   "cell_type": "code",
   "execution_count": 7,
   "metadata": {},
   "outputs": [
    {
     "name": "stdout",
     "output_type": "stream",
     "text": [
      "✔️ That's right! The answer is 161.\n"
     ]
    }
   ],
   "source": [
    "verify_answer(part_two, example_input, example_answer_one)"
   ]
  },
  {
   "cell_type": "markdown",
   "metadata": {},
   "source": [
    "Since both test cases work, I will run the code on the actual input."
   ]
  },
  {
   "cell_type": "code",
   "execution_count": 8,
   "metadata": {},
   "outputs": [
    {
     "name": "stdout",
     "output_type": "stream",
     "text": [
      "CPU times: user 1 μs, sys: 0 ns, total: 1 μs\n",
      "Wall time: 3.1 μs\n"
     ]
    },
    {
     "data": {
      "text/plain": [
       "106780429"
      ]
     },
     "execution_count": 8,
     "metadata": {},
     "output_type": "execute_result"
    }
   ],
   "source": [
    "%time\n",
    "part_two(\"./inputs/Day03.txt\")"
   ]
  },
  {
   "cell_type": "markdown",
   "metadata": {},
   "source": [
    "> That's the right answer! You are one gold star ⭐ closer to finding the Chief Historian."
   ]
  }
 ],
 "metadata": {
  "kernelspec": {
   "display_name": "aoc2024",
   "language": "python",
   "name": "python3"
  },
  "language_info": {
   "codemirror_mode": {
    "name": "ipython",
    "version": 3
   },
   "file_extension": ".py",
   "mimetype": "text/x-python",
   "name": "python",
   "nbconvert_exporter": "python",
   "pygments_lexer": "ipython3",
   "version": "3.13.0"
  }
 },
 "nbformat": 4,
 "nbformat_minor": 2
}
