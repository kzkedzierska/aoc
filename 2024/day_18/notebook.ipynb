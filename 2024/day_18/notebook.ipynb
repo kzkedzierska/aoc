{
 "cells": [
  {
   "cell_type": "raw",
   "metadata": {
    "vscode": {
     "languageId": "raw"
    }
   },
   "source": [
    "---\n",
    "title: 'Day 18'\n",
    "author: \"Kasia Kedzierska\"\n",
    "date: December 19, 2024\n",
    "date-modified: last-modified\n",
    "format:\n",
    "  html:\n",
    "    theme: sketchy\n",
    "    css: misc/custom.css\n",
    "    code-fold: false\n",
    "    embed-resources: true\n",
    "    toc: true\n",
    "jupyter: python3\n",
    "---"
   ]
  },
  {
   "cell_type": "markdown",
   "metadata": {},
   "source": [
    "We have fallen into RAM of the big North Pole computer. Read the whole stroy on the official [Day 17 of Advent of Code 2024](https://adventofcode.com/2024/day/17) website.\n",
    "\n",
    "Here's a ChatGPT negotiated illustration of the setup:\n",
    "\n",
    "![](chatgpt_image.webp){width=75% fig-align=\"center\"}"
   ]
  },
  {
   "cell_type": "markdown",
   "metadata": {},
   "source": [
    "::: {.callout-note collapse=\"true\" title=\"Setting up\"}"
   ]
  },
  {
   "cell_type": "code",
   "execution_count": 1,
   "metadata": {},
   "outputs": [],
   "source": [
    "from misc.helper import verify_answer\n",
    "\n",
    "example_input_file = \"../inputs/example_day_18.txt\"\n",
    "input_file = \"../inputs/day_18.txt\""
   ]
  },
  {
   "cell_type": "markdown",
   "metadata": {},
   "source": [
    ":::"
   ]
  },
  {
   "cell_type": "markdown",
   "metadata": {},
   "source": [
    "## Part 1: Escape the falling bits\n",
    "\n",
    "Another grid problem! We are in a 2D grid where we need to figure out which positions of the grid are free from the falling bytes. "
   ]
  },
  {
   "cell_type": "code",
   "execution_count": 2,
   "metadata": {},
   "outputs": [
    {
     "name": "stdout",
     "output_type": "stream",
     "text": [
      "...#...\n",
      "..#..#.\n",
      "....#..\n",
      "...#..#\n",
      "..#..#.\n",
      ".#..#..\n",
      "#.#....\n"
     ]
    }
   ],
   "source": [
    "from pathlib import Path\n",
    "import numpy as np\n",
    "\n",
    "\n",
    "def parse_input(input, grid_size=7, n_bytes=12):\n",
    "    if Path(input).exists():\n",
    "        with open(input) as file:\n",
    "            input = file.read()\n",
    "\n",
    "    input = input.strip().split(\"\\n\")\n",
    "    grid = np.zeros((grid_size, grid_size), dtype=int)\n",
    "    coord = [(int(y), int(x)) for row in input for x, y in [row.split(\",\")]]\n",
    "\n",
    "    if n_bytes > len(coord):\n",
    "        raise ValueError(\"n_bytes is larger than the number of coordinates\")\n",
    "\n",
    "    if (\n",
    "        max(coord, key=lambda x: x[0])[0] >= grid_size\n",
    "        or max(coord, key=lambda x: x[1])[1] >= grid_size\n",
    "    ):\n",
    "        raise ValueError(\"Coordinates are out of bounds of the grid\")\n",
    "\n",
    "    grid[tuple(zip(*coord[:n_bytes]))] = 1\n",
    "    return grid\n",
    "\n",
    "\n",
    "parse_input(example_input_file)\n",
    "\n",
    "\n",
    "def print_grid_as_str(grid):\n",
    "    # print 0 as ., 1 as # and 2 as O\n",
    "    match_dict = {0: \".\", 1: \"#\", 2: \"O\"}\n",
    "    print(\"\\n\".join(\"\".join(match_dict[elem] for elem in row) for row in grid))\n",
    "\n",
    "\n",
    "print_grid_as_str(parse_input(example_input_file))"
   ]
  },
  {
   "cell_type": "markdown",
   "metadata": {},
   "source": [
    "Our task is to find the shortest path in the grid from the top left corner to the bottom right corner. We can only move up, down, left, or right, and we can't move diagonally. We can only move to a position if it is free from the falling bytes. And then we need to report the number of steps we need to take to reach the bottom right corner."
   ]
  },
  {
   "cell_type": "code",
   "execution_count": 3,
   "metadata": {},
   "outputs": [
    {
     "name": "stdout",
     "output_type": "stream",
     "text": [
      "✔️ That's right! The answer is 22.\n"
     ]
    }
   ],
   "source": [
    "from collections import deque\n",
    "\n",
    "\n",
    "def find_shortest_path(grid):\n",
    "    n, m = grid.shape\n",
    "    start = (0, 0)\n",
    "    end = (n - 1, m - 1)\n",
    "\n",
    "    def bfs(grid, start, end):\n",
    "        queue = deque([(start, [start])])\n",
    "        visited = set()\n",
    "\n",
    "        while queue:\n",
    "            node, path = queue.popleft()\n",
    "            if node == end:\n",
    "                return path\n",
    "\n",
    "            if node in visited:\n",
    "                continue\n",
    "\n",
    "            visited.add(node)\n",
    "            x, y = node\n",
    "\n",
    "            for dx, dy in (\n",
    "                (1, 0),\n",
    "                (-1, 0),\n",
    "                (0, 1),\n",
    "                (0, -1),\n",
    "            ):\n",
    "                new_x, new_y = x + dx, y + dy\n",
    "                if (\n",
    "                    0 <= new_x < n\n",
    "                    and 0 <= new_y < m\n",
    "                    and grid[new_x, new_y] != 1\n",
    "                ):\n",
    "                    next_node = (new_x, new_y)\n",
    "                    if next_node not in visited:\n",
    "                        queue.append((next_node, path + [next_node]))\n",
    "\n",
    "        return None\n",
    "\n",
    "    return bfs(grid, start, end)\n",
    "\n",
    "\n",
    "def part_one(input, grid_size=7, n_bytes=12):\n",
    "    grid = parse_input(input, grid_size=grid_size, n_bytes=n_bytes)\n",
    "    path = find_shortest_path(grid)\n",
    "    return len(path) - 1\n",
    "\n",
    "\n",
    "verify_answer(part_one, example_input_file, 22)"
   ]
  },
  {
   "cell_type": "code",
   "execution_count": 4,
   "metadata": {},
   "outputs": [
    {
     "name": "stdout",
     "output_type": "stream",
     "text": [
      "CPU times: user 10.8 ms, sys: 865 μs, total: 11.6 ms\n",
      "Wall time: 12.9 ms\n"
     ]
    },
    {
     "data": {
      "text/plain": [
       "290"
      ]
     },
     "execution_count": 4,
     "metadata": {},
     "output_type": "execute_result"
    }
   ],
   "source": [
    "%time part_one(input_file, grid_size=71, n_bytes=1024)"
   ]
  },
  {
   "cell_type": "markdown",
   "metadata": {},
   "source": [
    "> That's the right answer! You are one gold star ⭐ closer to finding the Chief Historian."
   ]
  },
  {
   "cell_type": "markdown",
   "metadata": {},
   "source": [
    "## Part 2: When there is no escape!\n",
    "\n",
    "Now we need to figure out at what point there is no escape. I'm going to try the simplest approach with just gradually reading in the new bytes and checking if there is a path from the top left corner to the bottom right corner."
   ]
  },
  {
   "cell_type": "code",
   "execution_count": 5,
   "metadata": {},
   "outputs": [],
   "source": [
    "def check_if_path_exist(grid):\n",
    "    n, m = grid.shape\n",
    "    start = (0, 0)\n",
    "    end = (n - 1, m - 1)\n",
    "\n",
    "    def bfs(grid, start, end):\n",
    "        queue = deque([start])\n",
    "        visited = set()\n",
    "        while queue:\n",
    "            node = queue.popleft()\n",
    "            if node == end:\n",
    "                return True\n",
    "\n",
    "            if node in visited:\n",
    "                continue\n",
    "\n",
    "            visited.add(node)\n",
    "            x, y = node\n",
    "\n",
    "            for dx, dy in (\n",
    "                (1, 0),\n",
    "                (-1, 0),\n",
    "                (0, 1),\n",
    "                (0, -1),\n",
    "            ):\n",
    "                new_x, new_y = x + dx, y + dy\n",
    "                if (\n",
    "                    0 <= new_x < n\n",
    "                    and 0 <= new_y < m\n",
    "                    and grid[new_x, new_y] != 1\n",
    "                ):\n",
    "                    next_node = (new_x, new_y)\n",
    "                    if next_node not in visited:\n",
    "                        queue.append(next_node)\n",
    "\n",
    "        return None\n",
    "\n",
    "    return bfs(grid, start, end)"
   ]
  },
  {
   "cell_type": "code",
   "execution_count": 6,
   "metadata": {},
   "outputs": [
    {
     "name": "stdout",
     "output_type": "stream",
     "text": [
      "✔️ That's right! The answer is 6,1.\n"
     ]
    }
   ],
   "source": [
    "def part_two(input, grid_size=7, first_n_bytes=12):\n",
    "    grid = parse_input(input, grid_size=grid_size, n_bytes=first_n_bytes)\n",
    "    if Path(input).exists():\n",
    "        with open(input, \"r\") as file:\n",
    "            coords = file.readlines()\n",
    "    else:\n",
    "        coords = input.strip().split(\"\\n\")\n",
    "    n_lines = len(coords)\n",
    "    new_byte = first_n_bytes + 1\n",
    "    while new_byte < n_lines:\n",
    "        coord_str = coords[new_byte].strip()\n",
    "        coord = [(y, x) for x, y in [map(int, coord_str.split(\",\"))]][0]\n",
    "\n",
    "        grid[coord] = 1\n",
    "        if check_if_path_exist(grid):\n",
    "            new_byte += 1\n",
    "        else:\n",
    "            return coord_str\n",
    "\n",
    "\n",
    "verify_answer(part_two, example_input_file, \"6,1\")"
   ]
  },
  {
   "cell_type": "code",
   "execution_count": 7,
   "metadata": {},
   "outputs": [
    {
     "name": "stdout",
     "output_type": "stream",
     "text": [
      "CPU times: user 3.68 s, sys: 24.7 ms, total: 3.7 s\n",
      "Wall time: 3.8 s\n"
     ]
    },
    {
     "data": {
      "text/plain": [
       "'64,54'"
      ]
     },
     "execution_count": 7,
     "metadata": {},
     "output_type": "execute_result"
    }
   ],
   "source": [
    "%time part_two(input_file, grid_size=71, first_n_bytes=1024)"
   ]
  },
  {
   "cell_type": "markdown",
   "metadata": {},
   "source": [
    "> That's the right answer! You are one gold star ⭐ closer to finding the Chief Historian."
   ]
  }
 ],
 "metadata": {
  "kernelspec": {
   "display_name": "aoc2024",
   "language": "python",
   "name": "python3"
  },
  "language_info": {
   "codemirror_mode": {
    "name": "ipython",
    "version": 3
   },
   "file_extension": ".py",
   "mimetype": "text/x-python",
   "name": "python",
   "nbconvert_exporter": "python",
   "pygments_lexer": "ipython3",
   "version": "3.13.0"
  }
 },
 "nbformat": 4,
 "nbformat_minor": 2
}
