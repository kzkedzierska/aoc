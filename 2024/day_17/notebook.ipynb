{
 "cells": [
  {
   "cell_type": "raw",
   "metadata": {
    "vscode": {
     "languageId": "raw"
    }
   },
   "source": [
    "---\n",
    "title: 'Day 17'\n",
    "author: \"Kasia Kedzierska\"\n",
    "date: December 17, 2024\n",
    "date-modified: last-modified\n",
    "format:\n",
    "  html:\n",
    "    theme: sketchy\n",
    "    css: misc/custom.css\n",
    "    code-fold: false\n",
    "    embed-resources: true\n",
    "    toc: true\n",
    "jupyter: python3\n",
    "---"
   ]
  },
  {
   "cell_type": "markdown",
   "metadata": {},
   "source": [
    "Today, together with historian elves we're falling into despair, or rather having to debug some very weird computer program. Must admit, reading the instructions the first time made me question if I want to do it. Not because the task is hard, but because the instructions are so weird. But let's not get ahead of ourselves. \n",
    "\n",
    "We are falling through a void and the only way to save us is to debug a 3-bit (weird I might add!) computer program. Read the whole stroy on the official [Day 17 of Advent of Code 2024](https://adventofcode.com/2024/day/17) website.\n",
    "\n",
    "Here's a ChatGPT negotiated illustration of the setup:mv ~/Down\n",
    "\n",
    "![](chatgpt_image.webp){width=75% fig-align=\"center\"}"
   ]
  },
  {
   "cell_type": "markdown",
   "metadata": {},
   "source": [
    "::: {.callout-note collapse=\"true\" title=\"Setting up\"}"
   ]
  },
  {
   "cell_type": "code",
   "execution_count": 1,
   "metadata": {},
   "outputs": [],
   "source": [
    "from misc.helper import verify_answer\n",
    "\n",
    "example_input_file_1 = \"../inputs/example_day_17_1.txt\"\n",
    "example_input_file_2 = \"../inputs/example_day_17_2.txt\"\n",
    "input_file = \"../inputs/day_17.txt\""
   ]
  },
  {
   "cell_type": "markdown",
   "metadata": {},
   "source": [
    ":::"
   ]
  },
  {
   "cell_type": "markdown",
   "metadata": {},
   "source": [
    "## Part 1: Debug the debugging\n",
    "\n",
    "We are given an input that specifies the state of input registers, and the program itself. Program is composed of 3-bit integers (0-7) separated by commas. Each pair of integers represent an `instruction` and an `operand`. An operand can be a `literal` operand, or can be a `combo` operand. Literal operand is just the number itself, while `combo` operand follows its separate rules. Whether an `operand` should be treated as a `literal` or a `combo` operand is determined by the instruction.\n",
    "\n",
    "**Combo operands**:  \n",
    "* `0` - `3` - same as `literal` operand.  \n",
    "* `4` - value of register `A`.  \n",
    "* `5` - value of register `B`.  \n",
    "* `6` - value of register `C`.   \n",
    "* `7` - is reserved and does not appear as combo operand.  \n",
    "\n",
    "**Instructions**:  \n",
    "* `0` - division of value in register `A` by the 2 to the power of its `combo` operand; The result truncated to integer is stored in register `A`.  \n",
    "* `1` - bitwise XOR of register `B` and `literal` operand; The result is stored in register `B`.  \n",
    "* `2` - calculates its `combo` operand module 8 and saves it in register `B`.  \n",
    "* `3` - does nothing if register `A` is 0, but if register `A` is not 0, it jumps to the instruction specified by its `literal` operand.  \n",
    "* `4` - bitwise XOR of register `B` and register `C` and stores the result in register `B`.  \n",
    "* `5` - calculates `combo` operand modulo 8 and outputs the result.  \n",
    "* `6` - division of value in register `A` by the 2 to the power of its `combo` operand; The result truncated to integer is stored in register `B`.  \n",
    "* `7` - division of value in register `A` by the 2 to the power of its `combo` operand; The result truncated to integer is stored in register `C`.  \n"
   ]
  },
  {
   "cell_type": "code",
   "execution_count": 2,
   "metadata": {},
   "outputs": [],
   "source": [
    "# bitwise xor in python\n",
    "def xor(a, b):\n",
    "    return a ^ b"
   ]
  },
  {
   "cell_type": "code",
   "execution_count": 3,
   "metadata": {},
   "outputs": [
    {
     "data": {
      "text/plain": [
       "({'A': 17, 'B': 21, 'C': 3}, [0, 1, 2, 3, 5, 3])"
      ]
     },
     "execution_count": 3,
     "metadata": {},
     "output_type": "execute_result"
    }
   ],
   "source": [
    "import re\n",
    "from pathlib import Path\n",
    "\n",
    "\n",
    "def parse_input(input):\n",
    "    if Path(input).exists():\n",
    "        input = Path(input).read_text()\n",
    "    registers = {}\n",
    "    for line in input.strip().split(\"\\n\"):\n",
    "        if line.startswith(\"Register\"):\n",
    "            # extract regster letter from \"Register X:\"\n",
    "            register = re.findall(r\"Register (\\w):\", line)[0]\n",
    "            registers[register] = int(line.split(\": \")[1])\n",
    "        elif line.startswith(\"Program\"):\n",
    "            program = [int(el) for el in line.split(\": \")[1].split(\",\")]\n",
    "\n",
    "    return registers, program\n",
    "\n",
    "\n",
    "example = \"\"\"\n",
    "Register A: 17\n",
    "Register B: 21\n",
    "Register C: 3\n",
    "\n",
    "Program: 0,1,2,3,5,3\n",
    "\"\"\"\n",
    "\n",
    "parse_input(example)"
   ]
  },
  {
   "cell_type": "code",
   "execution_count": 4,
   "metadata": {},
   "outputs": [],
   "source": [
    "def execute_program(program, registers):\n",
    "    program = program.copy()\n",
    "    registers = registers.copy()\n",
    "\n",
    "    def combo_operand(operand: int):\n",
    "        match operand:\n",
    "            case x if x < 4:  # Guard clause for values less than 4\n",
    "                return operand\n",
    "            case 4:\n",
    "                return registers[\"A\"]\n",
    "            case 5:\n",
    "                return registers[\"B\"]\n",
    "            case 6:\n",
    "                return registers[\"C\"]\n",
    "            case 7:\n",
    "                raise ValueError(\"Invalid operand\")\n",
    "            case _:\n",
    "                raise ValueError(\"Operand not recognized\")\n",
    "\n",
    "    i = 0\n",
    "    out = []\n",
    "    while i < len(program):\n",
    "        match program[i]:\n",
    "            case 0:\n",
    "                registers[\"A\"] = int(\n",
    "                    registers[\"A\"] / 2 ** combo_operand(program[i + 1])\n",
    "                )\n",
    "                i += 2\n",
    "            case 1:\n",
    "                registers[\"B\"] = xor(registers[\"B\"], program[i + 1])\n",
    "                i += 2\n",
    "            case 2:\n",
    "                registers[\"B\"] = combo_operand(program[i + 1]) % 8\n",
    "                i += 2\n",
    "            case 3:\n",
    "                if registers[\"A\"] == 0:\n",
    "                    i += 2\n",
    "                else:\n",
    "                    i = program[i + 1]\n",
    "            case 4:\n",
    "                registers[\"B\"] = xor(registers[\"B\"], registers[\"C\"])\n",
    "                i += 2\n",
    "            case 5:  # out\n",
    "                out.append(combo_operand(program[i + 1]) % 8)\n",
    "                i += 2\n",
    "            case 6:\n",
    "                registers[\"B\"] = int(\n",
    "                    registers[\"A\"] / 2 ** combo_operand(program[i + 1])\n",
    "                )\n",
    "                i += 2\n",
    "            case 7:\n",
    "                registers[\"C\"] = int(\n",
    "                    registers[\"A\"] / 2 ** combo_operand(program[i + 1])\n",
    "                )\n",
    "                i += 2\n",
    "            case _:\n",
    "                raise ValueError(\"Invalid instruction\")\n",
    "    return \",\".join(map(str, out))"
   ]
  },
  {
   "cell_type": "code",
   "execution_count": 5,
   "metadata": {},
   "outputs": [],
   "source": [
    "def part_one(input):\n",
    "    registers, program = parse_input(input)\n",
    "    return execute_program(program, registers)"
   ]
  },
  {
   "cell_type": "code",
   "execution_count": 6,
   "metadata": {},
   "outputs": [
    {
     "name": "stdout",
     "output_type": "stream",
     "text": [
      "✔️ That's right! The answer is 3.\n"
     ]
    }
   ],
   "source": [
    "verify_answer(part_one, example, \"3\")"
   ]
  },
  {
   "cell_type": "code",
   "execution_count": 7,
   "metadata": {},
   "outputs": [
    {
     "name": "stdout",
     "output_type": "stream",
     "text": [
      "✔️ That's right! The answer is 4,6,3,5,6,3,5,2,1,0.\n"
     ]
    }
   ],
   "source": [
    "verify_answer(part_one, example_input_file_1, \"4,6,3,5,6,3,5,2,1,0\")"
   ]
  },
  {
   "cell_type": "code",
   "execution_count": 8,
   "metadata": {},
   "outputs": [
    {
     "name": "stdout",
     "output_type": "stream",
     "text": [
      "CPU times: user 456 μs, sys: 606 μs, total: 1.06 ms\n",
      "Wall time: 940 μs\n"
     ]
    },
    {
     "data": {
      "text/plain": [
       "'1,5,3,0,2,5,2,5,3'"
      ]
     },
     "execution_count": 8,
     "metadata": {},
     "output_type": "execute_result"
    }
   ],
   "source": [
    "%time part_one(input_file)"
   ]
  },
  {
   "cell_type": "markdown",
   "metadata": {},
   "source": [
    "> That's the right answer! You are one gold star ⭐ closer to finding the Chief Historian."
   ]
  },
  {
   "cell_type": "markdown",
   "metadata": {},
   "source": [
    "## Part 2: Output the program sequence\n",
    "\n",
    "In Part 2, we ae asked to fix the program by changing the register `A` value such that the program sequence is outputted. "
   ]
  },
  {
   "cell_type": "markdown",
   "metadata": {},
   "source": [
    "It took me quite a few tries to get this one correct after my brute force approach was taking too long to be reasonable. I decided to turn to an LLM for guidance. I copied [u/quetzelcoatlus1's solution](https://github.com/quetzelcoatlus/AoC_2024/blob/master/17/17b.c) from [this Reddit thread](https://www.reddit.com/r/adventofcode/comments/1hg38ah/2024_day_17_solutions/) and asked ChatGPT to explain it step by step until I understood how it worked. It took longer than I’d like to admit, but I eventually pieced it all together.\n",
    "\n",
    "The key insight came from understanding how numbers work in binary. Shifting a number to the left by 1 is equivalent to multiplying it by 2, and shifting it to the right by 1 is equivalent to dividing it by 2. It’s like moving a decimal number left or right by one place (e.g., multiplying `1 -> 10` or dividing by 10 `100 -> 10`) but in base-2. This property is what allowed me to construct the number `A`, appending a 3-bit value at each step.\n",
    "\n",
    "Here’s an example that helped me understand binary shifting:\n"
   ]
  },
  {
   "cell_type": "code",
   "execution_count": 9,
   "metadata": {},
   "outputs": [
    {
     "name": "stdout",
     "output_type": "stream",
     "text": [
      "1 written in binary is `1` and shifted 1 bit to the left is '10' (2). Shifting 1 bit to the left is the same as multiplying by 2^1 = 2\n",
      "2 written in binary is `10` and shifted 2 bits to the left is '100' (4). Shifting 2 bits to the left is the same as multiplying by 2^2 = 4\n",
      "3 written in binary is `11` and shifted 3 bits to the left is '11000' (24). Shifting 3 bits to the left is the same as multiplying by 2^3 = 8\n"
     ]
    }
   ],
   "source": [
    "def print_binary(n):\n",
    "    return bin(n)[2:]\n",
    "\n",
    "def binary_to_int(n):\n",
    "    return int(n, 2)\n",
    "\n",
    "print(f\"1 written in binary is `{print_binary(1)}` and shifted 1 bit to the left is '{print_binary(1 << 1)}' ({binary_to_int(print_binary(1 << 1))}). Shifting 1 bit to the left is the same as multiplying by 2^1 = 2\")\n",
    "print(f\"2 written in binary is `{print_binary(2)}` and shifted 2 bits to the left is '{print_binary(2 << 1)}' ({binary_to_int(print_binary(2 << 1))}). Shifting 2 bits to the left is the same as multiplying by 2^2 = 4\")\n",
    "print(f\"3 written in binary is `{print_binary(3)}` and shifted 3 bits to the left is '{print_binary(3 << 3)}' ({binary_to_int(print_binary(3 << 3))}). Shifting 3 bits to the left is the same as multiplying by 2^3 = 8\")"
   ]
  },
  {
   "cell_type": "markdown",
   "metadata": {},
   "source": [
    "In the task, the program outputs a 3-bit number (via the `out` operation that computes `mod 8` of the combo operand). This constrains the search space for `A` to building it gradually, 3 bits at a time. Each recursive step shifts the current value of `A` left by 3 bits (making room for the next 3-bit value) and adds a candidate digit (`0` to `7`).\n",
    "\n",
    "While we are shifting `A` leftwards (appending new 3-bit values to the least significant bits), the output is generated from left to right, matching the sequence of 3-bit values. This ensures the program's constraints are respected, and the final value of `A` is built incrementally.\n",
    "\n",
    "To build `A` recursively, we try all possible 3-bit values (`0` to `7`) at each step and check if the output sequence generated so far matches the expected sequence. If it does, we continue building `A` by shifting it left by 3 bits, appending the next candidate value, and moving the index to the next part of the output. If the output at any step does not match the expected output, we prune the current branch of the recursion and backtrack until we find a branch that produces the correct output."
   ]
  },
  {
   "cell_type": "code",
   "execution_count": 10,
   "metadata": {},
   "outputs": [],
   "source": [
    "def find_matching_a_recursive(program):\n",
    "    def run_program(a_value, index):\n",
    "        registers = {\"A\": a_value, \"B\": 0, \"C\": 0}\n",
    "        program_counter = 0\n",
    "        output = []\n",
    "\n",
    "        def combo_operand(operand):\n",
    "            match operand:\n",
    "                case x if x < 4:\n",
    "                    return operand\n",
    "                case 4:\n",
    "                    return registers[\"A\"]\n",
    "                case 5:\n",
    "                    return registers[\"B\"]\n",
    "                case 6:\n",
    "                    return registers[\"C\"]\n",
    "                case 7:\n",
    "                    raise ValueError(\"Reserved operand\")\n",
    "                case _:\n",
    "                    raise ValueError(\"Invalid combo operand\")\n",
    "\n",
    "        while program_counter < len(program) - 1:\n",
    "            opcode = program[program_counter]\n",
    "            operand = program[program_counter + 1]\n",
    "            match opcode:\n",
    "                case 0:  # adv\n",
    "                    registers[\"A\"] = registers[\"A\"] // (\n",
    "                        2 ** combo_operand(operand)\n",
    "                    )\n",
    "                case 1:  # bxl\n",
    "                    registers[\"B\"] ^= operand\n",
    "                case 2:  # bst\n",
    "                    registers[\"B\"] = combo_operand(operand) % 8\n",
    "                case 3:  # jnz\n",
    "                    if registers[\"A\"] != 0:\n",
    "                        program_counter = operand\n",
    "                        continue\n",
    "                case 4:  # bxc\n",
    "                    registers[\"B\"] ^= registers[\"C\"]\n",
    "                case 5:  # out\n",
    "                    output.append(combo_operand(operand) % 8)\n",
    "                    if index < len(program) and output[-1] != program[index]:\n",
    "                        return False\n",
    "                    index += 1\n",
    "                case 6:  # bdv\n",
    "                    registers[\"B\"] = registers[\"A\"] // (\n",
    "                        2 ** combo_operand(operand)\n",
    "                    )\n",
    "                case 7:  # cdv\n",
    "                    registers[\"C\"] = registers[\"A\"] // (\n",
    "                        2 ** combo_operand(operand)\n",
    "                    )\n",
    "                case _:\n",
    "                    raise ValueError(f\"Unknown opcode: {opcode}\")\n",
    "\n",
    "            program_counter += 2\n",
    "\n",
    "        return index == len(program)\n",
    "\n",
    "    def solve(a_value, index):\n",
    "        \n",
    "        for i in range(8):\n",
    "            candidate_a = (a_value << 3) + i\n",
    "            if run_program(candidate_a, index):\n",
    "                if index == 0:\n",
    "                    return candidate_a\n",
    "                result = solve(candidate_a, index - 1)\n",
    "                if result is not None:\n",
    "                    return result\n",
    "        return None\n",
    "\n",
    "    return solve(0, len(program) - 1)"
   ]
  },
  {
   "cell_type": "code",
   "execution_count": 11,
   "metadata": {},
   "outputs": [],
   "source": [
    "def part_two(input):\n",
    "    _, program = parse_input(input)\n",
    "    return find_matching_a_recursive(program)"
   ]
  },
  {
   "cell_type": "code",
   "execution_count": 12,
   "metadata": {},
   "outputs": [
    {
     "name": "stdout",
     "output_type": "stream",
     "text": [
      "✔️ That's right! The answer is 117440.\n"
     ]
    }
   ],
   "source": [
    "verify_answer(part_two, example_input_file_2, 117440)"
   ]
  },
  {
   "cell_type": "code",
   "execution_count": 13,
   "metadata": {},
   "outputs": [
    {
     "name": "stdout",
     "output_type": "stream",
     "text": [
      "CPU times: user 1.62 ms, sys: 55 μs, total: 1.68 ms\n",
      "Wall time: 4.59 ms\n"
     ]
    },
    {
     "data": {
      "text/plain": [
       "108107566389757"
      ]
     },
     "execution_count": 13,
     "metadata": {},
     "output_type": "execute_result"
    }
   ],
   "source": [
    "%time part_two(input_file)"
   ]
  },
  {
   "cell_type": "markdown",
   "metadata": {},
   "source": [
    "> That's the right answer! You are one gold star ⭐ closer to finding the Chief Historian."
   ]
  }
 ],
 "metadata": {
  "kernelspec": {
   "display_name": "aoc2024",
   "language": "python",
   "name": "python3"
  },
  "language_info": {
   "codemirror_mode": {
    "name": "ipython",
    "version": 3
   },
   "file_extension": ".py",
   "mimetype": "text/x-python",
   "name": "python",
   "nbconvert_exporter": "python",
   "pygments_lexer": "ipython3",
   "version": "3.13.0"
  }
 },
 "nbformat": 4,
 "nbformat_minor": 2
}
