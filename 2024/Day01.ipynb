{
 "cells": [
  {
   "cell_type": "raw",
   "metadata": {
    "vscode": {
     "languageId": "raw"
    }
   },
   "source": [
    "---\n",
    "title: \"Day One of AoC 2024\"\n",
    "author: \"Kasia Kedzierska\"\n",
    "date: December 1, 2024\n",
    "date-modified: last-modified\n",
    "format: \n",
    "  html:\n",
    "    theme: sketchy\n",
    "    css: misc/custom.css\n",
    "    code-fold: false\n",
    "    embed-resources: true\n",
    "    toc: true\n",
    "jupyter: python3\n",
    "---"
   ]
  },
  {
   "cell_type": "markdown",
   "metadata": {},
   "source": [
    "The first task, together with the introduction to this year's quest, is described on the [Advent of Code 2024](https://adventofcode.com/2024/day/1) website. This year, our mission is to assist the Elves in locating the Chief Historian\n",
    "\n",
    "Last year, I used ChatGPT to generate custom illustrations to visualize the task descriptions, which added a fun, creative touch. However, this year presented a greater challenge: it was tricky to produce an image that aligned with my vision using tools like ChatGPT/DALL-E or Gemini/Imagen 3. After some experimentation, I discovered that by selectively erasing parts of the image, I could guide the model to create something closer to what I had in mind.\n",
    "\n",
    "<img src=\"./ai_illustrations/Day01.webp\" width=\"50%\" class=\"center\" />"
   ]
  },
  {
   "cell_type": "markdown",
   "metadata": {},
   "source": [
    "## Part 1: Sum of differences\n",
    "\n",
    "The task is to calculate the **sum of the absolute differences** between two lists of numbers, each sorted in ascending order. Here's the step-by-step breakdown:\n",
    "\n",
    "1. We are given two lists of numbers separated by a space on each line.  \n",
    "2. First, sort both lists in ascending order.  \n",
    "3. Pair corresponding elements from the sorted lists.  \n",
    "4. Calculate the absolute difference for each pair.  \n",
    "5. Sum all these differences to get the answer.\n",
    "\n",
    "For example, given input:\n",
    "\n",
    "```\n",
    "3   4\n",
    "4   3\n",
    "2   5\n",
    "1   3\n",
    "3   9\n",
    "3   3\n",
    "```\n",
    "\n",
    "We need to sort the lists first:\n",
    "\n",
    "```\n",
    "Left:  [1, 2, 3, 3, 3, 4]\n",
    "Right: [3, 3, 3, 4, 5, 9]\n",
    "```\n",
    "\n",
    "Then, pair the corresponding elements and compute the differences:\n",
    "\n",
    "```\n",
    "|1 - 3| = 2\n",
    "|2 - 3| = 1\n",
    "|3 - 3| = 0\n",
    "|3 - 4| = 1\n",
    "|3 - 5| = 2\n",
    "|4 - 9| = 5\n",
    "```\n",
    "\n",
    "And finally, add up the differences:\n",
    "\n",
    "```\n",
    "2 + 1 + 0 + 1 + 2 + 5 = 11\n",
    "```\n",
    "\n",
    "The final answer for this example is **11**.\n"
   ]
  },
  {
   "cell_type": "markdown",
   "metadata": {},
   "source": [
    "::: {.callout-note collapse=\"true\" title=\"Save example input to a variable\"}\n",
    "\n",
    "To help test the execution, I will save example input to a variable."
   ]
  },
  {
   "cell_type": "code",
   "execution_count": 1,
   "metadata": {},
   "outputs": [],
   "source": [
    "example_input = \"\"\"\n",
    "3   4\n",
    "4   3\n",
    "2   5\n",
    "1   3\n",
    "3   9\n",
    "3   3\n",
    "\"\"\""
   ]
  },
  {
   "cell_type": "markdown",
   "metadata": {},
   "source": [
    ":::"
   ]
  },
  {
   "cell_type": "markdown",
   "metadata": {},
   "source": [
    "The first part, and the first task all together are the warmup tasks -- relatively easy and quick! To solve it, I will:\n",
    "\n",
    "- Read the inputs into two sorted lists\n",
    "- Calculate and sum the differences\n",
    "\n",
    "Let’s start by reading the inputs."
   ]
  },
  {
   "cell_type": "code",
   "execution_count": 2,
   "metadata": {},
   "outputs": [
    {
     "data": {
      "text/plain": [
       "((3, 4, 2, 1, 3, 3), (4, 3, 5, 3, 9, 3))"
      ]
     },
     "execution_count": 2,
     "metadata": {},
     "output_type": "execute_result"
    }
   ],
   "source": [
    "import os\n",
    "\n",
    "def read_input(input_source):\n",
    "    \"\"\"Read input from a file path or a string of lines.\"\"\"\n",
    "    if os.path.isfile(input_source):\n",
    "        with open(input_source, \"r\") as f:\n",
    "            lines = f.readlines()\n",
    "    else:\n",
    "        lines = input_source.strip().split(\"\\n\")\n",
    "\n",
    "    left, right = zip(\n",
    "        *(map(int, line.split()) for line in lines if line.strip())\n",
    "    )\n",
    "\n",
    "    return left, right\n",
    "\n",
    "\n",
    "read_input(example_input)"
   ]
  },
  {
   "cell_type": "markdown",
   "metadata": {},
   "source": [
    "::: {.callout-note collapse=\"true\"}\n",
    "\n",
    "### Helper function to verify the answer\n",
    "\n",
    "I will create a helper function to verify the answer and print nice message."
   ]
  },
  {
   "cell_type": "code",
   "execution_count": 3,
   "metadata": {},
   "outputs": [],
   "source": [
    "def verify_answer(f, expected_answer, example_input=example_input):\n",
    "    \"\"\"Verify the answer\"\"\"\n",
    "    result = f(example_input)\n",
    "    if result == expected_answer:\n",
    "        print(f\"✔️ That's right! The answer is {expected_answer}.\")\n",
    "    else:\n",
    "        print(f\"❌ Expected {expected_answer}, but got {result}.\")"
   ]
  },
  {
   "cell_type": "markdown",
   "metadata": {},
   "source": [
    ":::"
   ]
  },
  {
   "cell_type": "markdown",
   "metadata": {},
   "source": [
    "And then, I will calculate the sum of differences."
   ]
  },
  {
   "cell_type": "code",
   "execution_count": 4,
   "metadata": {},
   "outputs": [
    {
     "name": "stdout",
     "output_type": "stream",
     "text": [
      "✔️ That's right! The answer is 11.\n"
     ]
    }
   ],
   "source": [
    "def part_one(input_source):\n",
    "    \"\"\"Get the answer to the first part, i.e. the sum of the absolute\n",
    "    differences between two sorted lists.\"\"\"\n",
    "    left, right = read_input(input_source)\n",
    "    return sum(abs(l - r) for l, r in zip(sorted(left), sorted(right)))\n",
    "\n",
    "verify_answer(part_one, 11)"
   ]
  },
  {
   "cell_type": "code",
   "execution_count": 5,
   "metadata": {},
   "outputs": [
    {
     "name": "stdout",
     "output_type": "stream",
     "text": [
      "CPU times: user 1 μs, sys: 1 μs, total: 2 μs\n",
      "Wall time: 4.05 μs\n"
     ]
    },
    {
     "data": {
      "text/plain": [
       "2430334"
      ]
     },
     "execution_count": 5,
     "metadata": {},
     "output_type": "execute_result"
    }
   ],
   "source": [
    "%time\n",
    "part_one(\"inputs/Day01.txt\")"
   ]
  },
  {
   "cell_type": "markdown",
   "metadata": {},
   "source": [
    "That's the right answer! You are one gold star ⭐ closer to finding the Chief Historian."
   ]
  },
  {
   "cell_type": "markdown",
   "metadata": {},
   "source": [
    "## Part 2: Weighted sum of common elements\n",
    "\n",
    "In this part, we calculate a weighted sum based on the frequency of each number from the left list in the right list. Here's the step-by-step process:\n",
    "\n",
    "1. Count how many times each number from the **left list** appears in the **right list**.  \n",
    "2. Multiply each number from the left list by its count in the right list.  \n",
    "3. Sum up all these products to get the answer.\n",
    "\n",
    "Here's an example -- given input:\n",
    "\n",
    "```\n",
    "3   4\n",
    "4   3\n",
    "2   5\n",
    "1   3\n",
    "3   9\n",
    "3   3\n",
    "```\n",
    "\n",
    "First, we need to count how many times each number in the **left list** appears in the **right list**:\n",
    "\n",
    "- `3` appears **3 times** in the right list.  \n",
    "- `4` appears **1 time** in the right list.  \n",
    "- `2` and `1` do not appear in the right list.  \n",
    "\n",
    "Then, for each number in the **left list**, multiply it by its count from the right list:\n",
    "\n",
    "- For `3`: `3 * 3 = 9`  \n",
    "- For `4`: `4 * 1 = 4`  \n",
    "- For `2`: `2 * 0 = 0`  \n",
    "- For `1`: `1 * 0 = 0`  \n",
    "- Repeat this for each occurrence of `3` in the left list.  \n",
    "\n",
    "And finally, add all the products together:\n",
    "\n",
    "```\n",
    "9 + 4 + 0 + 0 + 9 + 9 = 31\n",
    "```\n",
    "\n",
    "The total weighted sum is **31**."
   ]
  },
  {
   "cell_type": "markdown",
   "metadata": {},
   "source": [
    "In the answer, I will re-use reading the inputs from part one and I will use the `Counter` class from the `collections` module to count the occurrences of each number from the left list in the right list. Then, I will calculate the weighted sum."
   ]
  },
  {
   "cell_type": "code",
   "execution_count": 6,
   "metadata": {},
   "outputs": [
    {
     "name": "stdout",
     "output_type": "stream",
     "text": [
      "✔️ That's right! The answer is 31.\n"
     ]
    }
   ],
   "source": [
    "from collections import Counter\n",
    "\n",
    "def part_two(input_source):\n",
    "    \"\"\"\n",
    "    Get the answer to the second part, i.e., the sum of the product of\n",
    "    the number and the number of times it appears in the right list.\n",
    "    \"\"\"\n",
    "    left, right = read_input(input_source)\n",
    "\n",
    "    # Count occurrences in both lists\n",
    "    left_counts = Counter(left)\n",
    "    right_counts = Counter(right)\n",
    "\n",
    "    # \n",
    "    total = sum(\n",
    "        left_counts[key] * right_counts[key] * key\n",
    "        for key in left_counts\n",
    "        if key in right_counts\n",
    "    )\n",
    "\n",
    "    return total\n",
    "\n",
    "\n",
    "verify_answer(part_two, 31)"
   ]
  },
  {
   "cell_type": "markdown",
   "metadata": {},
   "source": [
    "::: {.callout-note collapse=\"true\"}\n",
    "### Replacing `collections.Counter` with a custom function\n",
    "If I would want to limit the use of any libraries, I would write a function that counts the occurrences of each element in the list. \n",
    "\n",
    "```python\n",
    "def count_occurrences(input_list: list) -> dict:\n",
    "    \"\"\"Counts occurrences of each element in the list.\"\"\"\n",
    "    counts = {}\n",
    "    for num in input_list:\n",
    "        counts[num] = counts.get(num, 0) + 1\n",
    "    return counts\n",
    "```\n",
    ":::"
   ]
  },
  {
   "cell_type": "code",
   "execution_count": 7,
   "metadata": {},
   "outputs": [
    {
     "name": "stdout",
     "output_type": "stream",
     "text": [
      "CPU times: user 1 μs, sys: 0 ns, total: 1 μs\n",
      "Wall time: 3.1 μs\n"
     ]
    },
    {
     "data": {
      "text/plain": [
       "28786472"
      ]
     },
     "execution_count": 7,
     "metadata": {},
     "output_type": "execute_result"
    }
   ],
   "source": [
    "%time\n",
    "part_two(\"inputs/Day01.txt\")"
   ]
  },
  {
   "cell_type": "markdown",
   "metadata": {},
   "source": [
    "That's the right answer! You are one gold star ⭐ closer to finding the Chief Historian."
   ]
  },
  {
   "cell_type": "markdown",
   "metadata": {},
   "source": [
    "## Bonus Bash solutions\n",
    "\n",
    "I wanted to see how the same problems can be solved in Bash. The full script is available in the [`Day01.sh` file in the repository](https://github.com/kzkedzierska/aoc/2024/Day01.sh). Here's a brief overview of the Bash solutions:\n",
    "\n",
    "::: {.callout-note collapse=\"true\" title=\"Part 1\"}\n",
    "\n",
    "In part 1, I sort both lists, merge them, calculate the absolute differences, and sum them up. \n",
    "\n",
    "```bash\n",
    "part_one() {\n",
    "  local input_file=$1\n",
    "  paste \\\n",
    "    <(tr -s ' ' <\"${input_file}\" | cut -f1 -d' ' | sort) \\\n",
    "    <(tr -s ' ' <\"${input_file}\" | cut -f2 -d' ' | sort) |\n",
    "    awk -v FS=\" \" 'function abs(x) {\n",
    "      return ((x < 0.0) ? -x : x)\n",
    "    } {print abs($1 - $2)}' |\n",
    "    paste -sd+ - |\n",
    "    bc\n",
    "}\n",
    "```\n",
    "\n",
    "I am using `paste` to merge the two sorted lists, `awk` to calculate the absolute differences, and `bc` to sum them up. \n",
    "\n",
    ":::\n",
    "\n",
    "::: {.callout-note collapse=\"true\" title=\"Part 2\"}\n",
    "\n",
    "The second part is a bit more complex, as it requires counting the occurrences of each number in the right list. Here's the Bash solution for part two:\n",
    "\n",
    "```bash\n",
    "part_two() {\n",
    "  local input_file=$1\n",
    "  join -j 1 \\\n",
    "    <(tr -s ' ' <\"${input_file}\" | cut -f1 -d' ' | sort | uniq -c |\n",
    "      tr -s ' ' | awk '{print $2, $1}') \\\n",
    "    <(tr -s ' ' <\"${input_file}\" | cut -f2 -d' ' | sort | uniq -c |\n",
    "      tr -s ' ' | awk '{print $2, $1}') |\n",
    "    awk '{printf $1 \"*\" $2 \"*\" $3 \"+\"} END {print \"0\"}' |\n",
    "    bc\n",
    "}\n",
    "```\n",
    "\n",
    "Here, I use:\n",
    "\n",
    "* `uniq -c` which counts the occurrences of each number in both lists,     \n",
    "* `join` which combines the left and right lists by their numbers,  \n",
    "* with `awk` I formats the weighted sum equation as `num * left_count * right_count`,   \n",
    "* and finally, I use `bc` to evaluate the final equation.  \n",
    "\n",
    ":::\n",
    "\n",
    "In the script I also added functions to check the answers and print them with `cowsay` for some extra flavor. Like this:\n",
    "\n",
    "```console\n",
    "  _                 \n",
    " |_) _. ._ _|_   /| \n",
    " |  (_| |   |_    | \n",
    "                    \n",
    " _______________________________ \n",
    "< Part 1 - example test passed! >\n",
    " ------------------------------- \n",
    "   \\\n",
    "    \\\n",
    "        .--.\n",
    "       |o_o |\n",
    "       |:_/ |\n",
    "      //   \\ \\\n",
    "     (|     | )\n",
    "    /'\\_   _/`\\\n",
    "    \\___)=(___/\n",
    "\n",
    " ___________________________ \n",
    "< Part 1 answer is: 2430334 >\n",
    " --------------------------- \n",
    "        \\   ^__^\n",
    "         \\  (oo)\\_______\n",
    "            (__)\\       )\\/\\\n",
    "                ||----w |\n",
    "                ||     ||\n",
    "```\n"
   ]
  }
 ],
 "metadata": {
  "kernelspec": {
   "display_name": "aoc2024",
   "language": "python",
   "name": "python3"
  },
  "language_info": {
   "codemirror_mode": {
    "name": "ipython",
    "version": 3
   },
   "file_extension": ".py",
   "mimetype": "text/x-python",
   "name": "python",
   "nbconvert_exporter": "python",
   "pygments_lexer": "ipython3",
   "version": "3.13.0"
  }
 },
 "nbformat": 4,
 "nbformat_minor": 2
}
