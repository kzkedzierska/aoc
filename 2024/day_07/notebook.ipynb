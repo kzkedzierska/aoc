{
 "cells": [
  {
   "cell_type": "raw",
   "metadata": {
    "vscode": {
     "languageId": "raw"
    }
   },
   "source": [
    "---\n",
    "title: 'Day 7'\n",
    "author: \"Kasia Kedzierska\"\n",
    "date: December 07, 2024\n",
    "date-modified: last-modified\n",
    "format:\n",
    "  html:\n",
    "    theme: sketchy\n",
    "    css: misc/custom.css\n",
    "    code-fold: false\n",
    "    embed-resources: true\n",
    "    toc: true\n",
    "jupyter: python3\n",
    "---"
   ]
  },
  {
   "cell_type": "markdown",
   "metadata": {},
   "source": []
  },
  {
   "cell_type": "code",
   "execution_count": 29,
   "metadata": {},
   "outputs": [
    {
     "data": {
      "text/plain": [
       "3749"
      ]
     },
     "execution_count": 29,
     "metadata": {},
     "output_type": "execute_result"
    }
   ],
   "source": [
    "from pathlib import Path\n",
    "\n",
    "\n",
    "def part_one(input):\n",
    "    if Path(input).exists():\n",
    "        with open(input, \"r\") as f:\n",
    "            input = f.read()\n",
    "\n",
    "    def calc(res, running_res, equat, sign=\"+\"):\n",
    "        if sign == \"+\":\n",
    "            new_running_res = running_res + equat[0]\n",
    "        else:\n",
    "            new_running_res = running_res * equat[0]\n",
    "            \n",
    "        if new_running_res > res:\n",
    "            return 0\n",
    "        elif len(equat) == 1 and new_running_res == res:\n",
    "            return 1\n",
    "        elif len(equat) == 1 and new_running_res != res:\n",
    "            return 0\n",
    "        else:\n",
    "            return calc(res, new_running_res, equat[1:], sign=\"+\") + calc(\n",
    "                res, new_running_res, equat[1:], sign=\"*\"\n",
    "            )\n",
    "\n",
    "    correct_equations = 0\n",
    "    for line in input.splitlines():\n",
    "        line = line.strip()\n",
    "\n",
    "        equat = line.split(\": \")\n",
    "        result = int(equat[0])\n",
    "        el = [int(i) for i in equat[1].split(\" \")]\n",
    "\n",
    "        \n",
    "        if (calc(result, el[0], el[1:], sign=\"+\") + calc(result, el[0], el[1:], sign=\"*\")) > 0:\n",
    "            correct_equations+=result\n",
    "    \n",
    "    return correct_equations\n",
    "\n",
    "\n",
    "part_one(\"../inputs/example_day_07.txt\")"
   ]
  },
  {
   "cell_type": "code",
   "execution_count": 30,
   "metadata": {},
   "outputs": [
    {
     "name": "stdout",
     "output_type": "stream",
     "text": [
      "CPU times: user 2 μs, sys: 0 ns, total: 2 μs\n",
      "Wall time: 3.81 μs\n"
     ]
    },
    {
     "data": {
      "text/plain": [
       "2654749936343"
      ]
     },
     "execution_count": 30,
     "metadata": {},
     "output_type": "execute_result"
    }
   ],
   "source": [
    "%time\n",
    "\n",
    "part_one(\"../inputs/day_07.txt\")"
   ]
  }
 ],
 "metadata": {
  "kernelspec": {
   "display_name": "aoc2024",
   "language": "python",
   "name": "python3"
  },
  "language_info": {
   "codemirror_mode": {
    "name": "ipython",
    "version": 3
   },
   "file_extension": ".py",
   "mimetype": "text/x-python",
   "name": "python",
   "nbconvert_exporter": "python",
   "pygments_lexer": "ipython3",
   "version": "3.13.0"
  }
 },
 "nbformat": 4,
 "nbformat_minor": 2
}
