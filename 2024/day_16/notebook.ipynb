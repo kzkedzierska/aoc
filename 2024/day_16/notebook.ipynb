{
 "cells": [
  {
   "cell_type": "raw",
   "metadata": {
    "vscode": {
     "languageId": "raw"
    }
   },
   "source": [
    "---\n",
    "title: 'Day 16'\n",
    "author: \"Kasia Kedzierska\"\n",
    "date: December 16, 2024\n",
    "date-modified: last-modified\n",
    "format:\n",
    "  html:\n",
    "    theme: sketchy\n",
    "    css: misc/custom.css\n",
    "    code-fold: false\n",
    "    embed-resources: true\n",
    "    toc: true\n",
    "jupyter: python3\n",
    "---"
   ]
  },
  {
   "cell_type": "markdown",
   "metadata": {},
   "source": []
  },
  {
   "cell_type": "markdown",
   "metadata": {},
   "source": [
    "Today we are spectators to the Reindeer Olympics -- specifically the Reindeer Maze. Check out the full back story and problem setup on the official [Day 16 of Advent of Code 2024](https://adventofcode.com/2024/day/16) website.\n",
    "\n",
    "And here's the ChatGPT generated graphic of how the elves are traveling in their submarine to get us started:\n",
    "\n",
    "![](chatgpt_image.webp){width=75% fig-align=\"center\"}"
   ]
  },
  {
   "cell_type": "markdown",
   "metadata": {},
   "source": [
    "::: {.callout-note collapse=\"true\" title=\"Setting up\"}"
   ]
  },
  {
   "cell_type": "code",
   "execution_count": 1,
   "metadata": {},
   "outputs": [],
   "source": [
    "from misc.helper import verify_answer\n",
    "\n",
    "example_input_file_1 = \"../inputs/example_day_16_1.txt\"\n",
    "example_input_file_2 = \"../inputs/example_day_16_2.txt\"\n",
    "input_file = \"../inputs/day_16.txt\""
   ]
  },
  {
   "cell_type": "markdown",
   "metadata": {},
   "source": [
    ":::"
   ]
  },
  {
   "cell_type": "markdown",
   "metadata": {},
   "source": [
    "## Part 1: Cheapest path\n",
    "\n",
    "In this task, we are given a maze and need to determine the *cheapest path* from the start (`S`) to the end (`E`). The maze is a grid where every movement has an associated cost. \n",
    "\n",
    "### Movement Rules:\n",
    "1. **Starting Point**: We begin at `S`, facing **East**.  \n",
    "2. **Moving Forward**: A step in the current direction costs **1**.  \n",
    "3. **Turning**: Changing direction either **clockwise** or **counterclockwise** costs **1000**.  \n",
    "4. **Walls**: Movement into walls is **not allowed**.  \n",
    "\n",
    "The objective is to find the path from `S` to `E` with the **minimum cost**.\n",
    "\n",
    "### Example Maze\n",
    "\n",
    "Consider the following grid:\n",
    "\n",
    "![](images/example_grid.jpg){width=35% fig-align=\"center\"}\n",
    "\n",
    "### Example Solution\n",
    "\n",
    "There are two possible paths from `S` to `E`:\n",
    "\n",
    "1. The first path involves **2 rotations** and **6 steps**, resulting in a total cost of **2006**.\n",
    "2. The second path involves **2 rotations** and **4 steps**, resulting in a total cost of **2004**.\n",
    "\n",
    "![](images/example_grid_shortest_paths.jpg){width=75% fig-align=\"center\"}\n",
    "\n",
    "Thus, the **cheapest path** has a cost of **2004**."
   ]
  },
  {
   "cell_type": "markdown",
   "metadata": {},
   "source": [
    "First, let's parse the input data and represent the maze as an array."
   ]
  },
  {
   "cell_type": "code",
   "execution_count": 2,
   "metadata": {},
   "outputs": [
    {
     "data": {
      "text/plain": [
       "(array([[1., 1., 1., 1., 1.],\n",
       "        [1., 0., 0., 0., 1.],\n",
       "        [1., 0., 1., 0., 1.],\n",
       "        [1., 0., 1., 0., 1.],\n",
       "        [1., 0., 0., 0., 1.],\n",
       "        [1., 1., 1., 1., 1.]]),\n",
       " (4, 1),\n",
       " (1, 2))"
      ]
     },
     "execution_count": 2,
     "metadata": {},
     "output_type": "execute_result"
    }
   ],
   "source": [
    "import numpy as np\n",
    "\n",
    "simple_grid = \"\"\"\n",
    "#####\n",
    "#.E.#\n",
    "#.#.#\n",
    "#.#.#\n",
    "#S..#\n",
    "#####\n",
    "\"\"\"\n",
    "\n",
    "\n",
    "def parse_input(grid):\n",
    "    grid = grid.strip().split(\"\\n\")\n",
    "    grid_mat = np.zeros((len(grid), len(grid[0])))\n",
    "    for i, row in enumerate(grid):\n",
    "        for j, cell in enumerate(row):\n",
    "            if cell == \"S\":\n",
    "                start = (i, j)\n",
    "            elif cell == \"E\":\n",
    "                end = (i, j)\n",
    "            grid_mat[i, j] = 1 if cell == \"#\" else 0\n",
    "    return grid_mat, start, end\n",
    "\n",
    "\n",
    "parse_input(simple_grid)"
   ]
  },
  {
   "cell_type": "markdown",
   "metadata": {},
   "source": [
    "Next, I will use the Dijkstra's algorithm to find the cheapest path from `S` to `E`. I will leverage `heapq` to implement the priority queue required for Dijkstra's algorithm."
   ]
  },
  {
   "cell_type": "code",
   "execution_count": 3,
   "metadata": {},
   "outputs": [],
   "source": [
    "import heapq\n",
    "\n",
    "\n",
    "def find_cheapest_path(grid, start, end, initial_dir=(0, 1)):\n",
    "    n, m = grid.shape\n",
    "    clockwise = np.array([[0, 1], [-1, 0]])\n",
    "    counterclockwise = np.array([[0, -1], [1, 0]])\n",
    "\n",
    "    # priority queue: (cost, (i, j), direction)\n",
    "    pq = []\n",
    "    heapq.heappush(pq, (0, start, np.array(initial_dir)))\n",
    "\n",
    "    # make note of visited cells\n",
    "    visited = set()\n",
    "\n",
    "    while pq:\n",
    "        cost, (i, j), dir = heapq.heappop(pq)\n",
    "\n",
    "        # if at the end, return the cost\n",
    "        if (i, j) == end:\n",
    "            return cost\n",
    "\n",
    "        visited.add((i, j, tuple(dir)))\n",
    "\n",
    "        # forward\n",
    "        new_i, new_j = i + dir[0], j + dir[1]\n",
    "        if 0 <= new_i < n and 0 <= new_j < m and grid[new_i, new_j] != 1:\n",
    "            if (new_i, new_j, tuple(dir)) not in visited:\n",
    "                heapq.heappush(pq, (cost + 1, (new_i, new_j), tuple(dir)))\n",
    "\n",
    "        for new_dir in [clockwise @ dir, counterclockwise @ dir]:\n",
    "            new_i, new_j = i + new_dir[0], j + new_dir[1]\n",
    "            if 0 <= new_i < n and 0 <= new_j < m and grid[new_i, new_j] != 1:\n",
    "                if (new_i, new_j, tuple(new_dir)) not in visited:\n",
    "                    heapq.heappush(\n",
    "                        pq, (cost + 1001, (new_i, new_j), tuple(new_dir))\n",
    "                    )\n",
    "    return -1  # no path found"
   ]
  },
  {
   "cell_type": "markdown",
   "metadata": {},
   "source": [
    "Finally, I will assemble the functions into `part_one` to solve the problem."
   ]
  },
  {
   "cell_type": "code",
   "execution_count": 4,
   "metadata": {},
   "outputs": [],
   "source": [
    "from pathlib import Path\n",
    "\n",
    "\n",
    "def part_one(input: str) -> int:\n",
    "    if Path(input).is_file():\n",
    "        with open(input, \"r\") as f:\n",
    "            grid = f.read()\n",
    "    else:\n",
    "        grid = input\n",
    "\n",
    "    return find_cheapest_path(*parse_input(grid))"
   ]
  },
  {
   "cell_type": "markdown",
   "metadata": {},
   "source": [
    "I will test the solution on the example above and the ones provided in the problem statement."
   ]
  },
  {
   "cell_type": "code",
   "execution_count": 5,
   "metadata": {},
   "outputs": [
    {
     "name": "stdout",
     "output_type": "stream",
     "text": [
      "✔️ That's right! The answer is 2004.\n"
     ]
    }
   ],
   "source": [
    "verify_answer(part_one, simple_grid, 2004)"
   ]
  },
  {
   "cell_type": "code",
   "execution_count": 6,
   "metadata": {},
   "outputs": [
    {
     "name": "stdout",
     "output_type": "stream",
     "text": [
      "✔️ That's right! The answer is 7036.\n"
     ]
    }
   ],
   "source": [
    "verify_answer(part_one, example_input_file_1, 7036)"
   ]
  },
  {
   "cell_type": "code",
   "execution_count": 7,
   "metadata": {},
   "outputs": [
    {
     "name": "stdout",
     "output_type": "stream",
     "text": [
      "✔️ That's right! The answer is 11048.\n"
     ]
    }
   ],
   "source": [
    "verify_answer(part_one, example_input_file_2, 11048)"
   ]
  },
  {
   "cell_type": "markdown",
   "metadata": {},
   "source": [
    "Since the solutions are correct, I will proceed to solve the actual problem."
   ]
  },
  {
   "cell_type": "code",
   "execution_count": 8,
   "metadata": {},
   "outputs": [
    {
     "name": "stdout",
     "output_type": "stream",
     "text": [
      "CPU times: user 1.13 s, sys: 7.71 ms, total: 1.14 s\n",
      "Wall time: 1.17 s\n"
     ]
    },
    {
     "data": {
      "text/plain": [
       "102488"
      ]
     },
     "execution_count": 8,
     "metadata": {},
     "output_type": "execute_result"
    }
   ],
   "source": [
    "%time part_one(input_file)"
   ]
  },
  {
   "cell_type": "markdown",
   "metadata": {},
   "source": [
    "> That's the right answer! You are one gold star ⭐ closer to finding the Chief Historian."
   ]
  },
  {
   "cell_type": "markdown",
   "metadata": {},
   "source": [
    "## Part 2: All visited cells \n",
    "\n",
    "In this part, we need to count the number of cells visited by while walking from `S` to `E` using any of the cheapest path. In the example case, we would count **5** cells.\n",
    "\n",
    "![](./images/example_grid_spots.jpg){width=35% fig-align=\"center\"}\n",
    "\n",
    "This time, I will modify the solution to include noting all paths that have the same minimum cost. I will then create a set of all visited cells and return the count."
   ]
  },
  {
   "cell_type": "code",
   "execution_count": 9,
   "metadata": {},
   "outputs": [],
   "source": [
    "def find_cheapest_path_with_visited(grid, start, end, initial_dir=(0, 1)):\n",
    "    n, m = grid.shape\n",
    "    clockwise = np.array([[0, 1], [-1, 0]])\n",
    "    counterclockwise = np.array([[0, -1], [1, 0]])\n",
    "\n",
    "    # priority queue: (cost, (i, j), direction as tuple, path)\n",
    "    pq = []\n",
    "    heapq.heappush(pq, (0, start, tuple(initial_dir), [start]))\n",
    "\n",
    "    # dictionary to store visited states\n",
    "    visited = {}\n",
    "\n",
    "    # store all paths with the cheapest cost\n",
    "    all_paths = []\n",
    "    cheapest_cost = None\n",
    "\n",
    "    while pq:\n",
    "        cost, (i, j), dir, path = heapq.heappop(pq)\n",
    "\n",
    "        state = (i, j, dir)\n",
    "\n",
    "        # if already visited, skip if this path is more expensive\n",
    "        if state in visited:\n",
    "            if cost > visited[state]:\n",
    "                continue\n",
    "        visited[state] = cost\n",
    "\n",
    "        # if at the end, store the path\n",
    "        if (i, j) == end:\n",
    "            if cheapest_cost is None:\n",
    "                cheapest_cost = cost\n",
    "            if cost == cheapest_cost:\n",
    "                all_paths.append(path)\n",
    "            continue\n",
    "\n",
    "        # move forward\n",
    "        new_i, new_j = i + dir[0], j + dir[1]\n",
    "        if 0 <= new_i < n and 0 <= new_j < m and grid[new_i, new_j] != 1:\n",
    "            heapq.heappush(\n",
    "                pq, (cost + 1, (new_i, new_j), dir, path + [(new_i, new_j)])\n",
    "            )\n",
    "\n",
    "        for turn in [clockwise, counterclockwise]:\n",
    "            new_dir = turn @ np.array(dir)\n",
    "            new_i, new_j = i + new_dir[0], j + new_dir[1]\n",
    "            if 0 <= new_i < n and 0 <= new_j < m and grid[new_i, new_j] != 1:\n",
    "                heapq.heappush(\n",
    "                    pq,\n",
    "                    (\n",
    "                        cost + 1001,\n",
    "                        (new_i, new_j),\n",
    "                        tuple(new_dir),\n",
    "                        path + [(new_i, new_j)],\n",
    "                    ),\n",
    "                )\n",
    "\n",
    "    return len(set(sum(all_paths, [])))"
   ]
  },
  {
   "cell_type": "markdown",
   "metadata": {},
   "source": [
    "Now, I will assemble the functions into `part_two` to solve the problem."
   ]
  },
  {
   "cell_type": "code",
   "execution_count": 10,
   "metadata": {},
   "outputs": [],
   "source": [
    "def part_two(input: str) -> int:\n",
    "    if Path(input).is_file():\n",
    "        with open(input, \"r\") as f:\n",
    "            grid = f.read()\n",
    "    else:\n",
    "        grid = input\n",
    "\n",
    "    return find_cheapest_path_with_visited(*parse_input(grid), (0, 1))"
   ]
  },
  {
   "cell_type": "markdown",
   "metadata": {},
   "source": [
    "Couple of tests to ensure the solution is working as expected:"
   ]
  },
  {
   "cell_type": "code",
   "execution_count": 11,
   "metadata": {},
   "outputs": [
    {
     "name": "stdout",
     "output_type": "stream",
     "text": [
      "✔️ That's right! The answer is 45.\n"
     ]
    }
   ],
   "source": [
    "verify_answer(part_two, example_input_file_1, 45)"
   ]
  },
  {
   "cell_type": "code",
   "execution_count": 12,
   "metadata": {},
   "outputs": [
    {
     "name": "stdout",
     "output_type": "stream",
     "text": [
      "✔️ That's right! The answer is 64.\n"
     ]
    }
   ],
   "source": [
    "verify_answer(part_two, example_input_file_2, 64)"
   ]
  },
  {
   "cell_type": "markdown",
   "metadata": {},
   "source": [
    "Since the tests passed, I will now run the solution on the input data."
   ]
  },
  {
   "cell_type": "code",
   "execution_count": 13,
   "metadata": {},
   "outputs": [
    {
     "name": "stdout",
     "output_type": "stream",
     "text": [
      "CPU times: user 4.63 s, sys: 42.6 ms, total: 4.67 s\n",
      "Wall time: 4.71 s\n"
     ]
    },
    {
     "data": {
      "text/plain": [
       "559"
      ]
     },
     "execution_count": 13,
     "metadata": {},
     "output_type": "execute_result"
    }
   ],
   "source": [
    "%time part_two(input_file)"
   ]
  },
  {
   "cell_type": "markdown",
   "metadata": {},
   "source": [
    "> That's the right answer! You are one gold star ⭐ closer to finding the Chief Historian."
   ]
  }
 ],
 "metadata": {
  "kernelspec": {
   "display_name": "aoc2024",
   "language": "python",
   "name": "python3"
  },
  "language_info": {
   "codemirror_mode": {
    "name": "ipython",
    "version": 3
   },
   "file_extension": ".py",
   "mimetype": "text/x-python",
   "name": "python",
   "nbconvert_exporter": "python",
   "pygments_lexer": "ipython3",
   "version": "3.13.0"
  }
 },
 "nbformat": 4,
 "nbformat_minor": 2
}
