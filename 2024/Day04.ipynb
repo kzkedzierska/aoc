{
 "cells": [
  {
   "cell_type": "raw",
   "metadata": {
    "vscode": {
     "languageId": "raw"
    }
   },
   "source": [
    "---\n",
    "title: \"Day 4: Ceres Search\"\n",
    "author: \"Kasia Kedzierska\"\n",
    "date: December 4, 2024\n",
    "date-modified: last-modified\n",
    "format:\n",
    "  html:\n",
    "    theme: sketchy\n",
    "    css: misc/custom.css\n",
    "    code-fold: false\n",
    "    embed-resources: true\n",
    "    toc: true\n",
    "jupyter: python3\n",
    "---"
   ]
  },
  {
   "cell_type": "markdown",
   "metadata": {},
   "source": [
    "Today, we're searching the **Ceres monitoring station** and we're helping adorable little Elf with their word search.\n",
    "\n",
    "Do check out the full details of the task on the official [Day 4 of Advent of Code 2024](https://adventofcode.com/2024/day/4) website -- the puzzles come with a cute story.\n",
    "\n",
    "And as per tradition, let's set the set the scene with ChatGPT illustration of the day.\n",
    "\n",
    "![](ai_illustrations/Day04.webp){width=75% fig-align=\"center\"}"
   ]
  },
  {
   "cell_type": "markdown",
   "metadata": {},
   "source": [
    "## Part 1: Searching for XMAS\n",
    "\n",
    "The challenge is to find occurrences of the word `XMAS` in a given letter grid. The twist is that the word can appear in any direction: horizontally, vertically, or diagonally, and even in reverse order. This adds a layer of complexity as we must account for all possible orientations.\n",
    "\n",
    "\n",
    "Here’s an example of a grid with all letters not spelling `XMAS` removed:\n",
    "\n",
    "![](clean_example_grid.jpg){width=50% fig-align=\"center\"}\n",
    "\n",
    "Our task is to count how many times `XMAS` appears in a provided grid, considering all the possible directions. \n",
    "\n",
    "For example, in the grid below:\n",
    "\n",
    "![](example_grid.jpg){width=50% fig-align=\"center\"}\n",
    "\n",
    "The word `XMAS` appears **7 times**."
   ]
  },
  {
   "cell_type": "markdown",
   "metadata": {},
   "source": [
    "### My approach\n",
    "\n",
    "For this one, I want to solve it in a single pass through the grid. Here's my plan:\n",
    "\n",
    "1. I'll go through each character in the grid.  \n",
    "\n",
    "2. If I encounter an `X` or an `S`, I’ll add it to a dictionary to track potential matches. For each match, I’ll:\n",
    "   - Note the directions to explore (`right`, `diagonal left`, `diagonal right`, and `down`).  \n",
    "   - Keep track of whether I’m spelling the word forward or backward.  \n",
    "   - Record the next letter I’m expecting to find.  \n",
    "\n",
    "3. For each position, I’ll check:\n",
    "   - If it’s already being tracked in the dictionary.  \n",
    "   - If so, I’ll see if the letter matches what I’m expecting. If it does, I’ll update the dictionary with the next position to check.  \n",
    "\n",
    "4. By doing this, I ensure:\n",
    "   - Each position is only processed once.  \n",
    "   - I avoid any redundant checks or unnecessary traversals.  \n",
    "\n",
    "This approach keeps things efficient and clean while letting me track progress dynamically. "
   ]
  },
  {
   "cell_type": "markdown",
   "metadata": {},
   "source": [
    "::: {.callout-note collapse=\"true\" title=\"Setting up\"}"
   ]
  },
  {
   "cell_type": "code",
   "execution_count": 1,
   "metadata": {},
   "outputs": [],
   "source": [
    "from misc.helper import verify_answer\n",
    "\n",
    "tiny_example = \"\"\"\n",
    "..X...\n",
    ".SAMX.\n",
    ".A..A.\n",
    "XMAS.S\n",
    ".X....\n",
    "\"\"\"\n",
    "\n",
    "tiny_example_answer = 4\n",
    "\n",
    "my_example = \"\"\"\n",
    "XMXMMX\n",
    "ASMMMM\n",
    "SMAAAA\n",
    "AMSMMS\n",
    "MSAMXM\n",
    "XMASMS\n",
    "\"\"\"\n",
    "\n",
    "my_example_answer = 8\n",
    "\n",
    "example_input = \"\"\"\n",
    "MMMSXXMASM\n",
    "MSAMXMSMSA\n",
    "AMXSXMAAMM\n",
    "MSAMASMSMX\n",
    "XMASAMXAMM\n",
    "XXAMMXXAMA\n",
    "SMSMSASXSS\n",
    "SAXAMASAAA\n",
    "MAMMMXMMMM\n",
    "MXMXAXMASX\n",
    "\"\"\"\n",
    "\n",
    "example_answer_p1 = 18"
   ]
  },
  {
   "cell_type": "markdown",
   "metadata": {},
   "source": [
    ":::"
   ]
  },
  {
   "cell_type": "code",
   "execution_count": 2,
   "metadata": {},
   "outputs": [],
   "source": [
    "from pathlib import Path\n",
    "\n",
    "\n",
    "def part_one(input: str) -> int:\n",
    "    xmas = \"XMAS\"\n",
    "\n",
    "    if Path(input).exists():\n",
    "        with open(input) as f:\n",
    "            input = f.read()\n",
    "\n",
    "    check_position = {}\n",
    "    count_words = 0\n",
    "    directions = [(0, 1), (1, -1), (1, 0), (1, 1)]\n",
    "\n",
    "    for i, line in enumerate(input.strip().splitlines()):\n",
    "        for j, char in enumerate(line):\n",
    "            to_be_checked = check_position.pop((i, j), [])\n",
    "\n",
    "            for schar, coord, dir in to_be_checked:\n",
    "                if schar == char:\n",
    "                    if char in \"XS\":\n",
    "                        count_words += 1\n",
    "                    else:\n",
    "                        next_pos = (i + coord[0], j + coord[1])\n",
    "                        next_char = xmas[xmas.find(char) + dir]\n",
    "                        check_position.setdefault(next_pos, []).append(\n",
    "                            (next_char, coord, dir)\n",
    "                        )\n",
    "\n",
    "            if char in \"XS\":\n",
    "                direction_shift = 1 if char == \"X\" else -1\n",
    "                for dx, dy in directions:\n",
    "                    next_pos = (i + dx, j + dy)\n",
    "                    next_char = xmas[xmas.find(char) + direction_shift]\n",
    "                    check_position.setdefault(next_pos, []).append(\n",
    "                        (next_char, (dx, dy), direction_shift)\n",
    "                    )\n",
    "\n",
    "        check_position = {\n",
    "            key: val for key, val in check_position.items() if key[0] > i\n",
    "        }\n",
    "\n",
    "    return count_words"
   ]
  },
  {
   "cell_type": "code",
   "execution_count": 3,
   "metadata": {},
   "outputs": [
    {
     "name": "stdout",
     "output_type": "stream",
     "text": [
      "✔️ That's right! The answer is 4.\n"
     ]
    }
   ],
   "source": [
    "verify_answer(part_one, tiny_example, tiny_example_answer)"
   ]
  },
  {
   "cell_type": "code",
   "execution_count": 4,
   "metadata": {},
   "outputs": [
    {
     "name": "stdout",
     "output_type": "stream",
     "text": [
      "✔️ That's right! The answer is 8.\n"
     ]
    }
   ],
   "source": [
    "verify_answer(part_one, my_example, my_example_answer)"
   ]
  },
  {
   "cell_type": "code",
   "execution_count": 5,
   "metadata": {},
   "outputs": [
    {
     "name": "stdout",
     "output_type": "stream",
     "text": [
      "✔️ That's right! The answer is 18.\n"
     ]
    }
   ],
   "source": [
    "verify_answer(part_one, example_input, example_answer_p1)"
   ]
  },
  {
   "cell_type": "code",
   "execution_count": 6,
   "metadata": {},
   "outputs": [
    {
     "name": "stdout",
     "output_type": "stream",
     "text": [
      "CPU times: user 2 μs, sys: 0 ns, total: 2 μs\n",
      "Wall time: 5.72 μs\n"
     ]
    },
    {
     "data": {
      "text/plain": [
       "2560"
      ]
     },
     "execution_count": 6,
     "metadata": {},
     "output_type": "execute_result"
    }
   ],
   "source": [
    "%time\n",
    "part_one(\"./inputs/Day04.txt\")"
   ]
  },
  {
   "cell_type": "markdown",
   "metadata": {},
   "source": [
    "> That's the right answer! You are one gold star ⭐ closer to finding the Chief Historian."
   ]
  },
  {
   "cell_type": "markdown",
   "metadata": {},
   "source": [
    "## Part 2: Searching for X-MAS \n",
    "\n",
    "In this task, we need to find the shape `X` created by words `MAS`, like this:\n",
    "\n",
    "![](example_x-mas.jpg){width=20% fig-align=\"center\"}\n",
    "\n",
    "For example, in the grid below there are **5** `X-MAS` shapes:\n",
    "\n",
    "![](example_x-mas_grid.jpg){width=50% fig-align=\"center\"}"
   ]
  },
  {
   "cell_type": "markdown",
   "metadata": {},
   "source": [
    "### My approach\n",
    "\n",
    "Instead of trying to traverse the input in one pass, I’ll keep things simple by reading it to a matrix and checking each 3x3 submatrix for the `X-MAS` shape. Here’s my plan:\n",
    "\n",
    "1. I’ll first parse the grid into a matrix format for easy access.\n",
    "\n",
    "2. Then, I’ll loop through all possible 3x3 submatrices in the grid and check each submatrix for the `X-MAS` shape: \n",
    "   \n",
    "   For a valid shape, the following conditions must hold:  \n",
    "   - The center of the submatrix must be `A`.  \n",
    "   - The upper-right and lower-left corners must be either:\n",
    "     - `M` and `S`, or  \n",
    "     - `S` and `M`.  \n",
    "   - Similarly, the upper-left and lower-right corners must be either:\n",
    "     - `M` and `S`, or  \n",
    "     - `S` and `M`.\n",
    "\n",
    "4. Finally, if all these conditions are satisfied, I’ll increment a counter.\n",
    "\n",
    "This approach allows me to focus on identifying the pattern in localized regions of the grid, keeping the logic straightforward and easy to implement."
   ]
  },
  {
   "cell_type": "markdown",
   "metadata": {},
   "source": [
    "::: {.callout-note collapse=\"true\" title=\"Saving test answer\"}"
   ]
  },
  {
   "cell_type": "code",
   "execution_count": 7,
   "metadata": {},
   "outputs": [],
   "source": [
    "example_answer_p2 = 9\n",
    "\n",
    "small_x_mas_example = \"\"\"\n",
    "MASMSSM\n",
    "MAMAAAS\n",
    "MSSSSMM\n",
    "MAMMMSM\n",
    "MAAAAAM\n",
    "SMSSSSS\n",
    "\"\"\"\n",
    "\n",
    "small_x_mas_example_answer = 5"
   ]
  },
  {
   "cell_type": "markdown",
   "metadata": {},
   "source": [
    ":::"
   ]
  },
  {
   "cell_type": "code",
   "execution_count": 8,
   "metadata": {},
   "outputs": [],
   "source": [
    "def read_input_to_matrix(input: str) -> list:\n",
    "    if Path(input).exists():\n",
    "        with open(input) as f:\n",
    "            input = f.read()\n",
    "\n",
    "    output = []\n",
    "\n",
    "    for line in input.strip().splitlines():\n",
    "        output.append([c for c in line.strip()])\n",
    "\n",
    "    return output\n",
    "\n",
    "\n",
    "def part_two(input: str) -> int:\n",
    "    mat = read_input_to_matrix(input)\n",
    "\n",
    "    count_mats = 0\n",
    "\n",
    "    for i in range(len(mat[0]) - 2):\n",
    "        for j in range(len(mat) - 2):\n",
    "            center = mat[j + 1][i + 1]\n",
    "            top_left, bottom_right = mat[j][i], mat[j + 2][i + 2]\n",
    "            top_right, bottom_left = mat[j][i + 2], mat[j + 2][i]\n",
    "\n",
    "            cond_center = center == \"A\"\n",
    "            cond_lr = (top_left == \"M\" and bottom_right == \"S\") or (\n",
    "                top_left == \"S\" and bottom_right == \"M\"\n",
    "            )\n",
    "            cond_rl = (top_right == \"M\" and bottom_left == \"S\") or (\n",
    "                top_right == \"S\" and bottom_left == \"M\"\n",
    "            )\n",
    "\n",
    "            if cond_center and cond_lr and cond_rl:\n",
    "                count_mats += 1\n",
    "\n",
    "    return count_mats"
   ]
  },
  {
   "cell_type": "code",
   "execution_count": 9,
   "metadata": {},
   "outputs": [
    {
     "name": "stdout",
     "output_type": "stream",
     "text": [
      "✔️ That's right! The answer is 5.\n"
     ]
    }
   ],
   "source": [
    "verify_answer(part_two, small_x_mas_example, small_x_mas_example_answer)"
   ]
  },
  {
   "cell_type": "code",
   "execution_count": 10,
   "metadata": {},
   "outputs": [
    {
     "name": "stdout",
     "output_type": "stream",
     "text": [
      "✔️ That's right! The answer is 9.\n"
     ]
    }
   ],
   "source": [
    "verify_answer(part_two, example_input, example_answer_p2)"
   ]
  },
  {
   "cell_type": "code",
   "execution_count": 11,
   "metadata": {},
   "outputs": [
    {
     "name": "stdout",
     "output_type": "stream",
     "text": [
      "CPU times: user 1 μs, sys: 1 μs, total: 2 μs\n",
      "Wall time: 1.91 μs\n"
     ]
    },
    {
     "data": {
      "text/plain": [
       "1910"
      ]
     },
     "execution_count": 11,
     "metadata": {},
     "output_type": "execute_result"
    }
   ],
   "source": [
    "%time\n",
    "part_two(\"./inputs/Day04.txt\")"
   ]
  },
  {
   "cell_type": "markdown",
   "metadata": {},
   "source": [
    "> That's the right answer! You are one gold star ⭐ closer to finding the Chief Historian."
   ]
  }
 ],
 "metadata": {
  "kernelspec": {
   "display_name": "aoc2024",
   "language": "python",
   "name": "python3"
  },
  "language_info": {
   "codemirror_mode": {
    "name": "ipython",
    "version": 3
   },
   "file_extension": ".py",
   "mimetype": "text/x-python",
   "name": "python",
   "nbconvert_exporter": "python",
   "pygments_lexer": "ipython3",
   "version": "3.13.0"
  }
 },
 "nbformat": 4,
 "nbformat_minor": 2
}
