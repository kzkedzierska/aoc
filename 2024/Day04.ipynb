{
 "cells": [
  {
   "cell_type": "raw",
   "metadata": {},
   "source": [
    "---\n",
    "title: \"Day 3: Mull It Over\"\n",
    "author: \"Kasia Kedzierska\"\n",
    "date: December 3, 2024\n",
    "date-modified: last-modified\n",
    "format:\n",
    "  html:\n",
    "    theme: sketchy\n",
    "    css: misc/custom.css\n",
    "    code-fold: false\n",
    "    embed-resources: true\n",
    "    toc: true\n",
    "jupyter: python3\n",
    "---"
   ]
  },
  {
   "cell_type": "markdown",
   "metadata": {},
   "source": [
    "Today, we're searching the **Ceres monitoring station** and we're helping adorable little Elf with their word search.\n",
    "\n",
    "For the full details of the task, you can visit the official [Advent of Code 2024](https://adventofcode.com/2024/day/4) website.\n",
    "\n",
    "And as per tradition, let's set the set the scene with ChatGPT illustration of the day.\n",
    "\n",
    "<img src=\"./ai_illustrations/Day04.webp\" width=\"50%\" class=\"center\" />"
   ]
  },
  {
   "cell_type": "markdown",
   "metadata": {},
   "source": [
    "## Part 1: Searching for XMAS\n",
    "\n",
    "We are given a letter grid, from which we need to find the word `XMAS`. However, the trick is that the word can be found in any direction: horizontally, vertically, or diagonally. Also, the word can be in reverse order.\n",
    "\n",
    "For example, this would be a valid grid with all non-relevant letters replaced with `.`:\n",
    "\n",
    "```\n",
    "..X...\n",
    ".SAMX.\n",
    ".A..A.\n",
    "XMAS.S\n",
    ".X....\n",
    "```\n",
    "\n",
    "Our task is to find the number of times the word `XMAS` appears in the grid.\n",
    "\n",
    "The example grid looks as follows:\n",
    "\n",
    "```\n",
    "MMMSXXMASM\n",
    "MSAMXMSMSA\n",
    "AMXSXMAAMM\n",
    "MSAMASMSMX\n",
    "XMASAMXAMM\n",
    "XXAMMXXAMA\n",
    "SMSMSASXSS\n",
    "SAXAMASAAA\n",
    "MAMMMXMMMM\n",
    "MXMXAXMASX\n",
    "```\n",
    "\n",
    "There are **18 occurences** of the word `XMAS` in this grid. Here is the grid with all occurences highlighted:\n",
    "\n",
    "```\n",
    "....XXMAS.\n",
    ".SAMXMS...\n",
    "...S..A...\n",
    "..A.A.MS.X\n",
    "XMASAMX.MM\n",
    "X.....XA.A\n",
    "S.S.S.S.SS\n",
    ".A.A.A.A.A\n",
    "..M.M.M.MM\n",
    ".X.X.XMASX\n",
    "```"
   ]
  },
  {
   "cell_type": "markdown",
   "metadata": {},
   "source": [
    "For this one, I will try to solve it in one pass. \n",
    "\n",
    "I will:  \n",
    "* go through each character in the grid;   \n",
    "* if I encounter an `X` or `S` I will mark down in the dictionary to check for next letters in the words at the possible directions (to the right, diagonal left, diagonal right and down) -- together with the expected letter I will also note down the direction of the word and the direction fo the spelling;  \n",
    "* I will check if the poisition has been noted down before and if it has, I will check if the letter at this position is the one I expect; if so I will add the next position to the list of positions to check.  \n",
    "\n",
    "This way, I will only traverse the grid once and I will not have to check the same position multiple times."
   ]
  },
  {
   "cell_type": "markdown",
   "metadata": {},
   "source": [
    "::: {.callout-note collapse=\"true\" title=\"Setting up\"}"
   ]
  },
  {
   "cell_type": "code",
   "execution_count": 1,
   "metadata": {},
   "outputs": [],
   "source": [
    "from misc.helper import verify_answer\n",
    "\n",
    "tiny_example = \"\"\"\n",
    "..X...\n",
    ".SAMX.\n",
    ".A..A.\n",
    "XMAS.S\n",
    ".X....\n",
    "\"\"\"\n",
    "\n",
    "tiny_example_answer = 4\n",
    "\n",
    "example_input = \"\"\"\n",
    "MMMSXXMASM\n",
    "MSAMXMSMSA\n",
    "AMXSXMAAMM\n",
    "MSAMASMSMX\n",
    "XMASAMXAMM\n",
    "XXAMMXXAMA\n",
    "SMSMSASXSS\n",
    "SAXAMASAAA\n",
    "MAMMMXMMMM\n",
    "MXMXAXMASX\n",
    "\"\"\"\n",
    "\n",
    "example_answer_p1 = 18"
   ]
  },
  {
   "cell_type": "markdown",
   "metadata": {},
   "source": [
    ":::"
   ]
  },
  {
   "cell_type": "code",
   "execution_count": 2,
   "metadata": {},
   "outputs": [],
   "source": [
    "from pathlib import Path\n",
    "\n",
    "\n",
    "def part_one(input: str) -> int:\n",
    "    xmas = \"XMAS\"\n",
    "\n",
    "    # Load input if it's a file\n",
    "    if Path(input).exists():\n",
    "        with open(input) as f:\n",
    "            input = f.read()\n",
    "\n",
    "    check_position = {}\n",
    "    count_words = 0\n",
    "    # since I will be going through the grid from top to bottom, \n",
    "    # I will only need to mark for checking the positions to the right, down, \n",
    "    # down-right and down-left\n",
    "    directions = [(0, 1), (1, -1), (1, 0), (1, 1)]\n",
    "\n",
    "    for i, line in enumerate(input.strip().splitlines()):\n",
    "        for j, char in enumerate(line):\n",
    "            to_be_checked = check_position.pop((i, j), [])\n",
    "            # if there are characters we are looking for, check if we found them\n",
    "            for schar, coord, dir in to_be_checked:\n",
    "                if schar == char:\n",
    "                    if char in \"XS\":\n",
    "                        count_words += 1\n",
    "                    else:\n",
    "                        next_pos = (i + coord[0], j + coord[1])\n",
    "                        next_char = xmas[xmas.find(char) + dir]\n",
    "                        check_position.setdefault(next_pos, []).append(\n",
    "                            (next_char, coord, dir)\n",
    "                        )\n",
    "\n",
    "            # start a new search if char is \"X\" or \"S\"\n",
    "            if char in \"XS\":\n",
    "                direction_shift = 1 if char == \"X\" else -1\n",
    "                for dx, dy in directions:\n",
    "                    next_pos = (i + dx, j + dy)\n",
    "                    next_char = xmas[xmas.find(char) + direction_shift]\n",
    "                    check_position.setdefault(next_pos, []).append(\n",
    "                        (next_char, (dx, dy), direction_shift)\n",
    "                    )\n",
    "\n",
    "        # clean up expired positions in the check_position dictionary\n",
    "        check_position = {\n",
    "            key: val for key, val in check_position.items() if key[0] > i\n",
    "        }\n",
    "\n",
    "    return count_words"
   ]
  },
  {
   "cell_type": "code",
   "execution_count": 3,
   "metadata": {},
   "outputs": [
    {
     "name": "stdout",
     "output_type": "stream",
     "text": [
      "✔️ That's right! The answer is 4.\n"
     ]
    }
   ],
   "source": [
    "verify_answer(part_one, tiny_example, tiny_example_answer)"
   ]
  },
  {
   "cell_type": "code",
   "execution_count": 4,
   "metadata": {},
   "outputs": [
    {
     "name": "stdout",
     "output_type": "stream",
     "text": [
      "✔️ That's right! The answer is 18.\n"
     ]
    }
   ],
   "source": [
    "verify_answer(part_one, example_input, example_answer_p1)"
   ]
  },
  {
   "cell_type": "code",
   "execution_count": 5,
   "metadata": {},
   "outputs": [
    {
     "name": "stdout",
     "output_type": "stream",
     "text": [
      "CPU times: user 4 μs, sys: 0 ns, total: 4 μs\n",
      "Wall time: 9.06 μs\n"
     ]
    },
    {
     "data": {
      "text/plain": [
       "2560"
      ]
     },
     "execution_count": 5,
     "metadata": {},
     "output_type": "execute_result"
    }
   ],
   "source": [
    "%time\n",
    "part_one(\"./inputs/Day04.txt\")"
   ]
  },
  {
   "cell_type": "markdown",
   "metadata": {},
   "source": [
    "> That's the right answer! You are one gold star ⭐ closer to finding the Chief Historian."
   ]
  },
  {
   "cell_type": "markdown",
   "metadata": {},
   "source": [
    "## Part 2: Searching for X-MAS \n",
    "\n",
    "In this task, we need to find the shape `X` created by words `MAS`, like this:\n",
    "\n",
    "```\n",
    "M.S\n",
    ".A.\n",
    "M.S\n",
    "```\n",
    "\n",
    "Taking the same example as in Part 1, but focusing on the `X-MAS` shape, we can see that there are **9 occurrences** of the `X-MAS` shape in the grid:\n",
    "\n",
    "```\n",
    ".M.S......\n",
    "..A..MSMS.\n",
    ".M.S.MAA..\n",
    "..A.ASMSM.\n",
    ".M.S.M....\n",
    "..........\n",
    "S.S.S.S.S.\n",
    ".A.A.A.A..\n",
    "M.M.M.M.M.\n",
    "..........\n",
    "```\n",
    "\n",
    "The task is to find the number of times the `X-MAS` shape appears in the input.\n"
   ]
  },
  {
   "cell_type": "markdown",
   "metadata": {},
   "source": [
    "This time around, I will not focus on traversing the input in one go -- but make this task simple for me. I will:\n",
    "\n",
    "* read in the input to a matrix;  \n",
    "* scan all submatrices of size 3x3.  \n",
    "\n",
    "I will check each submatrix for the `X-MAS` shape, i.e.:  \n",
    "\n",
    "* if the center is letter `A`,  \n",
    "* if the upper right and lower left corners are `M` and `S`, or `S` and `M` respectively,\n",
    "* and similarly if the upper left and lower right corners are `M` and `S`, or `S` and `M` respectively.\n",
    "\n",
    "If all these conditions are met, I will increment the counter."
   ]
  },
  {
   "cell_type": "markdown",
   "metadata": {},
   "source": [
    "::: {.callout-note collapse=\"true\" title=\"Saving test answer\"}"
   ]
  },
  {
   "cell_type": "code",
   "execution_count": 6,
   "metadata": {},
   "outputs": [],
   "source": [
    "example_answer_p2 = 9"
   ]
  },
  {
   "cell_type": "markdown",
   "metadata": {},
   "source": [
    ":::"
   ]
  },
  {
   "cell_type": "code",
   "execution_count": 7,
   "metadata": {},
   "outputs": [],
   "source": [
    "def read_input_to_matrix(input: str) -> list:\n",
    "    if Path(input).exists():\n",
    "        with open(input) as f:\n",
    "            input = f.read()\n",
    "\n",
    "    output = []\n",
    "\n",
    "    for line in input.strip().splitlines():\n",
    "        output.append([c for c in line.strip()])\n",
    "\n",
    "    return output\n",
    "\n",
    "\n",
    "def part_two(input: str) -> int:\n",
    "    mat = read_input_to_matrix(input)\n",
    "\n",
    "    count_mats = 0\n",
    "\n",
    "    for i in range(len(mat[0]) - 2):\n",
    "        for j in range(len(mat) - 2):\n",
    "            center = mat[j + 1][i + 1]\n",
    "            top_left, bottom_right = mat[j][i], mat[j + 2][i + 2]\n",
    "            top_right, bottom_left = mat[j][i + 2], mat[j + 2][i]\n",
    "\n",
    "            cond_center = center == \"A\"\n",
    "            cond_lr = (top_left == \"M\" and bottom_right == \"S\") or (\n",
    "                top_left == \"S\" and bottom_right == \"M\"\n",
    "            )\n",
    "            cond_rl = (top_right == \"M\" and bottom_left == \"S\") or (\n",
    "                top_right == \"S\" and bottom_left == \"M\"\n",
    "            )\n",
    "\n",
    "            if cond_center and cond_lr and cond_rl:\n",
    "                count_mats += 1\n",
    "\n",
    "    return count_mats"
   ]
  },
  {
   "cell_type": "code",
   "execution_count": 8,
   "metadata": {},
   "outputs": [
    {
     "name": "stdout",
     "output_type": "stream",
     "text": [
      "✔️ That's right! The answer is 9.\n"
     ]
    }
   ],
   "source": [
    "verify_answer(part_two, example_input, example_answer_p2)"
   ]
  },
  {
   "cell_type": "code",
   "execution_count": 9,
   "metadata": {},
   "outputs": [
    {
     "name": "stdout",
     "output_type": "stream",
     "text": [
      "CPU times: user 1e+03 ns, sys: 0 ns, total: 1e+03 ns\n",
      "Wall time: 3.1 μs\n"
     ]
    },
    {
     "data": {
      "text/plain": [
       "1910"
      ]
     },
     "execution_count": 9,
     "metadata": {},
     "output_type": "execute_result"
    }
   ],
   "source": [
    "%time\n",
    "part_two(\"./inputs/Day04.txt\")"
   ]
  },
  {
   "cell_type": "markdown",
   "metadata": {},
   "source": [
    "> That's the right answer! You are one gold star ⭐ closer to finding the Chief Historian."
   ]
  }
 ],
 "metadata": {
  "kernelspec": {
   "display_name": "aoc2024",
   "language": "python",
   "name": "python3"
  },
  "language_info": {
   "codemirror_mode": {
    "name": "ipython",
    "version": 3
   },
   "file_extension": ".py",
   "mimetype": "text/x-python",
   "name": "python",
   "nbconvert_exporter": "python",
   "pygments_lexer": "ipython3",
   "version": "3.13.0"
  }
 },
 "nbformat": 4,
 "nbformat_minor": 2
}
