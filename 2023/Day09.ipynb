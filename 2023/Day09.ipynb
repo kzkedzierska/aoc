{
 "cells": [
  {
   "cell_type": "markdown",
   "metadata": {},
   "source": [
    "# Day 9\n",
    "\n",
    "And we arrive at a oasis!"
   ]
  },
  {
   "cell_type": "markdown",
   "metadata": {},
   "source": [
    "## Part One\n",
    "\n",
    "You want to figure out the environmental instabilities at the oasis.\n",
    "\n",
    "```\n",
    "0 3 6 9 12 15\n",
    "1 3 6 10 15 21\n",
    "10 13 16 21 30 45\n",
    "```\n",
    "\n",
    "| 0 |   | 3 |   | 6 |   | 9 |   | 12 |   |   15  |       | : *18* : |\n",
    "|:-:|:-:|:-:|:-:|:-:|:-:|:-:|:-:|:--:|:-:|:-----:|:-----:|:------:|\n",
    "|   | 3 |   | 3 |   | 3 |   | 3 |    | 3 |       | : *3* : |        |\n",
    "|   |   | 0 |   | 0 |   | 0 |   |  0 |   | : *0* : |       |        |"
   ]
  },
  {
   "cell_type": "code",
   "execution_count": 1,
   "metadata": {},
   "outputs": [],
   "source": [
    "example_input = \"\"\"0 3 6 9 12 15\n",
    "1 3 6 10 15 21\n",
    "10 13 16 21 30 45\"\"\"\n",
    "\n",
    "def predict_next(sequence):\n",
    "    # if sequence is a string, convert to list of integers\n",
    "    if isinstance(sequence, str):\n",
    "        sequence = [int(x) for x in sequence.split()]\n",
    "    last = []\n",
    "    while True:\n",
    "        last.append(sequence[-1])\n",
    "        # calculate difference between each two numbers\n",
    "        diffs = [sequence[i+1] - sequence[i] \n",
    "                for i in range(len(sequence)-1)]\n",
    "        if all([d == 0 for d in diffs]):\n",
    "            num = sum(last)\n",
    "            return num\n",
    "        else:\n",
    "            sequence = diffs\n",
    "\n",
    "assert(predict_next(\"0 3 6 9 12 15\") == 18)\n",
    "assert(predict_next(\"1 3 6 10 15 21\") == 28)\n",
    "assert(predict_next(\"10 13 16 21 30 45\") == 68)\n",
    "\n",
    "\n",
    "def part_one(input, example=False):\n",
    "    if example:\n",
    "        input_data = input.splitlines()\n",
    "    else:\n",
    "        with open(input) as f:\n",
    "            input_data = f.readlines()\n",
    "    result = 0\n",
    "    for line in input_data:\n",
    "        line = line.strip()\n",
    "        # do stuff\n",
    "        result += predict_next(line)\n",
    "    return result\n",
    "\n",
    "assert(part_one(example_input, example=True) == 114)"
   ]
  },
  {
   "cell_type": "code",
   "execution_count": 2,
   "metadata": {},
   "outputs": [
    {
     "data": {
      "text/plain": [
       "1861775706"
      ]
     },
     "execution_count": 2,
     "metadata": {},
     "output_type": "execute_result"
    }
   ],
   "source": [
    "part_one(\"./inputs/day09.txt\")"
   ]
  },
  {
   "cell_type": "markdown",
   "metadata": {},
   "source": [
    "That's the right answer! You are one gold star ⭐ closer to restoring snow operations."
   ]
  },
  {
   "cell_type": "markdown",
   "metadata": {},
   "source": [
    "## Part Two\n",
    "\n",
    "For this part we are interested in inferring the past! I.e. the left side of the sequence."
   ]
  },
  {
   "cell_type": "code",
   "execution_count": 3,
   "metadata": {},
   "outputs": [],
   "source": [
    "def infer_first(sequence):\n",
    "    # if sequence is a string, convert to list of integers\n",
    "    if isinstance(sequence, str):\n",
    "        sequence = [int(x) for x in sequence.split()]\n",
    "    first = []\n",
    "    while True:\n",
    "        first.append(sequence[0])\n",
    "        # calculate difference between each two numbers\n",
    "        diffs = [sequence[i+1] - sequence[i] \n",
    "                for i in range(len(sequence)-1)]\n",
    "        if all([d == 0 for d in diffs]):\n",
    "            sub = 0\n",
    "            for i in reversed(range(len(first))):\n",
    "                sub = first[i] - sub\n",
    "            return sub\n",
    "        else:\n",
    "            sequence = diffs\n",
    "assert(infer_first(\"10 13 16 21 30 45\") == 5)"
   ]
  },
  {
   "cell_type": "code",
   "execution_count": 4,
   "metadata": {},
   "outputs": [],
   "source": [
    "def part_two(input, example=False):\n",
    "    if example:\n",
    "        input_data = input.splitlines()\n",
    "    else:\n",
    "        with open(input) as f:\n",
    "            input_data = f.readlines()\n",
    "    result = 0\n",
    "    for line in input_data:\n",
    "        line = line.strip()\n",
    "        result += infer_first(line)\n",
    "    return result\n",
    "\n",
    "assert(part_two(example_input, example=True) == 2)"
   ]
  },
  {
   "cell_type": "code",
   "execution_count": 5,
   "metadata": {},
   "outputs": [
    {
     "data": {
      "text/plain": [
       "1082"
      ]
     },
     "execution_count": 5,
     "metadata": {},
     "output_type": "execute_result"
    }
   ],
   "source": [
    "part_two(\"./inputs/day09.txt\")"
   ]
  },
  {
   "cell_type": "markdown",
   "metadata": {},
   "source": [
    "That's the right answer! You are one gold star ⭐ closer to restoring snow operations."
   ]
  }
 ],
 "metadata": {
  "kernelspec": {
   "display_name": "Python 3",
   "language": "python",
   "name": "python3"
  },
  "language_info": {
   "codemirror_mode": {
    "name": "ipython",
    "version": 3
   },
   "file_extension": ".py",
   "mimetype": "text/x-python",
   "name": "python",
   "nbconvert_exporter": "python",
   "pygments_lexer": "ipython3",
   "version": "3.10.12"
  }
 },
 "nbformat": 4,
 "nbformat_minor": 2
}
