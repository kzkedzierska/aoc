{
 "cells": [
  {
   "cell_type": "markdown",
   "metadata": {},
   "source": [
    "# Day 08 \n",
    "\n",
    "We're riding the camel across the Dessert Island! And there are ghosts!"
   ]
  },
  {
   "cell_type": "markdown",
   "metadata": {},
   "source": [
    "## Part One\n",
    "\n",
    "The glove compartment contains the instructions as follows. First line consists of sequence of moevements. We start at AAA and end with ZZZ.\n",
    "\n",
    "```\n",
    "RL\n",
    "\n",
    "AAA = (BBB, CCC)\n",
    "BBB = (DDD, EEE)\n",
    "CCC = (ZZZ, GGG)\n",
    "DDD = (DDD, DDD)\n",
    "EEE = (EEE, EEE)\n",
    "GGG = (GGG, GGG)\n",
    "ZZZ = (ZZZ, ZZZ)\n",
    "```"
   ]
  },
  {
   "cell_type": "code",
   "execution_count": 1,
   "metadata": {},
   "outputs": [],
   "source": [
    "example_input = \"\"\"RL\n",
    "\n",
    "AAA = (BBB, CCC)\n",
    "BBB = (DDD, EEE)\n",
    "CCC = (ZZZ, GGG)\n",
    "DDD = (DDD, DDD)\n",
    "EEE = (EEE, EEE)\n",
    "GGG = (GGG, GGG)\n",
    "ZZZ = (ZZZ, ZZZ)\"\"\"\n",
    "\n",
    "def process_input(input, example=False):\n",
    "    if example:\n",
    "        input_data = input.splitlines()\n",
    "    else:\n",
    "        with open(input) as f:\n",
    "            input_data = f.readlines()\n",
    "\n",
    "    maze = {}\n",
    "    for i, line in enumerate(input_data):\n",
    "        if i == 0:\n",
    "            directions = line.strip()\n",
    "        elif i == 1:\n",
    "            pass\n",
    "        else:\n",
    "            key, values = line.strip().split(\" = \")\n",
    "            value_l, value_r = values[1:-1].split(\", \")\n",
    "            maze[key] = {\"L\": value_l, \"R\": value_r}\n",
    "    \n",
    "    return directions, maze\n",
    "\n",
    "def follow_directions(directions, maze):\n",
    "    current = \"AAA\"\n",
    "    i = 0\n",
    "    while current != \"ZZZ\":\n",
    "        direction = directions[i%len(directions)]\n",
    "        current = maze[current][direction]\n",
    "        i += 1\n",
    "    return i\n",
    "\n",
    "def part_one(inpute, example=False):\n",
    "    directions, maze = process_input(inpute, example)\n",
    "    return follow_directions(directions, maze)\n",
    "\n",
    "assert(part_one(example_input, True) == 2)"
   ]
  },
  {
   "cell_type": "code",
   "execution_count": 2,
   "metadata": {},
   "outputs": [],
   "source": [
    "another_example_input = \"\"\"LLR\n",
    "\n",
    "AAA = (BBB, BBB)\n",
    "BBB = (AAA, ZZZ)\n",
    "ZZZ = (ZZZ, ZZZ)\"\"\"\n",
    "\n",
    "assert(part_one(another_example_input, True) == 6)"
   ]
  },
  {
   "cell_type": "code",
   "execution_count": 3,
   "metadata": {},
   "outputs": [
    {
     "data": {
      "text/plain": [
       "19199"
      ]
     },
     "execution_count": 3,
     "metadata": {},
     "output_type": "execute_result"
    }
   ],
   "source": [
    "part_one(\"./inputs/day08.txt\")"
   ]
  },
  {
   "cell_type": "markdown",
   "metadata": {},
   "source": [
    "That's the right answer! You are one gold star ⭐ closer to restoring snow operations."
   ]
  },
  {
   "cell_type": "markdown",
   "metadata": {},
   "source": [
    "## Part Two\n",
    "\n",
    "Instead of just walking one path, we will be walking them all. And stopping only when all nodes end with `Z`."
   ]
  },
  {
   "cell_type": "code",
   "execution_count": 4,
   "metadata": {},
   "outputs": [],
   "source": [
    "example_input_p2 = \"\"\"LR\n",
    "\n",
    "11A = (11B, XXX)\n",
    "11B = (XXX, 11Z)\n",
    "11Z = (11B, XXX)\n",
    "22A = (22B, XXX)\n",
    "22B = (22C, 22C)\n",
    "22C = (22Z, 22Z)\n",
    "22Z = (22B, 22B)\n",
    "XXX = (XXX, XXX)\"\"\"\n",
    "\n",
    "import math\n",
    "\n",
    "def process_input_mod(input, example=False):\n",
    "    if example:\n",
    "        input_data = input.splitlines()\n",
    "    else:\n",
    "        with open(input) as f:\n",
    "            input_data = f.readlines()\n",
    "\n",
    "    graph = {}\n",
    "    starting_nodes = []\n",
    "    directions = input_data[0].strip()\n",
    "\n",
    "    for line in input_data[2:]:\n",
    "        key, values = line.strip().split(\" = \")\n",
    "        value_l, value_r = values[1:-1].split(\", \")\n",
    "        graph[key] = {\"L\": value_l, \"R\": value_r}\n",
    "        if key.endswith(\"A\"):\n",
    "            starting_nodes.append(key)\n",
    "\n",
    "    return starting_nodes, directions, graph\n",
    "\n",
    "def find_cycle_length(node, directions, graph):\n",
    "    current_node = node\n",
    "    steps = 0\n",
    "    while not current_node.endswith(\"Z\"):\n",
    "        direction = directions[steps % len(directions)]\n",
    "        current_node = graph[current_node][direction]\n",
    "        steps += 1\n",
    "\n",
    "    return steps\n",
    "\n",
    "def lcm(a, b):\n",
    "    return abs(a * b) // math.gcd(a, b)\n",
    "\n",
    "def part_two(input, example=False):\n",
    "    starting_nodes, directions, graph = process_input_mod(input, example)\n",
    "    cycle_lengths = [find_cycle_length(node, directions, graph) for node in starting_nodes]\n",
    "\n",
    "    # Calculate the LCM of all cycle lengths\n",
    "    cycle_lcm = cycle_lengths[0]\n",
    "    for length in cycle_lengths[1:]:\n",
    "        cycle_lcm = lcm(cycle_lcm, length)\n",
    "\n",
    "    return cycle_lcm\n",
    "\n",
    "# Test the function\n",
    "assert(part_two(example_input_p2, True) == 6)"
   ]
  },
  {
   "cell_type": "code",
   "execution_count": 5,
   "metadata": {},
   "outputs": [
    {
     "data": {
      "text/plain": [
       "13663968099527"
      ]
     },
     "execution_count": 5,
     "metadata": {},
     "output_type": "execute_result"
    }
   ],
   "source": [
    "part_two(\"./inputs/day08.txt\")"
   ]
  },
  {
   "cell_type": "markdown",
   "metadata": {},
   "source": [
    "That's the right answer! You are one gold star ⭐ closer to restoring snow operations."
   ]
  }
 ],
 "metadata": {
  "kernelspec": {
   "display_name": "Python 3",
   "language": "python",
   "name": "python3"
  },
  "language_info": {
   "codemirror_mode": {
    "name": "ipython",
    "version": 3
   },
   "file_extension": ".py",
   "mimetype": "text/x-python",
   "name": "python",
   "nbconvert_exporter": "python",
   "pygments_lexer": "ipython3",
   "version": "3.10.12"
  }
 },
 "nbformat": 4,
 "nbformat_minor": 2
}
