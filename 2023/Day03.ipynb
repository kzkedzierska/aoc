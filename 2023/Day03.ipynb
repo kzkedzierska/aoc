{
 "cells": [
  {
   "cell_type": "markdown",
   "metadata": {},
   "source": [
    "# Day 3\n",
    "\n",
    "Full text of the task can be found on [AoC website](https://adventofcode.com/2023/day/3).\n",
    "\n",
    "We arrived at the gondola lift that will take us up to the water source. But the gondolas don't work - they are missing a part! \n",
    "\n",
    "Another ChatGPT 4 & DALL·E illustration:\n",
    "\n",
    "<img src=\"./ChatGPT_illustrations/day03.png\" width=\"400\" />"
   ]
  },
  {
   "cell_type": "markdown",
   "metadata": {},
   "source": [
    "## Part One\n",
    "\n",
    "We need to sum up the part numbers of all engine parts. The parts are marked by an adjacent symbol. \n",
    "\n",
    "This sounds tricky. Given a grid schematic, we need to figure out which of the numbers are adjacent to a symbol (in all directions). The dot (`.`) is not a symbol. Those number will be used for the sum.\n",
    "\n",
    "|   | 0 | 1 | 2 | 3 | 4 | 5 | 6 | 7 | 8 | 9  |\n",
    "|---|---|---|---|---|---|---|---|---|---|----|\n",
    "| 0 | 4 | 6 | 7 | . | . | **1** | **1** | **4** | . | .  |\n",
    "| 1 | . | . | . | * | . | . | . | . | . | .  |\n",
    "| 2 | . | . | 3 | 5 | . | . | 6 | 3 | 3 | .  |\n",
    "| 3 | . | . | . | . | . | . | # | . | . | .  |\n",
    "| 4 | 6 | 1 | 7 | * | . | . | . | . | . | .  |\n",
    "| 5 | . | . | . | . | . | + | . | **5** | **8** | .  |\n",
    "| 6 | . | . | 5 | 9 | 2 | . | . | . | . | .  |\n",
    "| 7 | . | . | . | . | . | 7 | 5 | 5 | . | .  |\n",
    "| 8 | . | . | . | $ | . | * | . | . | . | .  |\n",
    "| 9 | . | 6 | 6 | 4 | . | 5 | 9 | 8 | . | .  |\n",
    "\n",
    "\n",
    "In this example only `114` in the zero line and `58` in the 5th line are not adjacent to a symbol. The sum of all other numbers is equal to `4361`.\n"
   ]
  },
  {
   "cell_type": "markdown",
   "metadata": {},
   "source": [
    "Looks like I need to get the position of each number and then check the position around it. "
   ]
  },
  {
   "cell_type": "code",
   "execution_count": 1,
   "metadata": {},
   "outputs": [],
   "source": [
    "example_input = \"\"\"467..114..\n",
    "...*......\n",
    "..35..633.\n",
    "......#...\n",
    "617*......\n",
    ".....+.58.\n",
    "..592.....\n",
    "......755.\n",
    "...$.*....\n",
    ".664.598..\"\"\"\n"
   ]
  },
  {
   "cell_type": "code",
   "execution_count": 2,
   "metadata": {},
   "outputs": [
    {
     "data": {
      "text/plain": [
       "({(3, 1), (3, 4), (3, 8), (5, 5), (5, 8), (6, 3)},\n",
       " {(0, 0): 467,\n",
       "  (5, 0): 114,\n",
       "  (2, 2): 35,\n",
       "  (6, 2): 633,\n",
       "  (0, 4): 617,\n",
       "  (7, 5): 58,\n",
       "  (2, 6): 592,\n",
       "  (6, 7): 755,\n",
       "  (1, 9): 664,\n",
       "  (5, 9): 598})"
      ]
     },
     "execution_count": 2,
     "metadata": {},
     "output_type": "execute_result"
    }
   ],
   "source": [
    "from typing import Tuple, Set, Dict\n",
    "def process_input(input_file: str, \n",
    "                  example: bool = False) -> Tuple[Set[Tuple[int, int]], \n",
    "                                                  Dict[Tuple[int, int], int]]:\n",
    "    \"\"\"\n",
    "    Process the input file and return symbols and numbers dictionary.\n",
    "\n",
    "    Parameters:\n",
    "    - input_file (str): Path to the input file or the input data itself.\n",
    "    - example (bool): Flag indicating whether the input is an example or a file path.\n",
    "\n",
    "    Returns:\n",
    "    - symbols (set): Set of symbols.\n",
    "    - numbers_dict (dict): Dictionary of numbers with their coordinates as keys.\n",
    "\n",
    "    \"\"\"\n",
    "    symbols = set()\n",
    "    numbers_dict = {}\n",
    "    y = 0\n",
    "\n",
    "    if not example:\n",
    "        with open(input_file) as f:\n",
    "            input_data = f.read()\n",
    "    else:\n",
    "        input_data = input_file\n",
    "\n",
    "    for line in input_data.splitlines():\n",
    "        line += \".\"  # Add sentinel to process last number\n",
    "        num = \"\"\n",
    "        for x, c in enumerate(line):\n",
    "            if c.isdigit():\n",
    "                num += c\n",
    "            else:\n",
    "                if num:\n",
    "                    numbers_dict[(x-len(num), y)] = int(num)\n",
    "                    num = \"\"\n",
    "                if c != '.':\n",
    "                    symbols.add((x, y))\n",
    "        y += 1\n",
    "\n",
    "    return symbols, numbers_dict\n",
    "\n",
    "process_input(example_input, True)"
   ]
  },
  {
   "cell_type": "code",
   "execution_count": 3,
   "metadata": {},
   "outputs": [
    {
     "data": {
      "text/plain": [
       "4361"
      ]
     },
     "execution_count": 3,
     "metadata": {},
     "output_type": "execute_result"
    }
   ],
   "source": [
    "def scan_grid(symbols: set, numbers_dict: dict) -> int:\n",
    "    \"\"\"\n",
    "    Scan the grid for parts numbers. Those are defined as numbers that are\n",
    "    adjacent to a symbol. The sum of all parts numbers is the solution.\n",
    "    \n",
    "    Parameters:\n",
    "        symbols: Set of coordinates of symbols.\n",
    "        numbers_dict: Dictionary of coordinates of numbers and their value.\n",
    "    \n",
    "    Returns:\n",
    "        Sum of all parts numbers.\n",
    "    \"\"\"\n",
    "    parts_sum = 0\n",
    "    for (x, y), num in numbers_dict.items():\n",
    "        num_digits = len(str(num))\n",
    "        x_min = x - 1\n",
    "        x_max = x + num_digits\n",
    "        xs = [x1 for x1 in range(x_min, x_max+1) if x1 >= 0]\n",
    "        ys = [y1 for y1 in [y-1, y+1] if y1 >= 0]\n",
    "        pos = [(x1, y1) for x1 in xs for y1 in ys]\n",
    "        pos += [(x1, y) for x1 in [x_min, x_max] if x1 >= 0]\n",
    "        if any(p in symbols for p in pos):\n",
    "            parts_sum += num\n",
    "\n",
    "    return parts_sum\n",
    "\n",
    "scan_grid(*process_input(example_input, True))"
   ]
  },
  {
   "cell_type": "markdown",
   "metadata": {},
   "source": [
    "I needed debug for a bit bc I forgot to add numbers at the end of the line in  `process_input`. "
   ]
  },
  {
   "cell_type": "code",
   "execution_count": 4,
   "metadata": {},
   "outputs": [
    {
     "name": "stdout",
     "output_type": "stream",
     "text": [
      "   | 0 | 1 | 2 | 3 |\n",
      " --------------------\n",
      "0  | . | . | . | . |\n",
      "1  | . | . | . | 1 |\n",
      "2  | 9 | 8 | 9 | * |\n",
      "3  | . | _ | - | - |\n"
     ]
    }
   ],
   "source": [
    "def print_matrix(input_string: str) -> None:\n",
    "    \"\"\"\n",
    "    Prints a matrix representation of the input string.\n",
    "\n",
    "    Args:\n",
    "        input_string (str): The input string representing the matrix.\n",
    "\n",
    "    Returns:\n",
    "        None\n",
    "    \"\"\"\n",
    "    # Split the input string into rows\n",
    "    rows = input_string.split(\"\\n\")\n",
    "    # get the max length of the rows\n",
    "    max_len = max(len(row) for row in rows)\n",
    "    \n",
    "    # Create a matrix of the max length\n",
    "    matrix = [[char for char in row.ljust(max_len)] for row in rows]\n",
    "\n",
    "    # Print the matrix with row and column numbers\n",
    "    print(f\"   | {'| '.join(str(i).ljust(2) for i in range(max_len))}|\")\n",
    "    print(f\" {'-'*(max_len*4 + 4)}\")\n",
    "    for i, row in enumerate(matrix):\n",
    "        print(f\"{str(i).ljust(2)} | {' | '.join(row)} |\")\n",
    "\n",
    "# Input string\n",
    "input_string = \"\"\"....\n",
    "...1\n",
    "989*\n",
    "._--\"\"\"\n",
    "\n",
    "# Print the matrix\n",
    "print_matrix(input_string)\n"
   ]
  },
  {
   "cell_type": "code",
   "execution_count": 5,
   "metadata": {},
   "outputs": [
    {
     "name": "stdout",
     "output_type": "stream",
     "text": [
      "   | 0 | 1 | 2 | 3 | 4 | 5 |\n",
      " ----------------------------\n",
      "0  | 1 | 1 | 1 | $ | 1 | 2 |\n",
      "1  | + | . | . | . | . | . |\n",
      "2  | . | . | 1 | 3 | . | % |\n"
     ]
    }
   ],
   "source": [
    "corner_case = \"\"\"111$12\n",
    "+.....\n",
    "..13.%\"\"\"\n",
    "\n",
    "print_matrix(corner_case)\n",
    "\n",
    "assert(scan_grid(*process_input(corner_case, True)) == 123)"
   ]
  },
  {
   "cell_type": "code",
   "execution_count": 6,
   "metadata": {},
   "outputs": [
    {
     "name": "stdout",
     "output_type": "stream",
     "text": [
      "   | 0 | 1 | 2 | 3 | 4 | 5 |\n",
      " ----------------------------\n",
      "0  | 1 | 1 | 1 | $ | 1 | 2 |\n",
      "1  | + | . | . | . | 8 | . |\n",
      "2  | . | . | 1 | 3 | . | % |\n"
     ]
    }
   ],
   "source": [
    "corner_case = \"\"\"111$12\n",
    "+...8.\n",
    "..13.%\"\"\"\n",
    "\n",
    "print_matrix(corner_case)\n",
    "\n",
    "assert(scan_grid(*process_input(corner_case, True)) == 131)"
   ]
  },
  {
   "cell_type": "code",
   "execution_count": 7,
   "metadata": {},
   "outputs": [
    {
     "name": "stdout",
     "output_type": "stream",
     "text": [
      "   | 0 | 1 | 2 | 3 | 4 | 5 |\n",
      " ----------------------------\n",
      "0  | . | . | $ | $ | . | . |\n",
      "1  | + | . | . | . | 8 | . |\n",
      "2  | . | . | 1 | 3 | . | % |\n"
     ]
    }
   ],
   "source": [
    "corner_case = \"\"\"..$$..\n",
    "+...8.\n",
    "..13.%\"\"\"\n",
    "\n",
    "print_matrix(corner_case)\n",
    "\n",
    "assert(scan_grid(*process_input(corner_case, True)) == 8)"
   ]
  },
  {
   "cell_type": "code",
   "execution_count": 8,
   "metadata": {},
   "outputs": [
    {
     "name": "stdout",
     "output_type": "stream",
     "text": [
      "   | 0 | 1 | 2 |\n",
      " ----------------\n",
      "0  | 1 | . | 3 |\n",
      "1  | . | 5 | . |\n",
      "2  | 7 | . | 9 |\n"
     ]
    }
   ],
   "source": [
    "corner_case = \"\"\"1.3\n",
    ".5.\n",
    "7.9\"\"\"\n",
    "\n",
    "print_matrix(corner_case)\n",
    "\n",
    "assert(scan_grid(*process_input(corner_case, True)) == 0)"
   ]
  },
  {
   "cell_type": "code",
   "execution_count": 9,
   "metadata": {},
   "outputs": [
    {
     "name": "stdout",
     "output_type": "stream",
     "text": [
      "   | 0 | 1 | 2 |\n",
      " ----------------\n",
      "0  | 1 | * | 3 |\n",
      "1  | * | 5 | * |\n",
      "2  | 7 | * | 9 |\n"
     ]
    }
   ],
   "source": [
    "corner_case = \"\"\"1*3\n",
    "*5*\n",
    "7*9\"\"\"\n",
    "\n",
    "print_matrix(corner_case)\n",
    "\n",
    "assert(scan_grid(*process_input(corner_case, True)) == 25)"
   ]
  },
  {
   "cell_type": "code",
   "execution_count": 10,
   "metadata": {},
   "outputs": [
    {
     "name": "stdout",
     "output_type": "stream",
     "text": [
      "   | 0 | 1 | 2 | 3 |\n",
      " --------------------\n",
      "0  | . | $ | 1 | 2 |\n"
     ]
    }
   ],
   "source": [
    "corner_case = \"\"\".$12\"\"\"\n",
    "print_matrix(corner_case)\n",
    "assert(scan_grid(*process_input(corner_case, True)) == 12)"
   ]
  },
  {
   "cell_type": "code",
   "execution_count": 11,
   "metadata": {},
   "outputs": [
    {
     "name": "stdout",
     "output_type": "stream",
     "text": [
      "   | 0 | 1 | 2 |\n",
      " ----------------\n",
      "0  | * | * | * |\n"
     ]
    }
   ],
   "source": [
    "corner_case = \"\"\"***\"\"\"\n",
    "print_matrix(corner_case)\n",
    "assert(scan_grid(*process_input(corner_case, True)) == 0)"
   ]
  },
  {
   "cell_type": "code",
   "execution_count": 12,
   "metadata": {},
   "outputs": [
    {
     "name": "stdout",
     "output_type": "stream",
     "text": [
      "   | 0 | 1 | 2 | 3 | 4 |\n",
      " ------------------------\n",
      "0  | 3 | 3 | 3 | . | 3 |\n",
      "1  | . | . | . | * | . |\n"
     ]
    }
   ],
   "source": [
    "corner_case_from_reddit = \"\"\"333.3\n",
    "...*.\"\"\"\n",
    "print_matrix(corner_case_from_reddit)\n",
    "assert(scan_grid(*process_input(corner_case_from_reddit, True)) == 336)"
   ]
  },
  {
   "cell_type": "code",
   "execution_count": 13,
   "metadata": {},
   "outputs": [
    {
     "name": "stdout",
     "output_type": "stream",
     "text": [
      "   | 0 | 1 | 2 |\n",
      " ----------------\n",
      "0  | 1 | . | 3 |\n",
      "1  | . | 5 | * |\n",
      "2  | . | . | 9 |\n"
     ]
    }
   ],
   "source": [
    "corner_case = \"\"\"1.3\n",
    ".5*\n",
    "..9\"\"\"\n",
    "print_matrix(corner_case)\n",
    "assert(scan_grid(*process_input(corner_case, True)) == 17)"
   ]
  },
  {
   "cell_type": "code",
   "execution_count": 14,
   "metadata": {},
   "outputs": [
    {
     "name": "stdout",
     "output_type": "stream",
     "text": [
      "   | 0 | 1 | 2 |\n",
      " ----------------\n",
      "0  | * | . | * |\n",
      "1  | 1 | 2 | 3 |\n"
     ]
    }
   ],
   "source": [
    "corner_case = \"\"\"*.*\n",
    "123\"\"\"\n",
    "print_matrix(corner_case)\n",
    "assert(scan_grid(*process_input(corner_case, True)) == 123)"
   ]
  },
  {
   "cell_type": "code",
   "execution_count": 15,
   "metadata": {},
   "outputs": [
    {
     "data": {
      "text/plain": [
       "539637"
      ]
     },
     "execution_count": 15,
     "metadata": {},
     "output_type": "execute_result"
    }
   ],
   "source": [
    "scan_grid(*process_input('./inputs/day03.txt'))"
   ]
  },
  {
   "cell_type": "markdown",
   "metadata": {},
   "source": [
    "That's the right answer! You are one gold star ⭐ closer to restoring snow operations."
   ]
  },
  {
   "cell_type": "markdown",
   "metadata": {},
   "source": [
    "## Part Two\n",
    "\n",
    "In this part, we are actually only interested in '*' near two numbers. Then we calculate the gear ratio by multiplying those numbers and adding them to the sum.\n",
    "\n",
    "|   | 0 | 1 | 2 | 3 | 4 | 5 | 6 | 7 | 8 | 9  |\n",
    "|---|---|---|---|---|---|---|---|---|---|----|\n",
    "| 0 | **4** | **6** | **7** | . | . | 1 | 1 | 4 | . | .  |\n",
    "| 1 | . | . | . | * | . | . | . | . | . | .  |\n",
    "| 2 | . | . | **3** | **5** | . | . | 6 | 3 | 3 | .  |\n",
    "| 3 | . | . | . | . | . | . | # | . | . | .  |\n",
    "| 4 | 6 | 1 | 7 | * | . | . | . | . | . | .  |\n",
    "| 5 | . | . | . | . | . | + | . | 5 | 8 | .  |\n",
    "| 6 | . | . | 5 | 9 | 2 | . | . | . | . | .  |\n",
    "| 7 | . | . | . | . | . | **7** | **5** | **5** | . | .  |\n",
    "| 8 | . | . | . | $ | . | * | . | . | . | .  |\n",
    "| 9 | . | 6 | 6 | 4 | . | **5** | **9** | **8** | . | .  |\n",
    "\n",
    "There are two gears here - `467` and `35` with gear ratio `16345` and `755` and `598` with gear ratio `451490`. Together, the sum is `467835`."
   ]
  },
  {
   "cell_type": "code",
   "execution_count": 16,
   "metadata": {},
   "outputs": [],
   "source": [
    "def process_input_for_gears(input_file: str, \n",
    "                            example: bool = False) -> Tuple[Set[Tuple[int, int]],\n",
    "                                                            Dict[int, str],\n",
    "                                                            Dict[Tuple[int, int], int]]:\n",
    "    \"\"\"\n",
    "    Process the input file and extract gears, numbers_idx, and numbers_dict.\n",
    "\n",
    "    Parameters:\n",
    "        input_file (str): The path to the input file.\n",
    "        example (bool): Flag indicating whether the input is an example or not.\n",
    "\n",
    "    Returns:\n",
    "        tuple: A tuple containing gears (set), numbers_idx (dict), and numbers_dict (dict).\n",
    "    \"\"\"\n",
    "    gears = set()\n",
    "    numbers_idx = dict()\n",
    "    numbers_dict = dict()\n",
    "    y = 0\n",
    "    idx = 0\n",
    "    if not example:\n",
    "        with open(input_file) as f:\n",
    "            input_data = f.read()\n",
    "    else:\n",
    "        input_data = input_file\n",
    "\n",
    "    for line in input_data.splitlines():\n",
    "        line += \".\"  # Add sentinel to process last number\n",
    "        num = \"\"\n",
    "        for x, c in enumerate(line):\n",
    "            if c.isdigit():\n",
    "                num += c\n",
    "            else:\n",
    "                if num:\n",
    "                    numbers_idx[idx] = num\n",
    "                    for i in range(len(num)):\n",
    "                        numbers_dict[(x - i - 1, y)] = idx\n",
    "                    num = \"\"\n",
    "                    idx += 1\n",
    "                if c == '*':\n",
    "                    gears.add((x, y))\n",
    "        y += 1\n",
    "\n",
    "    return gears, numbers_idx, numbers_dict\n"
   ]
  },
  {
   "cell_type": "code",
   "execution_count": 17,
   "metadata": {},
   "outputs": [],
   "source": [
    "def scan_grid_for_gears(gears: set, \n",
    "                        numbers_idx: dict, \n",
    "                        numbers_dict: dict) -> int:\n",
    "    \"\"\"\n",
    "    Scans the grid for gears and calculates the sum of the products of the corresponding numbers.\n",
    "\n",
    "    Parameters:\n",
    "        gears (set): List of coordinates representing the positions of gears.\n",
    "        numbers_idx (dict): Dictionary mapping gear indices to numbers.\n",
    "        numbers_dict (dict): Dictionary mapping positions to gear indices.\n",
    "\n",
    "    Returns:\n",
    "        gears_sum (int): Sum of the products of the corresponding numbers.\n",
    "\n",
    "    \"\"\"\n",
    "    gears_sum = 0\n",
    "    for (x, y) in gears:\n",
    "        xs = [x1 for x1 in [x-1, x, x+1] if x1 >= 0]\n",
    "        ys = [y1 for y1 in [y-1, y, y+1] if y1 >= 0]\n",
    "        pos = [(x1, y1) for x1 in xs for y1 in ys if (x1, y1) != (x, y)]\n",
    "        idxs = {numbers_dict.get(p) for p in pos if numbers_dict.get(p) is not None}\n",
    "        if len(idxs) == 2:\n",
    "            nums = list(map(int, [numbers_idx.get(i) for i in idxs]))\n",
    "            gears_sum += nums[0] * nums[1]\n",
    "\n",
    "    return gears_sum\n",
    "\n",
    "assert(scan_grid_for_gears(*process_input_for_gears(example_input, True)) == 467835)"
   ]
  },
  {
   "cell_type": "code",
   "execution_count": 18,
   "metadata": {},
   "outputs": [
    {
     "name": "stdout",
     "output_type": "stream",
     "text": [
      "   | 0 | 1 | 2 |\n",
      " ----------------\n",
      "0  | 1 | . | 3 |\n",
      "1  | . | 5 | * |\n",
      "2  | . | . | 9 |\n"
     ]
    }
   ],
   "source": [
    "corner_case = \"\"\"1.3\n",
    ".5*\n",
    "..9\"\"\"\n",
    "print_matrix(corner_case)\n",
    "assert(scan_grid_for_gears(*process_input_for_gears(corner_case, True)) == 0)"
   ]
  },
  {
   "cell_type": "code",
   "execution_count": 19,
   "metadata": {},
   "outputs": [
    {
     "name": "stdout",
     "output_type": "stream",
     "text": [
      "   | 0 | 1 | 2 |\n",
      " ----------------\n",
      "0  | * | . | * |\n",
      "1  | 1 | 2 | 3 |\n"
     ]
    }
   ],
   "source": [
    "corner_case = \"\"\"*.*\n",
    "123\"\"\"\n",
    "print_matrix(corner_case)\n",
    "assert(scan_grid_for_gears(*process_input_for_gears(corner_case, True)) == 0)"
   ]
  },
  {
   "cell_type": "code",
   "execution_count": 20,
   "metadata": {},
   "outputs": [
    {
     "name": "stdout",
     "output_type": "stream",
     "text": [
      "   | 0 | 1 | 2 |\n",
      " ----------------\n",
      "0  | . | * | . |\n",
      "1  | 1 | . | 3 |\n"
     ]
    }
   ],
   "source": [
    "corner_case = \"\"\".*.\n",
    "1.3\"\"\"\n",
    "print_matrix(corner_case)\n",
    "assert(scan_grid_for_gears(*process_input_for_gears(corner_case, True)) == 3)"
   ]
  },
  {
   "cell_type": "code",
   "execution_count": 21,
   "metadata": {},
   "outputs": [
    {
     "name": "stdout",
     "output_type": "stream",
     "text": [
      "   | 0 | 1 | 2 |\n",
      " ----------------\n",
      "0  | * | * | * |\n"
     ]
    }
   ],
   "source": [
    "corner_case = \"\"\"***\"\"\"\n",
    "print_matrix(corner_case)\n",
    "assert(scan_grid_for_gears(*process_input_for_gears(corner_case, True)) == 0)"
   ]
  },
  {
   "cell_type": "code",
   "execution_count": 22,
   "metadata": {},
   "outputs": [
    {
     "name": "stdout",
     "output_type": "stream",
     "text": [
      "   | 0 | 1 | 2 | 3 | 4 | 5 |\n",
      " ----------------------------\n",
      "0  | 1 | 1 | 1 | * | 1 | 2 |\n",
      "1  | * | . | . | . | 8 | . |\n",
      "2  | . | . | 1 | 3 | . | * |\n"
     ]
    }
   ],
   "source": [
    "corner_case = \"\"\"111*12\n",
    "*...8.\n",
    "..13.*\"\"\"\n",
    "\n",
    "print_matrix(corner_case)\n",
    "\n",
    "assert(scan_grid_for_gears(*process_input_for_gears(corner_case, True)) == 0)"
   ]
  },
  {
   "cell_type": "code",
   "execution_count": 23,
   "metadata": {},
   "outputs": [
    {
     "name": "stdout",
     "output_type": "stream",
     "text": [
      "   | 0 | 1 | 2 | 3 | 4 | 5 |\n",
      " ----------------------------\n",
      "0  | 1 | 1 | 1 | * | 1 | 2 |\n",
      "1  | * | . | . | . | 8 | . |\n",
      "2  | . | . | 1 | 3 | * | * |\n"
     ]
    }
   ],
   "source": [
    "corner_case = \"\"\"111*12\n",
    "*...8.\n",
    "..13**\"\"\"\n",
    "\n",
    "print_matrix(corner_case)\n",
    "\n",
    "assert(scan_grid_for_gears(*process_input_for_gears(corner_case, True)) == 8*13)"
   ]
  },
  {
   "cell_type": "code",
   "execution_count": 24,
   "metadata": {},
   "outputs": [
    {
     "name": "stdout",
     "output_type": "stream",
     "text": [
      "   | 0 | 1 | 2 | 3 | 4 | 5 |\n",
      " ----------------------------\n",
      "0  | 1 | 1 | 1 | * | 1 | 2 |\n",
      "1  | * | . | * | . | 8 | . |\n",
      "2  | . | . | 1 | 3 | * | * |\n"
     ]
    }
   ],
   "source": [
    "corner_case = \"\"\"111*12\n",
    "*.*.8.\n",
    "..13**\"\"\"\n",
    "\n",
    "print_matrix(corner_case)\n",
    "\n",
    "assert(scan_grid_for_gears(*process_input_for_gears(corner_case, True)) == 8*13+111*13)"
   ]
  },
  {
   "cell_type": "code",
   "execution_count": 25,
   "metadata": {},
   "outputs": [
    {
     "data": {
      "text/plain": [
       "82818007"
      ]
     },
     "execution_count": 25,
     "metadata": {},
     "output_type": "execute_result"
    }
   ],
   "source": [
    "scan_grid_for_gears(*process_input_for_gears('./inputs/day03.txt'))"
   ]
  },
  {
   "cell_type": "markdown",
   "metadata": {},
   "source": [
    "That's the right answer! You are one gold star ⭐ closer to restoring snow operations."
   ]
  }
 ],
 "metadata": {
  "kernelspec": {
   "display_name": "Python 3",
   "language": "python",
   "name": "python3"
  },
  "language_info": {
   "codemirror_mode": {
    "name": "ipython",
    "version": 3
   },
   "file_extension": ".py",
   "mimetype": "text/x-python",
   "name": "python",
   "nbconvert_exporter": "python",
   "pygments_lexer": "ipython3",
   "version": "3.10.12"
  }
 },
 "nbformat": 4,
 "nbformat_minor": 2
}
