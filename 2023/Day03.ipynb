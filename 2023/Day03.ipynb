{
 "cells": [
  {
   "cell_type": "markdown",
   "metadata": {},
   "source": [
    "# Day 3\n",
    "\n",
    "Full text of the task can be found on [AoC website](https://adventofcode.com/2023/day/3).\n",
    "\n",
    "We arrived at the gondola lift that will take us up to the water source. But the gondolas don't work - they are missing a part! \n",
    "\n",
    "Another ChatGPT 4 & DALL·E illustration:\n",
    "\n",
    "<img src=\"./ChatGPT_illustrations/day03.png\" width=\"400\" />"
   ]
  },
  {
   "cell_type": "markdown",
   "metadata": {},
   "source": [
    "## Part One\n",
    "\n",
    "We need to sum up the part numbers of all engine parts. The parts are marked by an adjacent symbol. \n",
    "\n",
    "This sounds tricky. Given a grid schematic, we need to figure out which of the numbers are adjacent to a symbol (in all directions). The dot (`.`) is not a symbol. Those number will be used for the sum.\n",
    "\n",
    "|   | 0 | 1 | 2 | 3 | 4 | 5 | 6 | 7 | 8 | 9  |\n",
    "|---|---|---|---|---|---|---|---|---|---|----|\n",
    "| 0 | 4 | 6 | 7 | . | . | **1** | **1** | **4** | . | .  |\n",
    "| 1 | . | . | . | * | . | . | . | . | . | .  |\n",
    "| 2 | . | . | 3 | 5 | . | . | 6 | 3 | 3 | .  |\n",
    "| 3 | . | . | . | . | . | . | # | . | . | .  |\n",
    "| 4 | 6 | 1 | 7 | * | . | . | . | . | . | .  |\n",
    "| 5 | . | . | . | . | . | + | . | **5** | **8** | .  |\n",
    "| 6 | . | . | 5 | 9 | 2 | . | . | . | . | .  |\n",
    "| 7 | . | . | . | . | . | 7 | 5 | 5 | . | .  |\n",
    "| 8 | . | . | . | $ | . | * | . | . | . | .  |\n",
    "| 9 | . | 6 | 6 | 4 | . | 5 | 9 | 8 | . | .  |\n",
    "\n",
    "\n",
    "In this example only `114` in the zero line and `58` in the 5th line are not adjacent to a symbol. The sum of all other numbers is equal to `4361`.\n"
   ]
  },
  {
   "cell_type": "markdown",
   "metadata": {},
   "source": [
    "Looks like I need to get the position of each number and then check the position around it. "
   ]
  },
  {
   "cell_type": "code",
   "execution_count": 1,
   "metadata": {},
   "outputs": [
    {
     "data": {
      "text/plain": [
       "({(3, 1): '*',\n",
       "  (6, 3): '#',\n",
       "  (3, 4): '*',\n",
       "  (5, 5): '+',\n",
       "  (3, 8): '$',\n",
       "  (5, 8): '*'},\n",
       " {(2, 0): 467,\n",
       "  (7, 0): 114,\n",
       "  (3, 2): 35,\n",
       "  (8, 2): 633,\n",
       "  (2, 4): 617,\n",
       "  (8, 5): 58,\n",
       "  (4, 6): 592,\n",
       "  (8, 7): 755,\n",
       "  (3, 9): 664,\n",
       "  (7, 9): 598})"
      ]
     },
     "execution_count": 1,
     "metadata": {},
     "output_type": "execute_result"
    }
   ],
   "source": [
    "example_input = \"\"\"467..114..\n",
    "...*......\n",
    "..35..633.\n",
    "......#...\n",
    "617*......\n",
    ".....+.58.\n",
    "..592.....\n",
    "......755.\n",
    "...$.*....\n",
    ".664.598..\"\"\"\n",
    "\n",
    "def process_input(input, example = False):\n",
    "\n",
    "    symbol_dict = dict()\n",
    "    numbers_dict = dict()\n",
    "    y = 0\n",
    "    if not example:\n",
    "        input = open(input).read()\n",
    "\n",
    "    for line in input.splitlines():\n",
    "        num = \"\"\n",
    "        for x, c in enumerate(line):\n",
    "            # if c in a number add to num\n",
    "            if c in '0123456789':\n",
    "                num += c\n",
    "            else:\n",
    "                # if num is not empty add to numbers_dict\n",
    "                if num != \"\":\n",
    "                    numbers_dict[(x-1, y)] = int(num)\n",
    "                    num = \"\"\n",
    "                # if c is not a dot add to symbol_dict\n",
    "                if c != '.':\n",
    "                    # I don't really need symbol_dict, a set would be enough\n",
    "                    # but in case I might need it later, I'll keep it\n",
    "                    symbol_dict[(x, y)] = c\n",
    "        if num != \"\":\n",
    "            numbers_dict[(x, y)] = int(num)\n",
    "        y += 1\n",
    "\n",
    "    return symbol_dict, numbers_dict\n",
    "\n",
    "process_input(example_input, True)"
   ]
  },
  {
   "cell_type": "code",
   "execution_count": 2,
   "metadata": {},
   "outputs": [
    {
     "data": {
      "text/plain": [
       "4361"
      ]
     },
     "execution_count": 2,
     "metadata": {},
     "output_type": "execute_result"
    }
   ],
   "source": [
    "def scan_grid(symbol_dict, numbers_dict):\n",
    "    parts_sum = 0\n",
    "    # for each number in numbers_dict, check if in x+-1 and y+-1 there is a symbol\n",
    "    for (x, y), num in numbers_dict.items():\n",
    "        # get the number of digits of num\n",
    "        num_digits = len(str(num))\n",
    "        # check if there is a symbol in (x_min-1 to x_max+1) and y+-1\n",
    "        x_min = x - num_digits\n",
    "        x_max = x + 1\n",
    "        # create all possible combinations of x1, y1 \n",
    "        # where x is within x_min and x_max and y is y-1 or y+1\n",
    "        xs = range(x_min, x_max+1)\n",
    "        ys = [y-1, y+1]\n",
    "        # take only the xs and ys >= 0\n",
    "        xs = [x1 for x1 in xs if x1 >= 0]\n",
    "        ys = [y1 for y1 in ys if y1 >= 0]\n",
    "        pos = [(x1, y1) for x1 in xs for y1 in ys]\n",
    "        pos += [(x1, y) for x1 in [x_min, x_max] if x1 >= 0]\n",
    "        if any([symbol_dict.get(p) for p in pos]):\n",
    "            parts_sum += num\n",
    "\n",
    "    return parts_sum\n",
    "\n",
    "scan_grid(*process_input(example_input, True))"
   ]
  },
  {
   "cell_type": "markdown",
   "metadata": {},
   "source": [
    "I needed debug for a bit bc I forgot to add numbers at the end of the line in  `process_input`. "
   ]
  },
  {
   "cell_type": "code",
   "execution_count": 3,
   "metadata": {},
   "outputs": [
    {
     "name": "stdout",
     "output_type": "stream",
     "text": [
      "   | 0 | 1 | 2 | 3 |\n",
      " --------------------\n",
      " 0 | . | . | . | . |\n",
      " 1 | . | . | . | 1 |\n",
      " 2 | 9 | 8 | 9 | * |\n",
      " 3 | . | _ | - | - |\n"
     ]
    }
   ],
   "source": [
    "def print_matrix(input_string):\n",
    "    # Split the input string into rows\n",
    "    rows = input_string.split(\"\\n\")\n",
    "    # get the max length of the rows\n",
    "    max_len = max([len(row) for row in rows])\n",
    "    \n",
    "    # Create a matrix of the max length\n",
    "    matrix = [[' ' for i in range(max_len)] for j in range(len(rows))]\n",
    "\n",
    "    # Populate the matrix with characters from the input string\n",
    "    for i, row in enumerate(rows):\n",
    "        for j, char in enumerate(row):\n",
    "            matrix[i][j] = char\n",
    "    # Print the matrix with row and column numbers\n",
    "    print(f\"   | {' | '.join([str(i) if i < 10 else ' ' for i in range(max_len)])} |\")\n",
    "    print(f\" {'-'*(max_len*4 + 4)}\")\n",
    "    for i, row in enumerate(matrix):\n",
    "        if i < 10:\n",
    "            print(f\" {i} | {' | '.join(row)} |\")\n",
    "        else:\n",
    "            print(f\"{i} | {' | '.join(row)} |\")\n",
    "\n",
    "# Input string\n",
    "input_string = \"\"\"....\n",
    "...1\n",
    "989*\n",
    "._--\"\"\"\n",
    "\n",
    "# Print the matrix\n",
    "print_matrix(input_string)\n"
   ]
  },
  {
   "cell_type": "code",
   "execution_count": 4,
   "metadata": {},
   "outputs": [
    {
     "name": "stdout",
     "output_type": "stream",
     "text": [
      "   | 0 | 1 | 2 | 3 | 4 | 5 |\n",
      " ----------------------------\n",
      " 0 | 1 | 1 | 1 | $ | 1 | 2 |\n",
      " 1 | + | . | . | . | . | . |\n",
      " 2 | . | . | 1 | 3 | . | % |\n"
     ]
    }
   ],
   "source": [
    "corner_case = \"\"\"111$12\n",
    "+.....\n",
    "..13.%\"\"\"\n",
    "\n",
    "print_matrix(corner_case)\n",
    "\n",
    "assert(scan_grid(*process_input(corner_case, True)) == 123)"
   ]
  },
  {
   "cell_type": "code",
   "execution_count": 5,
   "metadata": {},
   "outputs": [
    {
     "name": "stdout",
     "output_type": "stream",
     "text": [
      "   | 0 | 1 | 2 | 3 | 4 | 5 |\n",
      " ----------------------------\n",
      " 0 | 1 | 1 | 1 | $ | 1 | 2 |\n",
      " 1 | + | . | . | . | 8 | . |\n",
      " 2 | . | . | 1 | 3 | . | % |\n"
     ]
    }
   ],
   "source": [
    "corner_case = \"\"\"111$12\n",
    "+...8.\n",
    "..13.%\"\"\"\n",
    "\n",
    "print_matrix(corner_case)\n",
    "\n",
    "assert(scan_grid(*process_input(corner_case, True)) == 131)"
   ]
  },
  {
   "cell_type": "code",
   "execution_count": 6,
   "metadata": {},
   "outputs": [
    {
     "name": "stdout",
     "output_type": "stream",
     "text": [
      "   | 0 | 1 | 2 | 3 | 4 | 5 |\n",
      " ----------------------------\n",
      " 0 | . | . | $ | $ | . | . |\n",
      " 1 | + | . | . | . | 8 | . |\n",
      " 2 | . | . | 1 | 3 | . | % |\n"
     ]
    }
   ],
   "source": [
    "corner_case = \"\"\"..$$..\n",
    "+...8.\n",
    "..13.%\"\"\"\n",
    "\n",
    "print_matrix(corner_case)\n",
    "\n",
    "assert(scan_grid(*process_input(corner_case, True)) == 8)"
   ]
  },
  {
   "cell_type": "code",
   "execution_count": 7,
   "metadata": {},
   "outputs": [
    {
     "name": "stdout",
     "output_type": "stream",
     "text": [
      "   | 0 | 1 | 2 |\n",
      " ----------------\n",
      " 0 | 1 | . | 3 |\n",
      " 1 | . | 5 | . |\n",
      " 2 | 7 | . | 9 |\n"
     ]
    }
   ],
   "source": [
    "corner_case = \"\"\"1.3\n",
    ".5.\n",
    "7.9\"\"\"\n",
    "\n",
    "print_matrix(corner_case)\n",
    "\n",
    "assert(scan_grid(*process_input(corner_case, True)) == 0)"
   ]
  },
  {
   "cell_type": "code",
   "execution_count": 8,
   "metadata": {},
   "outputs": [
    {
     "name": "stdout",
     "output_type": "stream",
     "text": [
      "   | 0 | 1 | 2 |\n",
      " ----------------\n",
      " 0 | 1 | * | 3 |\n",
      " 1 | * | 5 | * |\n",
      " 2 | 7 | * | 9 |\n"
     ]
    }
   ],
   "source": [
    "corner_case = \"\"\"1*3\n",
    "*5*\n",
    "7*9\"\"\"\n",
    "\n",
    "print_matrix(corner_case)\n",
    "\n",
    "assert(scan_grid(*process_input(corner_case, True)) == 25)"
   ]
  },
  {
   "cell_type": "code",
   "execution_count": 9,
   "metadata": {},
   "outputs": [
    {
     "name": "stdout",
     "output_type": "stream",
     "text": [
      "   | 0 | 1 | 2 | 3 |\n",
      " --------------------\n",
      " 0 | . | $ | 1 | 2 |\n"
     ]
    }
   ],
   "source": [
    "corner_case = \"\"\".$12\"\"\"\n",
    "print_matrix(corner_case)\n",
    "assert(scan_grid(*process_input(corner_case, True)) == 12)"
   ]
  },
  {
   "cell_type": "code",
   "execution_count": 10,
   "metadata": {},
   "outputs": [
    {
     "name": "stdout",
     "output_type": "stream",
     "text": [
      "   | 0 | 1 | 2 |\n",
      " ----------------\n",
      " 0 | * | * | * |\n"
     ]
    }
   ],
   "source": [
    "corner_case = \"\"\"***\"\"\"\n",
    "print_matrix(corner_case)\n",
    "assert(scan_grid(*process_input(corner_case, True)) == 0)"
   ]
  },
  {
   "cell_type": "code",
   "execution_count": 11,
   "metadata": {},
   "outputs": [
    {
     "name": "stdout",
     "output_type": "stream",
     "text": [
      "   | 0 | 1 | 2 | 3 | 4 |\n",
      " ------------------------\n",
      " 0 | 3 | 3 | 3 | . | 3 |\n",
      " 1 | . | . | . | * | . |\n"
     ]
    }
   ],
   "source": [
    "corner_case_from_reddit = \"\"\"333.3\n",
    "...*.\"\"\"\n",
    "print_matrix(corner_case_from_reddit)\n",
    "assert(scan_grid(*process_input(corner_case_from_reddit, True)) == 336)"
   ]
  },
  {
   "cell_type": "code",
   "execution_count": 12,
   "metadata": {},
   "outputs": [
    {
     "name": "stdout",
     "output_type": "stream",
     "text": [
      "   | 0 | 1 | 2 |\n",
      " ----------------\n",
      " 0 | 1 | . | 3 |\n",
      " 1 | . | 5 | * |\n",
      " 2 | . | . | 9 |\n"
     ]
    }
   ],
   "source": [
    "corner_case = \"\"\"1.3\n",
    ".5*\n",
    "..9\"\"\"\n",
    "print_matrix(corner_case)\n",
    "assert(scan_grid(*process_input(corner_case, True)) == 17)"
   ]
  },
  {
   "cell_type": "code",
   "execution_count": 13,
   "metadata": {},
   "outputs": [
    {
     "name": "stdout",
     "output_type": "stream",
     "text": [
      "   | 0 | 1 | 2 |\n",
      " ----------------\n",
      " 0 | * | . | * |\n",
      " 1 | 1 | 2 | 3 |\n"
     ]
    }
   ],
   "source": [
    "corner_case = \"\"\"*.*\n",
    "123\"\"\"\n",
    "print_matrix(corner_case)\n",
    "assert(scan_grid(*process_input(corner_case, True)) == 123)"
   ]
  },
  {
   "cell_type": "code",
   "execution_count": 14,
   "metadata": {},
   "outputs": [
    {
     "data": {
      "text/plain": [
       "539637"
      ]
     },
     "execution_count": 14,
     "metadata": {},
     "output_type": "execute_result"
    }
   ],
   "source": [
    "scan_grid(*process_input('./inputs/day03.txt'))"
   ]
  },
  {
   "cell_type": "markdown",
   "metadata": {},
   "source": [
    "That's the right answer! You are one gold star ⭐ closer to restoring snow operations."
   ]
  },
  {
   "cell_type": "markdown",
   "metadata": {},
   "source": [
    "## Part Two\n",
    "\n",
    "In this part, we are actually only interested in '*' near two numbers. Then we calculate the gear ratio by multiplying those numbers and adding them to the sum.\n",
    "\n",
    "|   | 0 | 1 | 2 | 3 | 4 | 5 | 6 | 7 | 8 | 9  |\n",
    "|---|---|---|---|---|---|---|---|---|---|----|\n",
    "| 0 | **4** | **6** | **7** | . | . | 1 | 1 | 4 | . | .  |\n",
    "| 1 | . | . | . | * | . | . | . | . | . | .  |\n",
    "| 2 | . | . | **3** | **5** | . | . | 6 | 3 | 3 | .  |\n",
    "| 3 | . | . | . | . | . | . | # | . | . | .  |\n",
    "| 4 | 6 | 1 | 7 | * | . | . | . | . | . | .  |\n",
    "| 5 | . | . | . | . | . | + | . | 5 | 8 | .  |\n",
    "| 6 | . | . | 5 | 9 | 2 | . | . | . | . | .  |\n",
    "| 7 | . | . | . | . | . | **7** | **5** | **5** | . | .  |\n",
    "| 8 | . | . | . | $ | . | * | . | . | . | .  |\n",
    "| 9 | . | 6 | 6 | 4 | . | **5** | **9** | **8** | . | .  |\n",
    "\n",
    "There are two gears here - `467` and `35` with gear ratio `16345` and `755` and `598` with gear ratio `451490`. Together, the sum is `467835`."
   ]
  },
  {
   "cell_type": "code",
   "execution_count": 15,
   "metadata": {},
   "outputs": [],
   "source": [
    "def process_input_for_gears(input, example = False):\n",
    "\n",
    "    gears = set()\n",
    "    numbers_idx = dict()\n",
    "    numbers_dict = dict()\n",
    "    y = 0\n",
    "    idx = 0\n",
    "    if not example:\n",
    "        input = open(input).read()\n",
    "\n",
    "    for line in input.splitlines():\n",
    "        num = \"\"\n",
    "        for x, c in enumerate(line):\n",
    "            # if c in a number add to num\n",
    "            if c in '0123456789':\n",
    "                num += c\n",
    "            else:\n",
    "                # if num is not empty add to numbers_dict\n",
    "                if num != \"\":\n",
    "                    numbers_idx[idx] = num\n",
    "                    # for each position of the number add the idx\n",
    "                    for i in range(len(num)):\n",
    "                        numbers_dict[(x-i-1, y)] = idx\n",
    "                    num = \"\"\n",
    "                    idx += 1\n",
    "                # if c is not a dot add to symbol_dict\n",
    "                if c == '*':\n",
    "                    gears.add((x, y))\n",
    "        if num != \"\":\n",
    "            numbers_idx[idx] = num\n",
    "            # for each position of the number add the idx\n",
    "            for i in range(len(num)):\n",
    "                numbers_dict[(x-i, y)] = idx\n",
    "            num = \"\"\n",
    "            idx += 1\n",
    "        y += 1\n",
    "\n",
    "    return gears, numbers_idx, numbers_dict\n"
   ]
  },
  {
   "cell_type": "code",
   "execution_count": 16,
   "metadata": {},
   "outputs": [
    {
     "data": {
      "text/plain": [
       "467835"
      ]
     },
     "execution_count": 16,
     "metadata": {},
     "output_type": "execute_result"
    }
   ],
   "source": [
    "def scan_grid_for_gears(gears, numbers_idx, numbers_dict):\n",
    "    gears_sum = 0\n",
    "    # for each '*' in symbol_dict, check if in x+-1 and y+-1 there are exactly two numbers\n",
    "    for (x, y) in gears:\n",
    "        # check if there are exactly two numbers in (x-1 to x+1) and (y-1 to y+1)\n",
    "        xs = [x-1, x, x+1]\n",
    "        ys = [y-1, y, y+1]\n",
    "        # take only the xs and ys >= 0\n",
    "        xs = [x1 for x1 in xs if x1 >= 0]\n",
    "        ys = [y1 for y1 in ys if y1 >= 0]\n",
    "        pos = [(x1, y1) for x1 in xs for y1 in ys if (x1, y1) != (x, y)]\n",
    "        # get the idx of the numbers in the positions\n",
    "        idxs = [numbers_dict.get(p) for p in pos if numbers_dict.get(p) is not None]\n",
    "        idxs = list(set(idxs))\n",
    "        if len(idxs) == 2:\n",
    "            # get the numbers\n",
    "            nums = [numbers_idx.get(i) for i in idxs]\n",
    "            # multiply the numbers\n",
    "            gears_sum += int(nums[0]) * int(nums[1])\n",
    "\n",
    "    return gears_sum\n",
    "\n",
    "scan_grid_for_gears(*process_input_for_gears(example_input, True))"
   ]
  },
  {
   "cell_type": "code",
   "execution_count": 17,
   "metadata": {},
   "outputs": [
    {
     "name": "stdout",
     "output_type": "stream",
     "text": [
      "   | 0 | 1 | 2 |\n",
      " ----------------\n",
      " 0 | 1 | . | 3 |\n",
      " 1 | . | 5 | * |\n",
      " 2 | . | . | 9 |\n"
     ]
    }
   ],
   "source": [
    "corner_case = \"\"\"1.3\n",
    ".5*\n",
    "..9\"\"\"\n",
    "print_matrix(corner_case)\n",
    "assert(scan_grid_for_gears(*process_input_for_gears(corner_case, True)) == 0)"
   ]
  },
  {
   "cell_type": "code",
   "execution_count": 18,
   "metadata": {},
   "outputs": [
    {
     "name": "stdout",
     "output_type": "stream",
     "text": [
      "   | 0 | 1 | 2 |\n",
      " ----------------\n",
      " 0 | * | . | * |\n",
      " 1 | 1 | 2 | 3 |\n"
     ]
    }
   ],
   "source": [
    "corner_case = \"\"\"*.*\n",
    "123\"\"\"\n",
    "print_matrix(corner_case)\n",
    "assert(scan_grid_for_gears(*process_input_for_gears(corner_case, True)) == 0)"
   ]
  },
  {
   "cell_type": "code",
   "execution_count": 19,
   "metadata": {},
   "outputs": [
    {
     "name": "stdout",
     "output_type": "stream",
     "text": [
      "   | 0 | 1 | 2 |\n",
      " ----------------\n",
      " 0 | . | * | . |\n",
      " 1 | 1 | . | 3 |\n"
     ]
    }
   ],
   "source": [
    "corner_case = \"\"\".*.\n",
    "1.3\"\"\"\n",
    "print_matrix(corner_case)\n",
    "assert(scan_grid_for_gears(*process_input_for_gears(corner_case, True)) == 3)"
   ]
  },
  {
   "cell_type": "code",
   "execution_count": 20,
   "metadata": {},
   "outputs": [
    {
     "name": "stdout",
     "output_type": "stream",
     "text": [
      "   | 0 | 1 | 2 |\n",
      " ----------------\n",
      " 0 | * | * | * |\n"
     ]
    }
   ],
   "source": [
    "corner_case = \"\"\"***\"\"\"\n",
    "print_matrix(corner_case)\n",
    "assert(scan_grid_for_gears(*process_input_for_gears(corner_case, True)) == 0)"
   ]
  },
  {
   "cell_type": "code",
   "execution_count": 21,
   "metadata": {},
   "outputs": [
    {
     "name": "stdout",
     "output_type": "stream",
     "text": [
      "   | 0 | 1 | 2 | 3 | 4 | 5 |\n",
      " ----------------------------\n",
      " 0 | 1 | 1 | 1 | * | 1 | 2 |\n",
      " 1 | * | . | . | . | 8 | . |\n",
      " 2 | . | . | 1 | 3 | . | * |\n"
     ]
    }
   ],
   "source": [
    "corner_case = \"\"\"111*12\n",
    "*...8.\n",
    "..13.*\"\"\"\n",
    "\n",
    "print_matrix(corner_case)\n",
    "\n",
    "assert(scan_grid_for_gears(*process_input_for_gears(corner_case, True)) == 0)"
   ]
  },
  {
   "cell_type": "code",
   "execution_count": 22,
   "metadata": {},
   "outputs": [
    {
     "name": "stdout",
     "output_type": "stream",
     "text": [
      "   | 0 | 1 | 2 | 3 | 4 | 5 |\n",
      " ----------------------------\n",
      " 0 | 1 | 1 | 1 | * | 1 | 2 |\n",
      " 1 | * | . | . | . | 8 | . |\n",
      " 2 | . | . | 1 | 3 | * | * |\n"
     ]
    }
   ],
   "source": [
    "corner_case = \"\"\"111*12\n",
    "*...8.\n",
    "..13**\"\"\"\n",
    "\n",
    "print_matrix(corner_case)\n",
    "\n",
    "assert(scan_grid_for_gears(*process_input_for_gears(corner_case, True)) == 8*13)"
   ]
  },
  {
   "cell_type": "code",
   "execution_count": 23,
   "metadata": {},
   "outputs": [
    {
     "name": "stdout",
     "output_type": "stream",
     "text": [
      "   | 0 | 1 | 2 | 3 | 4 | 5 |\n",
      " ----------------------------\n",
      " 0 | 1 | 1 | 1 | * | 1 | 2 |\n",
      " 1 | * | . | * | . | 8 | . |\n",
      " 2 | . | . | 1 | 3 | * | * |\n"
     ]
    }
   ],
   "source": [
    "corner_case = \"\"\"111*12\n",
    "*.*.8.\n",
    "..13**\"\"\"\n",
    "\n",
    "print_matrix(corner_case)\n",
    "\n",
    "assert(scan_grid_for_gears(*process_input_for_gears(corner_case, True)) == 8*13+111*13)"
   ]
  },
  {
   "cell_type": "code",
   "execution_count": 24,
   "metadata": {},
   "outputs": [
    {
     "data": {
      "text/plain": [
       "82818007"
      ]
     },
     "execution_count": 24,
     "metadata": {},
     "output_type": "execute_result"
    }
   ],
   "source": [
    "scan_grid_for_gears(*process_input_for_gears('./inputs/day03.txt'))"
   ]
  },
  {
   "cell_type": "markdown",
   "metadata": {},
   "source": [
    "That's the right answer! You are one gold star ⭐ closer to restoring snow operations."
   ]
  }
 ],
 "metadata": {
  "kernelspec": {
   "display_name": "Python 3",
   "language": "python",
   "name": "python3"
  },
  "language_info": {
   "codemirror_mode": {
    "name": "ipython",
    "version": 3
   },
   "file_extension": ".py",
   "mimetype": "text/x-python",
   "name": "python",
   "nbconvert_exporter": "python",
   "pygments_lexer": "ipython3",
   "version": "3.10.12"
  }
 },
 "nbformat": 4,
 "nbformat_minor": 2
}
