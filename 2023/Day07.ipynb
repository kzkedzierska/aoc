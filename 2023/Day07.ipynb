{
 "cells": [
  {
   "cell_type": "markdown",
   "metadata": {},
   "source": [
    "# Day 7\n",
    "\n",
    "Cool, the airship dropped us off at the Dessert Island! We are also going to learn a game of Camel Cards. Exciting."
   ]
  },
  {
   "cell_type": "markdown",
   "metadata": {},
   "source": [
    "## Part One\n",
    "\n",
    "We get to play cards, we get the list of hands with `5 cards` (`A > K > Q > J > T > 9 > 8 > 7 > 6 > 5 > 4 > 3 > 2`).\n",
    "\n",
    "Possible combinations (from strongest to weakest):\n",
    "\n",
    "* 5 of a kind,\n",
    "* 4 of a kind,\n",
    "* Full house - 3 + 2,\n",
    "* 3 of a kind,\n",
    "* Two Pairs,\n",
    "* Pair,\n",
    "* High card.\n",
    "\n",
    "If two hands have same combinations, we compare the first card in a hand, choosing the higher. If the first cards in both hands are the same, we move on to the next and so on.\n",
    "\n",
    "Each hand is presented with a bid. The task is to assign each hand a rank (with `n` for the highest, `n-1` second highest and so on). The total for the game is the sum of all `bid * rank`.\n",
    "\n",
    "Example:\n",
    "\n",
    "```\n",
    "32T3K 765\n",
    "T55J5 684\n",
    "KK677 28\n",
    "KTJJT 220\n",
    "QQQJA 483\n",
    "```\n",
    "\n",
    "| Hand | Bid | Composition | Rank | Why | \n",
    "|:----:|:---:|:-----------:|:----:|:---:|\n",
    "| 32T3K | 765 | Pair | 1 |  Least strong |\n",
    "| T55J5 | 684 | 3 of a kind | 4 | same as QQQJA and T < Q |\n",
    "| KK677 | 28 | Two Pairs | 3 | same as KTJJT and KK > KT |\n",
    "| KTJJT | 220 | Two Pairs | 2 | same as KK677 and KT < KK |\n",
    "| QQQJA | 483 | 3 of a kind | 5 | same as T55J5 and Q > T |\n",
    "\n",
    "Answer to the problem is the sum of `bid * rank`. In this case `6440`."
   ]
  },
  {
   "cell_type": "code",
   "execution_count": 1,
   "metadata": {},
   "outputs": [],
   "source": [
    "example_input = \"\"\"32T3K 765\n",
    "T55J5 684\n",
    "KK677 28\n",
    "KTJJT 220\n",
    "QQQJA 483\"\"\"\n",
    "\n",
    "from collections import Counter, defaultdict\n",
    "def process_input(input, example=False):\n",
    "    cards_strength = defaultdict(int, \n",
    "                                 {\"A\": 14, \"K\": 13, \"Q\": 12, \"J\": 11, \"T\": 10})\n",
    "    count_to_strength = {5: 7, 4: 6, 3: 4, 2: 2, 1: 1}\n",
    "    \n",
    "    if example:\n",
    "        input_data = input.split(\"\\n\")\n",
    "    else:\n",
    "        with open(input) as f:\n",
    "            input_data = f.readlines()\n",
    "    \n",
    "    hands = []\n",
    "    for line in input_data:\n",
    "        hand, bid = line.strip().split(\" \")\n",
    "        bid = int(bid)\n",
    "        hand_count = Counter(hand)\n",
    "        max_count = max(hand_count.values())\n",
    "        strength = count_to_strength[max_count]\n",
    "        if max_count == 2 and len(hand_count) == 3:\n",
    "            strength = 3\n",
    "        elif max_count == 3 and 2 in hand_count.values():\n",
    "            strength = 5\n",
    "        hand_cards = [strength] + [cards_strength[card] \n",
    "                                   if cards_strength[card] > 0 \n",
    "                                   else int(card) \n",
    "                                   for card in hand] + [bid]\n",
    "        hands.append(hand_cards)\n",
    "    \n",
    "    return hands\n",
    "\n",
    "example_output = [[2, 3, 2, 10, 3, 13, 765],\n",
    " [4, 10, 5, 5, 11, 5, 684],\n",
    " [3, 13, 13, 6, 7, 7, 28],\n",
    " [3, 13, 10, 11, 11, 10, 220],\n",
    " [4, 12, 12, 12, 11, 14, 483]]\n",
    "\n",
    "assert(process_input(example_input, example=True) == example_output)"
   ]
  },
  {
   "cell_type": "code",
   "execution_count": 2,
   "metadata": {},
   "outputs": [
    {
     "data": {
      "text/plain": [
       "[[2, 3, 2, 10, 3, 13, 765],\n",
       " [3, 13, 10, 11, 11, 10, 220],\n",
       " [3, 13, 13, 6, 7, 7, 28],\n",
       " [4, 10, 5, 5, 11, 5, 684],\n",
       " [4, 12, 12, 12, 11, 14, 483]]"
      ]
     },
     "execution_count": 2,
     "metadata": {},
     "output_type": "execute_result"
    }
   ],
   "source": [
    "# sort hands by strength, then by each card\n",
    "def sort_hands(hands):\n",
    "    return sorted(hands, key=lambda x: (x[0], x[1], x[2], x[3], x[4], x[5]), reverse=False)\n",
    "\n",
    "sort_hands(process_input(example_input, example=True))\n"
   ]
  },
  {
   "cell_type": "code",
   "execution_count": 3,
   "metadata": {},
   "outputs": [],
   "source": [
    "def part_one(input, example=False):\n",
    "    hands = process_input(input, example)\n",
    "    sorted_hands = sort_hands(hands)\n",
    "    return sum([i * sorted_hands[i-1][-1] for i in range(1, len(sorted_hands)+1)])\n",
    "\n",
    "assert(part_one(example_input, example=True) == 6440)"
   ]
  },
  {
   "cell_type": "code",
   "execution_count": 4,
   "metadata": {},
   "outputs": [
    {
     "data": {
      "text/plain": [
       "256448566"
      ]
     },
     "execution_count": 4,
     "metadata": {},
     "output_type": "execute_result"
    }
   ],
   "source": [
    "part_one(\"./inputs/day07.txt\")"
   ]
  },
  {
   "cell_type": "markdown",
   "metadata": {},
   "source": [
    "That's the right answer! You are one gold star ⭐ closer to restoring snow operations."
   ]
  },
  {
   "cell_type": "markdown",
   "metadata": {},
   "source": [
    "## Part Two\n",
    "\n",
    "Now the Jokers entered the game! They, on their own have value of 1 but they can be whatever is needed to form the strongest hand."
   ]
  },
  {
   "cell_type": "code",
   "execution_count": 5,
   "metadata": {},
   "outputs": [
    {
     "data": {
      "text/plain": [
       "0"
      ]
     },
     "execution_count": 5,
     "metadata": {},
     "output_type": "execute_result"
    }
   ],
   "source": [
    "d = {'a': 2, 'b': 2, 'c':1}\n",
    "max(d, key=d.get)\n",
    "e = dict()\n",
    "max(e.values(), default=0)"
   ]
  },
  {
   "cell_type": "code",
   "execution_count": 6,
   "metadata": {},
   "outputs": [],
   "source": [
    "from collections import Counter, defaultdict\n",
    "def process_input_mod(input, example=False):\n",
    "    cards_strength = defaultdict(int, \n",
    "                                 {\"A\": 14, \"K\": 13, \"Q\": 12, \"J\": 1, \"T\": 10})\n",
    "    count_to_strength = {5: 7, 4: 6, \n",
    "                         3: 4, 2: 2, 1: 1}\n",
    "    \n",
    "    if example:\n",
    "        input_data = input.split(\"\\n\")\n",
    "    else:\n",
    "        with open(input) as f:\n",
    "            input_data = f.readlines()\n",
    "    \n",
    "    hands = []\n",
    "    for line in input_data:\n",
    "        hand, bid = line.strip().split(\" \")\n",
    "        bid = int(bid)\n",
    "        hand_count = Counter(hand)\n",
    "        if \"J\" in hand_count:\n",
    "            # remove J from hand_count, and access its value\n",
    "            jokers = hand_count.pop(\"J\")\n",
    "            max_count = max(hand_count.values(), default=0) + jokers\n",
    "            # change the value for the key with the highest count\n",
    "            if jokers < 5:\n",
    "                hand_count[max(hand_count, key=hand_count.get)] = max_count\n",
    "            else:\n",
    "                hand_count[\"J\"] = max_count\n",
    "        else:\n",
    "            max_count = max(hand_count.values())\n",
    "\n",
    "                \n",
    "        strength = count_to_strength[max_count]\n",
    "        if max_count == 2 and len(hand_count) == 3:\n",
    "            strength = 3\n",
    "        elif max_count == 3 and 2 in hand_count.values():\n",
    "            strength = 5\n",
    "            \n",
    "        hand_cards = [strength] + [cards_strength[card] \n",
    "                                   if cards_strength[card] > 0 \n",
    "                                   else int(card) \n",
    "                                   for card in hand] + [bid]\n",
    "        hands.append(hand_cards)\n",
    "    \n",
    "    return hands\n",
    "\n",
    "example_output = [[2, 3, 2, 10, 3, 13, 765],\n",
    " [6, 10, 5, 5, 1, 5, 684],\n",
    " [3, 13, 13, 6, 7, 7, 28],\n",
    " [6, 13, 10, 1, 1, 10, 220],\n",
    " [6, 12, 12, 12, 1, 14, 483]]\n",
    "\n",
    "assert(process_input_mod(example_input, example=True) == example_output)"
   ]
  },
  {
   "cell_type": "code",
   "execution_count": 7,
   "metadata": {},
   "outputs": [],
   "source": [
    "def part_two(input, example=False):\n",
    "    hands = process_input_mod(input, example)\n",
    "    sorted_hands = sort_hands(hands)\n",
    "    return sum([i * sorted_hands[i-1][-1] for i in range(1, len(sorted_hands)+1)])\n",
    "\n",
    "assert(part_two(example_input, example=True) == 5905)"
   ]
  },
  {
   "cell_type": "code",
   "execution_count": 8,
   "metadata": {},
   "outputs": [
    {
     "data": {
      "text/plain": [
       "254412181"
      ]
     },
     "execution_count": 8,
     "metadata": {},
     "output_type": "execute_result"
    }
   ],
   "source": [
    "part_two(\"./inputs/day07.txt\")"
   ]
  },
  {
   "cell_type": "markdown",
   "metadata": {},
   "source": [
    "That's the right answer! You are one gold star ⭐ closer to restoring snow operations."
   ]
  }
 ],
 "metadata": {
  "kernelspec": {
   "display_name": "Python 3",
   "language": "python",
   "name": "python3"
  },
  "language_info": {
   "codemirror_mode": {
    "name": "ipython",
    "version": 3
   },
   "file_extension": ".py",
   "mimetype": "text/x-python",
   "name": "python",
   "nbconvert_exporter": "python",
   "pygments_lexer": "ipython3",
   "version": "3.10.12"
  }
 },
 "nbformat": 4,
 "nbformat_minor": 2
}
