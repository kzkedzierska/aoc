{
 "cells": [
  {
   "cell_type": "markdown",
   "metadata": {},
   "source": [
    "# Day 7\n",
    "\n",
    "Cool, the airship dropped us off at the Dessert Island! We are also going to learn a game of Camel Cards. Exciting."
   ]
  },
  {
   "cell_type": "markdown",
   "metadata": {},
   "source": [
    "## Part One\n",
    "\n",
    "We get to play cards, we get the list of hands with `5 cards` (`A > K > Q > J > T > 9 > 8 > 7 > 6 > 5 > 4 > 3 > 2`).\n",
    "\n",
    "Possible combinations (from strongest to weakest):\n",
    "\n",
    "* 5 of a kind,\n",
    "* 4 of a kind,\n",
    "* Full house - 3 + 2,\n",
    "* 3 of a kind,\n",
    "* Two Pairs,\n",
    "* Pair,\n",
    "* High card.\n",
    "\n",
    "If two hands have same combinations, we compare the first card in a hand, choosing the higher. If the first cards in both hands are the same, we move on to the next and so on.\n",
    "\n",
    "Each hand is presented with a bid. The task is to assign each hand a rank (with `n` for the highest, `n-1` second highest and so on). The total for the game is the sum of all `bid * rank`.\n",
    "\n",
    "Example:\n",
    "\n",
    "```\n",
    "32T3K 765\n",
    "T55J5 684\n",
    "KK677 28\n",
    "KTJJT 220\n",
    "QQQJA 483\n",
    "```\n",
    "\n",
    "| Hand | Bid | Composition | Rank | Why | \n",
    "|:----:|:---:|:-----------:|:----:|:---:|\n",
    "| 32T3K | 765 | Pair | 1 |  Least strong |\n",
    "| T55J5 | 684 | 3 of a kind | 4 | same as QQQJA and T < Q |\n",
    "| KK677 | 28 | Two Pairs | 3 | same as KTJJT and KK > KT |\n",
    "| KTJJT | 220 | Two Pairs | 2 | same as KK677 and KT < KK |\n",
    "| QQQJA | 483 | 3 of a kind | 5 | same as T55J5 and Q > T |\n",
    "\n",
    "Answer to the problem is the sum of `bid * rank`. In this case `6440`."
   ]
  },
  {
   "cell_type": "code",
   "execution_count": null,
   "metadata": {},
   "outputs": [],
   "source": []
  },
  {
   "cell_type": "code",
   "execution_count": 1,
   "metadata": {},
   "outputs": [
    {
     "data": {
      "text/plain": [
       "[[2, 3, 2, 10, 3, 13, 765],\n",
       " [4, 10, 5, 5, 11, 5, 684],\n",
       " [3, 13, 13, 6, 7, 7, 28],\n",
       " [3, 13, 10, 11, 11, 10, 220],\n",
       " [4, 12, 12, 12, 11, 14, 483]]"
      ]
     },
     "execution_count": 1,
     "metadata": {},
     "output_type": "execute_result"
    }
   ],
   "source": [
    "example_input = \"\"\"32T3K 765\n",
    "T55J5 684\n",
    "KK677 28\n",
    "KTJJT 220\n",
    "QQQJA 483\"\"\"\n",
    "\n",
    "cards_strength = {\"A\": 14, \"K\": 13, \"Q\": 12, \"J\": 11, \"T\": 10}\n",
    "\n",
    "from collections import Counter\n",
    "def process_input(input, example=False):\n",
    "    if example:\n",
    "        input_data = input.split(\"\\n\")\n",
    "    else:\n",
    "        with open(input) as f:\n",
    "            input_data = f.readlines()\n",
    "    hands = []\n",
    "    for line in input_data:\n",
    "        bid = int(line.strip().split()[1])\n",
    "        hand = list(line.strip().split(\" \")[0])\n",
    "        # count unique cards in hand\n",
    "        hand_count = Counter(hand)\n",
    "        # 5 of a kind\n",
    "        if max(hand_count.values()) == 5: \n",
    "            strength = 7\n",
    "        # 4 of a kind\n",
    "        elif max(hand_count.values()) == 4:\n",
    "            strength = 6\n",
    "        # full house\n",
    "        elif 3 in hand_count.values() and 2 in hand_count.values():\n",
    "            strength = 5\n",
    "        # 3 of a kind\n",
    "        elif max(hand_count.values()) == 3:\n",
    "            strength = 4\n",
    "        # 2 pairs\n",
    "        elif 2 in hand_count.values() and len(hand_count.values()) == 3:\n",
    "            strength = 3\n",
    "        # 1 pair\n",
    "        elif 2 in hand_count.values():\n",
    "            strength = 2\n",
    "        # high card\n",
    "        else:\n",
    "            strength = 1\n",
    "            \n",
    "        hand_cards = [cards_strength[card] \n",
    "                      if card in cards_strength.keys() \n",
    "                      else int(card) for card in hand]\n",
    "        # add strength at the beginning to hand\n",
    "        hand_cards.insert(0, strength)\n",
    "        # add bid at the end of hand\n",
    "        hand_cards.append(bid)\n",
    "        \n",
    "        hands.append(hand_cards)\n",
    "\n",
    "    return hands\n",
    "                   \n",
    "\n",
    "process_input(example_input, example=True)\n"
   ]
  },
  {
   "cell_type": "code",
   "execution_count": 2,
   "metadata": {},
   "outputs": [
    {
     "data": {
      "text/plain": [
       "[[2, 3, 2, 10, 3, 13, 765],\n",
       " [3, 13, 10, 11, 11, 10, 220],\n",
       " [3, 13, 13, 6, 7, 7, 28],\n",
       " [4, 10, 5, 5, 11, 5, 684],\n",
       " [4, 12, 12, 12, 11, 14, 483]]"
      ]
     },
     "execution_count": 2,
     "metadata": {},
     "output_type": "execute_result"
    }
   ],
   "source": [
    "# sort hands by strength, then by each card\n",
    "def sort_hands(hands):\n",
    "    return sorted(hands, key=lambda x: (x[0], x[1], x[2], x[3], x[4], x[5]), reverse=False)\n",
    "\n",
    "sort_hands(process_input(example_input, example=True))\n"
   ]
  },
  {
   "cell_type": "code",
   "execution_count": 3,
   "metadata": {},
   "outputs": [],
   "source": [
    "def part_one(input, example=False):\n",
    "    hands = process_input(input, example)\n",
    "    sorted_hands = sort_hands(hands)\n",
    "    return sum([i * sorted_hands[i-1][-1] for i in range(1, len(sorted_hands)+1)])\n",
    "\n",
    "assert(part_one(example_input, example=True) == 6440)"
   ]
  },
  {
   "cell_type": "code",
   "execution_count": 4,
   "metadata": {},
   "outputs": [
    {
     "data": {
      "text/plain": [
       "256448566"
      ]
     },
     "execution_count": 4,
     "metadata": {},
     "output_type": "execute_result"
    }
   ],
   "source": [
    "part_one(\"./inputs/day07.txt\")"
   ]
  },
  {
   "cell_type": "markdown",
   "metadata": {},
   "source": [
    "That's the right answer! You are one gold star ⭐ closer to restoring snow operations."
   ]
  }
 ],
 "metadata": {
  "kernelspec": {
   "display_name": "Python 3",
   "language": "python",
   "name": "python3"
  },
  "language_info": {
   "codemirror_mode": {
    "name": "ipython",
    "version": 3
   },
   "file_extension": ".py",
   "mimetype": "text/x-python",
   "name": "python",
   "nbconvert_exporter": "python",
   "pygments_lexer": "ipython3",
   "version": "3.10.12"
  }
 },
 "nbformat": 4,
 "nbformat_minor": 2
}
