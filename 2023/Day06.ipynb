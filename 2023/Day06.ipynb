{
 "cells": [
  {
   "cell_type": "markdown",
   "metadata": {},
   "source": [
    "# Day 6\n",
    "\n",
    "We arrive at the Island Island! And we get to take part in a race. "
   ]
  },
  {
   "cell_type": "markdown",
   "metadata": {},
   "source": [
    "## Part One\n",
    "\n",
    "We're taking part in boat races. The key is to outperform the best distance. We are given the time and the best distance recorded. During the race we could either charge the boat by staying in the port or move. The speed will be determined by charge - the more charge in the boat the faster it goes. If we charge for 1 millisecond, the boat will move with the speed 1 mm/ms, if for 2 milliseconds, the boat will move with speed 2 mm/ms and so on. \n",
    "\n",
    "Example:\n",
    "\n",
    "```\n",
    "Time:      7  15   30\n",
    "Distance:  9  40  200\n",
    "```"
   ]
  },
  {
   "cell_type": "code",
   "execution_count": 1,
   "metadata": {},
   "outputs": [],
   "source": [
    "example_input = \"\"\"Time:      7  15   30\n",
    "Distance:  9  40  200\"\"\"\n",
    "\n",
    "def process_input(input, example=False):\n",
    "    if example:\n",
    "        input_data = input.split(\"\\n\")\n",
    "    else:\n",
    "        with open(input) as f:\n",
    "            input_data = f.readlines()\n",
    "    \n",
    "    time = [int(x) for x in input_data[0].split()[1:]]\n",
    "    distance = [int(x) for x in input_data[1].split()[1:]]\n",
    "    return time, distance\n",
    "\n",
    "assert(process_input(example_input, example=True) == ([7, 15, 30], [9, 40, 200]))"
   ]
  },
  {
   "cell_type": "code",
   "execution_count": 2,
   "metadata": {},
   "outputs": [],
   "source": [
    "from functools import reduce\n",
    "\n",
    "def get_distances(time):\n",
    "    return [i*(time-i) for i in range(1, time)]\n",
    "\n",
    "def part_one(input, example=False):\n",
    "    time, distance = process_input(input, example)\n",
    "    opts = []\n",
    "    for i, t in enumerate(time):\n",
    "        opts.append(len([d for d in get_distances(t) if d > distance[i]]))\n",
    "    return reduce(lambda x, y: x*y, opts)\n",
    "\n",
    "assert(part_one(example_input, example=True) == 288)"
   ]
  },
  {
   "cell_type": "code",
   "execution_count": 3,
   "metadata": {},
   "outputs": [
    {
     "data": {
      "text/plain": [
       "1108800"
      ]
     },
     "execution_count": 3,
     "metadata": {},
     "output_type": "execute_result"
    }
   ],
   "source": [
    "part_one(\"./inputs/day06.txt\")"
   ]
  },
  {
   "cell_type": "markdown",
   "metadata": {},
   "source": [
    "That's the right answer! You are one gold star ⭐ closer to restoring snow operations."
   ]
  },
  {
   "cell_type": "markdown",
   "metadata": {},
   "source": [
    "## Part Two\n",
    "\n",
    "Looks like it's only one race, as the spaces between numbers don't count!\n",
    "\n",
    "i.e. this\n",
    "\n",
    "```\n",
    "Time:      7  15   30\n",
    "Distance:  9  40  200\n",
    "```\n",
    "\n",
    "is really this:\n",
    "\n",
    "\n",
    "```\n",
    "Time:      71530\n",
    "Distance:  940200\n",
    "```"
   ]
  },
  {
   "cell_type": "code",
   "execution_count": 4,
   "metadata": {},
   "outputs": [],
   "source": [
    "def process_input_mod(input, example=False):\n",
    "    if example:\n",
    "        input_data = input.split(\"\\n\")\n",
    "    else:\n",
    "        with open(input) as f:\n",
    "            input_data = f.readlines()\n",
    "    \n",
    "    time = int(input_data[0].split(\":\")[1].strip().replace(\" \", \"\"))\n",
    "    distance = int(input_data[1].split(\":\")[1].strip().replace(\" \", \"\"))\n",
    "    return time, distance\n",
    "\n",
    "assert(process_input_mod(example_input, example=True) == (71530, 940200))"
   ]
  },
  {
   "cell_type": "code",
   "execution_count": 5,
   "metadata": {},
   "outputs": [],
   "source": [
    "def part_two(input, example=False):\n",
    "    time, distance = process_input_mod(input, example)\n",
    "    return len([d for d in get_distances(time) if d > distance])\n",
    "\n",
    "assert(part_two(example_input, example=True) == 71503)"
   ]
  },
  {
   "cell_type": "code",
   "execution_count": 6,
   "metadata": {},
   "outputs": [
    {
     "data": {
      "text/plain": [
       "36919753"
      ]
     },
     "execution_count": 6,
     "metadata": {},
     "output_type": "execute_result"
    }
   ],
   "source": [
    "part_two(\"./inputs/day06.txt\")"
   ]
  },
  {
   "cell_type": "markdown",
   "metadata": {},
   "source": [
    "That's the right answer! You are one gold star ⭐ closer to restoring snow operations."
   ]
  },
  {
   "cell_type": "markdown",
   "metadata": {},
   "source": [
    "Although I earned a star for that, this is a slow solution, there's definitely something to be done, using the symmetry and such. But since I am so much behind the days, I will be moving on for now!"
   ]
  }
 ],
 "metadata": {
  "kernelspec": {
   "display_name": "Python 3",
   "language": "python",
   "name": "python3"
  },
  "language_info": {
   "codemirror_mode": {
    "name": "ipython",
    "version": 3
   },
   "file_extension": ".py",
   "mimetype": "text/x-python",
   "name": "python",
   "nbconvert_exporter": "python",
   "pygments_lexer": "ipython3",
   "version": "3.10.12"
  }
 },
 "nbformat": 4,
 "nbformat_minor": 2
}
